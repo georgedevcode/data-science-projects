{
 "metadata": {
  "language_info": {
   "codemirror_mode": {
    "name": "ipython",
    "version": 3
   },
   "file_extension": ".py",
   "mimetype": "text/x-python",
   "name": "python",
   "nbconvert_exporter": "python",
   "pygments_lexer": "ipython3",
   "version": "3.7.2"
  },
  "orig_nbformat": 2,
  "kernelspec": {
   "name": "python372jvsc74a57bd0d3af183c887d61cf5f59dcc2eadf79a3a2c5755385d9e09309c4ac4222b8911a",
   "display_name": "Python 3.7.2 32-bit"
  },
  "metadata": {
   "interpreter": {
    "hash": "d3af183c887d61cf5f59dcc2eadf79a3a2c5755385d9e09309c4ac4222b8911a"
   }
  }
 },
 "nbformat": 4,
 "nbformat_minor": 2,
 "cells": [
  {
   "source": [
    "**The objective of this project is to practice data manipulation with Python and plotting data onto a map by using geolocation data from a CSV file, the dataset we are going to use for this project contains information about the earthquakes registered in Costa Rica from 1/31/2021 to 3/1/2021 with 40 data points describing: date, time, magnitud, deepth, location, latitude and longitude.*"
   ],
   "cell_type": "markdown",
   "metadata": {}
  },
  {
   "cell_type": "code",
   "execution_count": 1,
   "metadata": {},
   "outputs": [],
   "source": [
    "#Imports of the modules we are going to use\n",
    "import os\n",
    "import pandas as pd"
   ]
  },
  {
   "cell_type": "code",
   "execution_count": 2,
   "metadata": {},
   "outputs": [],
   "source": [
    "#This is the UNC path where the cr_earthquakes dataset lives, this is going to be our working path\n",
    "path = \"C:\\\\Users\\\\jocerdas\\\\OneDrive - Microsoft\\\\Documents\\\\Python\\Python Projects\\\\earthquakers\\\\cr_earthquakes\""
   ]
  },
  {
   "cell_type": "code",
   "execution_count": 3,
   "metadata": {},
   "outputs": [
    {
     "output_type": "execute_result",
     "data": {
      "text/plain": [
       "'c:\\\\Users\\\\jocerdas\\\\OneDrive - Microsoft\\\\Documents\\\\Python\\\\Python Projects\\\\earthquakers\\\\cr_earthquakes'"
      ]
     },
     "metadata": {},
     "execution_count": 3
    }
   ],
   "source": [
    "#We change the directory and confirm it was set correctly\n",
    "os.chdir(path)\n",
    "os.getcwd()"
   ]
  },
  {
   "cell_type": "code",
   "execution_count": 5,
   "metadata": {},
   "outputs": [
    {
     "output_type": "execute_result",
     "data": {
      "text/plain": [
       "       Fecha Hora Local  Magnitud  Profundidad en km  \\\n",
       "0  1/31/2021   16:36:34       3.9               12.0   \n",
       "1  1/31/2021   16:30:56       4.2               22.0   \n",
       "2  1/29/2021    6:41:34       6.0               15.0   \n",
       "3  1/29/2021    5:23:24       4.9               19.0   \n",
       "4  1/23/2021   16:15:00       3.4               35.0   \n",
       "5  1/21/2021    7:06:00       3.7                6.0   \n",
       "6  1/20/2021    1:17:00       4.1               25.0   \n",
       "7   1/8/2021   19:33:00       2.2                8.0   \n",
       "8   1/7/2021   12:48:00       2.5                6.0   \n",
       "9   1/6/2021   17:55:00       4.0               25.0   \n",
       "\n",
       "                                        Localizacion  Latitud  Longitud  \n",
       "0                       25 km SO de jac�, Puntarenas   9.5208  -84.8364  \n",
       "1                       28 km SO de Jac�, Puntarenas   9.4990  -84.8640  \n",
       "2  37.6 km hacia el Suroeste de Puerto Armuelles,...   7.9451  -82.9095  \n",
       "3  14.2 km al SurOeste de Limones, Punta Burica, ...   7.9623  -82.9021  \n",
       "4            9 km Nor Oeste de Tamarindo, Guanacaste  10.3423  -85.9112  \n",
       "5                2,3. km hacia el noroeste de Orosi.   9.8152  -83.8650  \n",
       "6     15 km Sur de la Cuesta de Corredores. Zona Sur   8.3412  -82.8522  \n",
       "7       2 km al Norte de San Antonio de Desamparados   9.9151  -84.0475  \n",
       "8                                      Deasamparados   9.8947  -84.0639  \n",
       "9          5 km al Noreste de Rivas de P�rez Zeled�n   9.4613  -83.6398  "
      ],
      "text/html": "<div>\n<style scoped>\n    .dataframe tbody tr th:only-of-type {\n        vertical-align: middle;\n    }\n\n    .dataframe tbody tr th {\n        vertical-align: top;\n    }\n\n    .dataframe thead th {\n        text-align: right;\n    }\n</style>\n<table border=\"1\" class=\"dataframe\">\n  <thead>\n    <tr style=\"text-align: right;\">\n      <th></th>\n      <th>Fecha</th>\n      <th>Hora Local</th>\n      <th>Magnitud</th>\n      <th>Profundidad en km</th>\n      <th>Localizacion</th>\n      <th>Latitud</th>\n      <th>Longitud</th>\n    </tr>\n  </thead>\n  <tbody>\n    <tr>\n      <th>0</th>\n      <td>1/31/2021</td>\n      <td>16:36:34</td>\n      <td>3.9</td>\n      <td>12.0</td>\n      <td>25 km SO de jac�, Puntarenas</td>\n      <td>9.5208</td>\n      <td>-84.8364</td>\n    </tr>\n    <tr>\n      <th>1</th>\n      <td>1/31/2021</td>\n      <td>16:30:56</td>\n      <td>4.2</td>\n      <td>22.0</td>\n      <td>28 km SO de Jac�, Puntarenas</td>\n      <td>9.4990</td>\n      <td>-84.8640</td>\n    </tr>\n    <tr>\n      <th>2</th>\n      <td>1/29/2021</td>\n      <td>6:41:34</td>\n      <td>6.0</td>\n      <td>15.0</td>\n      <td>37.6 km hacia el Suroeste de Puerto Armuelles,...</td>\n      <td>7.9451</td>\n      <td>-82.9095</td>\n    </tr>\n    <tr>\n      <th>3</th>\n      <td>1/29/2021</td>\n      <td>5:23:24</td>\n      <td>4.9</td>\n      <td>19.0</td>\n      <td>14.2 km al SurOeste de Limones, Punta Burica, ...</td>\n      <td>7.9623</td>\n      <td>-82.9021</td>\n    </tr>\n    <tr>\n      <th>4</th>\n      <td>1/23/2021</td>\n      <td>16:15:00</td>\n      <td>3.4</td>\n      <td>35.0</td>\n      <td>9 km Nor Oeste de Tamarindo, Guanacaste</td>\n      <td>10.3423</td>\n      <td>-85.9112</td>\n    </tr>\n    <tr>\n      <th>5</th>\n      <td>1/21/2021</td>\n      <td>7:06:00</td>\n      <td>3.7</td>\n      <td>6.0</td>\n      <td>2,3. km hacia el noroeste de Orosi.</td>\n      <td>9.8152</td>\n      <td>-83.8650</td>\n    </tr>\n    <tr>\n      <th>6</th>\n      <td>1/20/2021</td>\n      <td>1:17:00</td>\n      <td>4.1</td>\n      <td>25.0</td>\n      <td>15 km Sur de la Cuesta de Corredores. Zona Sur</td>\n      <td>8.3412</td>\n      <td>-82.8522</td>\n    </tr>\n    <tr>\n      <th>7</th>\n      <td>1/8/2021</td>\n      <td>19:33:00</td>\n      <td>2.2</td>\n      <td>8.0</td>\n      <td>2 km al Norte de San Antonio de Desamparados</td>\n      <td>9.9151</td>\n      <td>-84.0475</td>\n    </tr>\n    <tr>\n      <th>8</th>\n      <td>1/7/2021</td>\n      <td>12:48:00</td>\n      <td>2.5</td>\n      <td>6.0</td>\n      <td>Deasamparados</td>\n      <td>9.8947</td>\n      <td>-84.0639</td>\n    </tr>\n    <tr>\n      <th>9</th>\n      <td>1/6/2021</td>\n      <td>17:55:00</td>\n      <td>4.0</td>\n      <td>25.0</td>\n      <td>5 km al Noreste de Rivas de P�rez Zeled�n</td>\n      <td>9.4613</td>\n      <td>-83.6398</td>\n    </tr>\n  </tbody>\n</table>\n</div>"
     },
     "metadata": {},
     "execution_count": 5
    }
   ],
   "source": [
    "#Reading the dataset from the data.csv file\n",
    "df = pd.read_csv(\"data.csv\")\n",
    "df.head(10)"
   ]
  },
  {
   "cell_type": "code",
   "execution_count": 6,
   "metadata": {},
   "outputs": [],
   "source": [
    "#We dropped the column \"Localizacion\", since we are going to use the geopy library to find out the location based on the coordinates\n",
    "df = df.drop(columns=[\"Localizacion\"])"
   ]
  },
  {
   "cell_type": "code",
   "execution_count": 7,
   "metadata": {},
   "outputs": [
    {
     "output_type": "execute_result",
     "data": {
      "text/plain": [
       "       Fecha Hora Local  Magnitud  Profundidad en km  Latitud  Longitud\n",
       "0  1/31/2021   16:36:34       3.9               12.0   9.5208  -84.8364\n",
       "1  1/31/2021   16:30:56       4.2               22.0   9.4990  -84.8640\n",
       "2  1/29/2021    6:41:34       6.0               15.0   7.9451  -82.9095\n",
       "3  1/29/2021    5:23:24       4.9               19.0   7.9623  -82.9021\n",
       "4  1/23/2021   16:15:00       3.4               35.0  10.3423  -85.9112\n",
       "5  1/21/2021    7:06:00       3.7                6.0   9.8152  -83.8650\n",
       "6  1/20/2021    1:17:00       4.1               25.0   8.3412  -82.8522\n",
       "7   1/8/2021   19:33:00       2.2                8.0   9.9151  -84.0475\n",
       "8   1/7/2021   12:48:00       2.5                6.0   9.8947  -84.0639\n",
       "9   1/6/2021   17:55:00       4.0               25.0   9.4613  -83.6398"
      ],
      "text/html": "<div>\n<style scoped>\n    .dataframe tbody tr th:only-of-type {\n        vertical-align: middle;\n    }\n\n    .dataframe tbody tr th {\n        vertical-align: top;\n    }\n\n    .dataframe thead th {\n        text-align: right;\n    }\n</style>\n<table border=\"1\" class=\"dataframe\">\n  <thead>\n    <tr style=\"text-align: right;\">\n      <th></th>\n      <th>Fecha</th>\n      <th>Hora Local</th>\n      <th>Magnitud</th>\n      <th>Profundidad en km</th>\n      <th>Latitud</th>\n      <th>Longitud</th>\n    </tr>\n  </thead>\n  <tbody>\n    <tr>\n      <th>0</th>\n      <td>1/31/2021</td>\n      <td>16:36:34</td>\n      <td>3.9</td>\n      <td>12.0</td>\n      <td>9.5208</td>\n      <td>-84.8364</td>\n    </tr>\n    <tr>\n      <th>1</th>\n      <td>1/31/2021</td>\n      <td>16:30:56</td>\n      <td>4.2</td>\n      <td>22.0</td>\n      <td>9.4990</td>\n      <td>-84.8640</td>\n    </tr>\n    <tr>\n      <th>2</th>\n      <td>1/29/2021</td>\n      <td>6:41:34</td>\n      <td>6.0</td>\n      <td>15.0</td>\n      <td>7.9451</td>\n      <td>-82.9095</td>\n    </tr>\n    <tr>\n      <th>3</th>\n      <td>1/29/2021</td>\n      <td>5:23:24</td>\n      <td>4.9</td>\n      <td>19.0</td>\n      <td>7.9623</td>\n      <td>-82.9021</td>\n    </tr>\n    <tr>\n      <th>4</th>\n      <td>1/23/2021</td>\n      <td>16:15:00</td>\n      <td>3.4</td>\n      <td>35.0</td>\n      <td>10.3423</td>\n      <td>-85.9112</td>\n    </tr>\n    <tr>\n      <th>5</th>\n      <td>1/21/2021</td>\n      <td>7:06:00</td>\n      <td>3.7</td>\n      <td>6.0</td>\n      <td>9.8152</td>\n      <td>-83.8650</td>\n    </tr>\n    <tr>\n      <th>6</th>\n      <td>1/20/2021</td>\n      <td>1:17:00</td>\n      <td>4.1</td>\n      <td>25.0</td>\n      <td>8.3412</td>\n      <td>-82.8522</td>\n    </tr>\n    <tr>\n      <th>7</th>\n      <td>1/8/2021</td>\n      <td>19:33:00</td>\n      <td>2.2</td>\n      <td>8.0</td>\n      <td>9.9151</td>\n      <td>-84.0475</td>\n    </tr>\n    <tr>\n      <th>8</th>\n      <td>1/7/2021</td>\n      <td>12:48:00</td>\n      <td>2.5</td>\n      <td>6.0</td>\n      <td>9.8947</td>\n      <td>-84.0639</td>\n    </tr>\n    <tr>\n      <th>9</th>\n      <td>1/6/2021</td>\n      <td>17:55:00</td>\n      <td>4.0</td>\n      <td>25.0</td>\n      <td>9.4613</td>\n      <td>-83.6398</td>\n    </tr>\n  </tbody>\n</table>\n</div>"
     },
     "metadata": {},
     "execution_count": 7
    }
   ],
   "source": [
    "#Confirm the column \"Localizacion\" was dropped\n",
    "df.head(10)"
   ]
  },
  {
   "cell_type": "code",
   "execution_count": 8,
   "metadata": {},
   "outputs": [],
   "source": [
    "#let's rename the columns from Spanish to English\n",
    "df = df.rename(columns={\"Fecha\":\"Date\",\"Hora Local\":\"Local Time\",\"Magnitud\":\"Magnitude\",\"Profundidad en km\":\"Deepth(KM)\", \"Latitud\":\"Latitude\", \"Longitud\":\"Longitude\"})"
   ]
  },
  {
   "cell_type": "code",
   "execution_count": 9,
   "metadata": {},
   "outputs": [
    {
     "output_type": "execute_result",
     "data": {
      "text/plain": [
       "        Date Local Time  Magnitude  Deepth(KM)  Latitude  Longitude\n",
       "0  1/31/2021   16:36:34        3.9        12.0    9.5208   -84.8364\n",
       "1  1/31/2021   16:30:56        4.2        22.0    9.4990   -84.8640\n",
       "2  1/29/2021    6:41:34        6.0        15.0    7.9451   -82.9095\n",
       "3  1/29/2021    5:23:24        4.9        19.0    7.9623   -82.9021\n",
       "4  1/23/2021   16:15:00        3.4        35.0   10.3423   -85.9112\n",
       "5  1/21/2021    7:06:00        3.7         6.0    9.8152   -83.8650\n",
       "6  1/20/2021    1:17:00        4.1        25.0    8.3412   -82.8522\n",
       "7   1/8/2021   19:33:00        2.2         8.0    9.9151   -84.0475\n",
       "8   1/7/2021   12:48:00        2.5         6.0    9.8947   -84.0639\n",
       "9   1/6/2021   17:55:00        4.0        25.0    9.4613   -83.6398"
      ],
      "text/html": "<div>\n<style scoped>\n    .dataframe tbody tr th:only-of-type {\n        vertical-align: middle;\n    }\n\n    .dataframe tbody tr th {\n        vertical-align: top;\n    }\n\n    .dataframe thead th {\n        text-align: right;\n    }\n</style>\n<table border=\"1\" class=\"dataframe\">\n  <thead>\n    <tr style=\"text-align: right;\">\n      <th></th>\n      <th>Date</th>\n      <th>Local Time</th>\n      <th>Magnitude</th>\n      <th>Deepth(KM)</th>\n      <th>Latitude</th>\n      <th>Longitude</th>\n    </tr>\n  </thead>\n  <tbody>\n    <tr>\n      <th>0</th>\n      <td>1/31/2021</td>\n      <td>16:36:34</td>\n      <td>3.9</td>\n      <td>12.0</td>\n      <td>9.5208</td>\n      <td>-84.8364</td>\n    </tr>\n    <tr>\n      <th>1</th>\n      <td>1/31/2021</td>\n      <td>16:30:56</td>\n      <td>4.2</td>\n      <td>22.0</td>\n      <td>9.4990</td>\n      <td>-84.8640</td>\n    </tr>\n    <tr>\n      <th>2</th>\n      <td>1/29/2021</td>\n      <td>6:41:34</td>\n      <td>6.0</td>\n      <td>15.0</td>\n      <td>7.9451</td>\n      <td>-82.9095</td>\n    </tr>\n    <tr>\n      <th>3</th>\n      <td>1/29/2021</td>\n      <td>5:23:24</td>\n      <td>4.9</td>\n      <td>19.0</td>\n      <td>7.9623</td>\n      <td>-82.9021</td>\n    </tr>\n    <tr>\n      <th>4</th>\n      <td>1/23/2021</td>\n      <td>16:15:00</td>\n      <td>3.4</td>\n      <td>35.0</td>\n      <td>10.3423</td>\n      <td>-85.9112</td>\n    </tr>\n    <tr>\n      <th>5</th>\n      <td>1/21/2021</td>\n      <td>7:06:00</td>\n      <td>3.7</td>\n      <td>6.0</td>\n      <td>9.8152</td>\n      <td>-83.8650</td>\n    </tr>\n    <tr>\n      <th>6</th>\n      <td>1/20/2021</td>\n      <td>1:17:00</td>\n      <td>4.1</td>\n      <td>25.0</td>\n      <td>8.3412</td>\n      <td>-82.8522</td>\n    </tr>\n    <tr>\n      <th>7</th>\n      <td>1/8/2021</td>\n      <td>19:33:00</td>\n      <td>2.2</td>\n      <td>8.0</td>\n      <td>9.9151</td>\n      <td>-84.0475</td>\n    </tr>\n    <tr>\n      <th>8</th>\n      <td>1/7/2021</td>\n      <td>12:48:00</td>\n      <td>2.5</td>\n      <td>6.0</td>\n      <td>9.8947</td>\n      <td>-84.0639</td>\n    </tr>\n    <tr>\n      <th>9</th>\n      <td>1/6/2021</td>\n      <td>17:55:00</td>\n      <td>4.0</td>\n      <td>25.0</td>\n      <td>9.4613</td>\n      <td>-83.6398</td>\n    </tr>\n  </tbody>\n</table>\n</div>"
     },
     "metadata": {},
     "execution_count": 9
    }
   ],
   "source": [
    "#Confirmed our columns were renamed correctly\n",
    "df.head(10)"
   ]
  },
  {
   "cell_type": "code",
   "execution_count": 10,
   "metadata": {},
   "outputs": [],
   "source": [
    "#Since the geopy reverse() function only accepts an unique string containing the latitude and longitude for the coordinates, then; let's create a column called Coordinates and let's concatenate the values for latitude and longitude and convert them to strings.\n",
    "df[\"Coordinates\"] = df[\"Latitude\"].astype(str) + \", \" + df[\"Longitude\"].astype(str)"
   ]
  },
  {
   "cell_type": "code",
   "execution_count": 11,
   "metadata": {},
   "outputs": [
    {
     "output_type": "execute_result",
     "data": {
      "text/plain": [
       "        Date Local Time  Magnitude  Deepth(KM)  Latitude  Longitude  \\\n",
       "0  1/31/2021   16:36:34        3.9        12.0    9.5208   -84.8364   \n",
       "1  1/31/2021   16:30:56        4.2        22.0    9.4990   -84.8640   \n",
       "2  1/29/2021    6:41:34        6.0        15.0    7.9451   -82.9095   \n",
       "3  1/29/2021    5:23:24        4.9        19.0    7.9623   -82.9021   \n",
       "4  1/23/2021   16:15:00        3.4        35.0   10.3423   -85.9112   \n",
       "\n",
       "         Coordinates  \n",
       "0   9.5208, -84.8364  \n",
       "1     9.499, -84.864  \n",
       "2   7.9451, -82.9095  \n",
       "3   7.9623, -82.9021  \n",
       "4  10.3423, -85.9112  "
      ],
      "text/html": "<div>\n<style scoped>\n    .dataframe tbody tr th:only-of-type {\n        vertical-align: middle;\n    }\n\n    .dataframe tbody tr th {\n        vertical-align: top;\n    }\n\n    .dataframe thead th {\n        text-align: right;\n    }\n</style>\n<table border=\"1\" class=\"dataframe\">\n  <thead>\n    <tr style=\"text-align: right;\">\n      <th></th>\n      <th>Date</th>\n      <th>Local Time</th>\n      <th>Magnitude</th>\n      <th>Deepth(KM)</th>\n      <th>Latitude</th>\n      <th>Longitude</th>\n      <th>Coordinates</th>\n    </tr>\n  </thead>\n  <tbody>\n    <tr>\n      <th>0</th>\n      <td>1/31/2021</td>\n      <td>16:36:34</td>\n      <td>3.9</td>\n      <td>12.0</td>\n      <td>9.5208</td>\n      <td>-84.8364</td>\n      <td>9.5208, -84.8364</td>\n    </tr>\n    <tr>\n      <th>1</th>\n      <td>1/31/2021</td>\n      <td>16:30:56</td>\n      <td>4.2</td>\n      <td>22.0</td>\n      <td>9.4990</td>\n      <td>-84.8640</td>\n      <td>9.499, -84.864</td>\n    </tr>\n    <tr>\n      <th>2</th>\n      <td>1/29/2021</td>\n      <td>6:41:34</td>\n      <td>6.0</td>\n      <td>15.0</td>\n      <td>7.9451</td>\n      <td>-82.9095</td>\n      <td>7.9451, -82.9095</td>\n    </tr>\n    <tr>\n      <th>3</th>\n      <td>1/29/2021</td>\n      <td>5:23:24</td>\n      <td>4.9</td>\n      <td>19.0</td>\n      <td>7.9623</td>\n      <td>-82.9021</td>\n      <td>7.9623, -82.9021</td>\n    </tr>\n    <tr>\n      <th>4</th>\n      <td>1/23/2021</td>\n      <td>16:15:00</td>\n      <td>3.4</td>\n      <td>35.0</td>\n      <td>10.3423</td>\n      <td>-85.9112</td>\n      <td>10.3423, -85.9112</td>\n    </tr>\n  </tbody>\n</table>\n</div>"
     },
     "metadata": {},
     "execution_count": 11
    }
   ],
   "source": [
    "#Now we can see the column Coordinates holding both latitude and longitude but a strings\n",
    "df.head()"
   ]
  },
  {
   "source": [
    "Let's use the Geopy library to figure out from the coordinates the location where the earthquake was registered\n",
    "https://pypi.org/project/geopy/\n"
   ],
   "cell_type": "markdown",
   "metadata": {}
  },
  {
   "cell_type": "code",
   "execution_count": 12,
   "metadata": {},
   "outputs": [],
   "source": [
    "#Importing the geopy library\n",
    "from geopy.geocoders import Nominatim"
   ]
  },
  {
   "cell_type": "code",
   "execution_count": 12,
   "metadata": {},
   "outputs": [],
   "source": [
    "#This empty list will hold each location found based on the coordinates\n",
    "location = []"
   ]
  },
  {
   "cell_type": "code",
   "execution_count": 13,
   "metadata": {},
   "outputs": [],
   "source": [
    "geolocator = Nominatim(user_agent=\"Earthquakes in CR\")"
   ]
  },
  {
   "cell_type": "code",
   "execution_count": 15,
   "metadata": {
    "tags": []
   },
   "outputs": [
    {
     "output_type": "stream",
     "name": "stdout",
     "text": [
      "0 None\n",
      "1 None\n",
      "2 Chiriquí, Panamá\n",
      "3 Chiriquí, Panamá\n",
      "4 Carillo, Provincia Guanacaste, 50302, Costa Rica\n",
      "5 Vía 224, Dulce Nombre, Cantón Cartago, Provincia Cartago, 30109, Costa Rica\n",
      "6 Finca Guayacán, Rodolfo Aguilar Delgado, Distrito Barú, Chiriquí, Panamá\n",
      "7 Avenida 42, Precario Barrio Nuevo, Curridabat, Cantón Curridabat, Provincia San José, 11801, Costa Rica\n",
      "8 PALI, Avenida 88, Barrio Fallas, Desamparados, Cantón Desamparados, Provincia San José, 10301, Costa Rica\n",
      "9 San José, Rivas, Cantón Pérez Zeledón, Provincia San José, 11904, Costa Rica\n",
      "10 Flor del Roble de Coto Brus, Gutiérrez Braun, Cantón Coto Brus, Provincia Puntarenas, 60806, Costa Rica\n",
      "11 Barú, Cantón Pérez Zeledón, Provincia San José, 11909, Costa Rica\n",
      "12 Provincia Puntarenas, Costa Rica\n",
      "13 Calle 47, Lomas de San Francisco, San Francisco de Dos Ríos, San José, Cantón San José, Provincia San José, 10106, Costa Rica\n",
      "14 La Rosticería, Vía 210, Barrio La Colina, San Antonio, Cantón Desamparados, Provincia San José, 11804, Costa Rica\n",
      "15 Plaza Deportes Monteclaro, Calle Francisco Núñez, Barrio Centro de Amigos, Desamparados, Cantón Desamparados, Provincia San José, 10301, Costa Rica\n",
      "16 Cedral, Colón, Cantón Mora, Provincia San José, 10701, Costa Rica\n",
      "17 None\n",
      "18 Rivas, Cantón Pérez Zeledón, Provincia San José, 11904, Costa Rica\n",
      "19 Calle Toledo - Bajo Cerdas, Toledo, Guaitil, Cantón Acosta, Provincia San José, 11202, Costa Rica\n",
      "20 None\n",
      "21 Vía 234, Barrio el Progreso, Barrio La Guaria, Pandora, Valle La Estrella, Cantón Limón, Provincia Limón, 70102, Costa Rica\n",
      "22 Bajo Cárdenas, Guaitil, Cantón Acosta, Provincia San José, 11202, Costa Rica\n",
      "23 Calle Toledo - Bajo Cerdas, Toledo, Guaitil, Cantón Acosta, Provincia San José, 11202, Costa Rica\n",
      "24 Provincia Puntarenas, Costa Rica\n",
      "25 Provincia Puntarenas, Costa Rica\n",
      "26 Cascabel, Caldera, Cantón Esparza, Provincia Puntarenas, 60206, Costa Rica\n",
      "27 Canaan, Rivas, Cantón Pérez Zeledón, Provincia San José, 11904, Costa Rica\n",
      "28 Rivas, Cantón Pérez Zeledón, Provincia San José, 11904, Costa Rica\n",
      "29 Chuma, Rivas, Cantón Pérez Zeledón, Provincia San José, 11904, Costa Rica\n",
      "30 Calle Río Tigre, El Bambú, Puerto Jiménez, Cantón Golfito, Provincia Puntarenas, 60702, Costa Rica\n",
      "31 Vía 805, Barrio Veinticuatro Millas, Matina, Cantón Matina, Provincia Limón, 70501, Costa Rica\n",
      "32 None\n",
      "33 Tabarcia, Cantón Mora, Provincia San José, 10703, Costa Rica\n",
      "34 Orosi, Cantón Paraíso, Provincia Cartago, 30203, Costa Rica\n",
      "35 Calle Punta de Mira, Punto de Mira, Savegre, Cantón Quepos, Provincia Puntarenas, 60602, Costa Rica\n",
      "36 Provincia Puntarenas, Costa Rica\n",
      "37 Calle Punta de Mira, Punto de Mira, Savegre, Cantón Quepos, Provincia Puntarenas, 60602, Costa Rica\n",
      "38 Calle Violeta, San Cristobal Sur, San Cristóbal, Cantón Desamparados, Provincia San José, 10308, Costa Rica\n",
      "39 Vía 226, San Cristobal Sur, San Cristóbal, Cantón Desamparados, Provincia San José, 10308, Costa Rica\n",
      "40 León (Municipio), León, 21000, Nicaragua\n",
      "41 Río Hondo, San Carlos, Pacuarito, Cantón Siquirres, Provincia Limón, 70302, Costa Rica\n",
      "42 Carara, Cantón Turrubares, Provincia San José, 11605, Costa Rica\n",
      "43 Mansión, Cantón Nicoya, Provincia Guanacaste, 50202, Costa Rica\n",
      "44 Calle Cedral - San Martín, San Martín, Santa Cruz, Cantón León Cortés Castro, Provincia San José, 12005, Costa Rica\n",
      "45 Plaza Deportes La Lucha, Calle San Martín - La Lucha, Santa Cruz, Cantón León Cortés Castro, Provincia San José, 12005, Costa Rica\n",
      "46 Coris, Quebradilla, Cantón Cartago, Provincia Cartago, 30111, Costa Rica\n",
      "47 Varablanca, Cantón Heredia, Provincia Heredia, 40105, Costa Rica\n",
      "48 Provincia Puntarenas, Costa Rica\n",
      "49 Las Horquetas, Cantón Sarapiquí, Provincia Heredia, 41003, Costa Rica\n",
      "50 None\n",
      "51 None\n",
      "52 None\n",
      "53 Alto Cacao, Chánguena, Cantón Buenos Aires, Provincia Puntarenas, 60307, Costa Rica\n",
      "54 None\n",
      "55 Avenida 32, Barrio Rincón San Marcos, Piedades, Cantón Santa Ana, Provincia San José, 10905, Costa Rica\n",
      "56 None\n",
      "57 None\n",
      "58 Barrio Tejarcillos, San Felipe, Cantón Alajuelita, Provincia San José, 11005, Costa Rica\n",
      "59 La Rambla, Las Horquetas, Cantón Sarapiquí, Provincia Heredia, 41003, Costa Rica\n",
      "60 None\n",
      "61 None\n",
      "62 Avenida 2, Barrio Caraña, Piedades, Cantón Santa Ana, Provincia San José, 10905, Costa Rica\n",
      "63 Calle 80, Barrio Rincón San Marcos, Piedades, Cantón Santa Ana, Provincia San José, 10905, Costa Rica\n",
      "64 Avenida 7, La Lima, Taras, San Nicolás, Cantón Cartago, Provincia Cartago, 30104, Costa Rica\n",
      "65 Provincia Puntarenas, Costa Rica\n",
      "66 Provincia Puntarenas, Costa Rica\n",
      "67 Vía 219, Vista Hermosa, San Rafael, Cantón Oreamuno, Provincia Cartago, 30701, Costa Rica\n",
      "68 Bagaces, Cantón Bagaces, Provincia Guanacaste, 50401, Costa Rica\n",
      "69 La Estrella, Vara del Roble, San Isidro, Cantón El Guarco, Provincia Cartago, 30802, Costa Rica\n",
      "70 Montezuma, Cóbano, Cantón Puntarenas, Provincia Puntarenas, 60111, Costa Rica\n",
      "71 Calle Las Vueltas, Río Blanco, Copey, Cantón Dota, Provincia San José, 11703, Costa Rica\n",
      "72 Calle Ruta Maleku, Barrio Carlos Vargas, Bijagua, Cantón Upala, Provincia Alajuela, 21304, Costa Rica\n",
      "73 Provincia Puntarenas, Costa Rica\n",
      "74 Vía 224, Urbanizacion Loaiza, Cachí, Cantón Paraíso, Provincia Cartago, 30204, Costa Rica\n",
      "75 Calle Boniche, Tortugal, Las Juntas, Cantón Abangares, Provincia Guanacaste, 50701, Costa Rica\n",
      "76 Alto Cacao, Chánguena, Cantón Buenos Aires, Provincia Puntarenas, 60307, Costa Rica\n",
      "77 San Josecito, Golfito, Cantón Golfito, Provincia Puntarenas, 60701, Costa Rica\n",
      "78 El Palmar, Puerto Armuelles, Distrito Barú, Chiriquí, 0426, Panamá\n",
      "79 None\n",
      "80 Río Macho, Orosi, Cantón Paraíso, Provincia Cartago, 30203, Costa Rica\n",
      "81 San Francisco, Rivas, Cantón Pérez Zeledón, Provincia San José, 11904, Costa Rica\n",
      "82 Barrio Esquipulas 2, San Felipe, Cantón Alajuelita, Provincia San José, 11005, Costa Rica\n",
      "83 Vía 920, La Guinea, Filadelfia, Cantón Carrillo, Provincia Guanacaste, 50501, Costa Rica\n",
      "84 Calle La Legua, Mastate, San Juan, Cantón Poás, Provincia Alajuela, 20802, Costa Rica\n",
      "85 Calle Los Chinchilla, Barrio San Isidro, Guayabo, Cantón Mora, Provincia San José, 10702, Costa Rica\n",
      "86 Dulce Nombre, Cantón Cartago, Provincia Cartago, 30109, Costa Rica\n",
      "87 San Josecito, Golfito, Cantón Golfito, Provincia Puntarenas, 60701, Costa Rica\n",
      "88 Resid. Tango Mar, Cóbano, Cantón Puntarenas, Provincia Puntarenas, 60111, Costa Rica\n",
      "89 Provincia Limón, Costa Rica\n",
      "90 None\n",
      "91 La Isabel, Cantón Turrialba, Provincia Cartago, 30511, Costa Rica\n",
      "92 None\n",
      "93 Calle Buenos Aires, Buenos Aires, Naranjito, Cantón Quepos, Provincia Puntarenas, 60603, Costa Rica\n",
      "94 Provincia Puntarenas, Costa Rica\n",
      "95 Río Nuevo, Cantón Pérez Zeledón, Provincia San José, 11910, Costa Rica\n",
      "96 Calle Dindirí, Carbón 1, Cahuita, Cantón Talamanca, Provincia Limón, 70403, Costa Rica\n",
      "97 Provincia Guanacaste, Costa Rica\n",
      "98 Quircot, Taras, San Nicolás, Cantón Cartago, Provincia Cartago, 30104, Costa Rica\n",
      "99 Avenida 61, Quircot, San Nicolás, Cantón Cartago, Provincia Cartago, 30104, Costa Rica\n",
      "100 Calle Tiquires - Ceiba Este, Cangrejal, Cantón Acosta, Provincia San José, 11204, Costa Rica\n",
      "101 None\n",
      "102 None\n",
      "103 San Isidro, Cantón El Guarco, Provincia Cartago, 30802, Costa Rica\n",
      "104 Provincia Puntarenas, Costa Rica\n",
      "105 Pulpería, Vía 177, Barrio Peralta, San Felipe, Cantón Alajuelita, Provincia San José, 11005, Costa Rica\n",
      "106 None\n",
      "107 La Cima, Carara, Cantón Turrubares, Provincia San José, 11605, Costa Rica\n",
      "108 None\n",
      "109 None\n",
      "110 Guayabo Arriba, Santa Cruz, Cantón Turrialba, Provincia Cartago, 30504, Costa Rica\n",
      "111 Provincia Puntarenas, Costa Rica\n",
      "112 Copey, Cantón Dota, Provincia San José, 11703, Costa Rica\n",
      "113 None\n",
      "114 Calle 131, Urb. La Melinda, Ipís, Cantón Goicoechea, Provincia San José, 10805, Costa Rica\n",
      "115 Paso Hondo, Bebedero, Cantón Cañas, Provincia Guanacaste, 50604, Costa Rica\n",
      "116 Chirripó, Cantón Turrialba, Provincia Cartago, 30512, Costa Rica\n",
      "117 Provincia Puntarenas, Costa Rica\n",
      "118 Calle La Hilda, Jacó, Cantón Garabito, Provincia Puntarenas, 61101, Costa Rica\n",
      "119 Calle Ruiseñor, Platanares, San Jerónimo, Cantón Moravia, Provincia San José, 11402, Costa Rica\n",
      "120 Calle Tiquires - Ceiba Este, Cangrejal, Cantón Acosta, Provincia San José, 11204, Costa Rica\n",
      "121 San Ramón Sur, Páramo, Cantón Pérez Zeledón, Provincia San José, 11911, Costa Rica\n",
      "122 Boca del Río Matina, Carrandi, Cantón Matina, Provincia Limón, 70503, Costa Rica\n",
      "123 Sendero El Roble, Potrero Cerrado, Cantón Oreamuno, Provincia Cartago, 30703, Costa Rica\n",
      "124 Calle Cerro El Nene, Santa Marta, Naranjito, Cantón Quepos, Provincia Puntarenas, 60603, Costa Rica\n",
      "125 Calle Piedades, Bajo Campos, Piedades, Barbacoas, Cantón Puriscal, Provincia San José, 10403, Costa Rica\n",
      "126 Calle Hacienda Camello, Grifo Alto, Cantón Puriscal, Provincia San José, 10404, Costa Rica\n",
      "127 Calle Cerro El Nene, Santa Marta, Naranjito, Cantón Quepos, Provincia Puntarenas, 60603, Costa Rica\n",
      "128 Entrada De San San, Guabito, Distrito Changuinola, Bocas del Toro, Panamá\n",
      "129 None\n",
      "130 Avenida 54, Barrio Chirracal, Salitral, Cantón Santa Ana, Provincia San José, 10902, Costa Rica\n",
      "131 Diagonal 68, Barrio Mantinilla, Salitral, Cantón Santa Ana, Provincia San José, 10902, Costa Rica\n",
      "132 Mirador La Ventolera, Calle 35, Barrio Bebedero, San Antonio, Cantón Escazú, Provincia San José, 10202, Costa Rica\n",
      "133 Calle Los Amigos, Barrio Guayabos, San Antonio, Cantón Escazú, Provincia San José, 10202, Costa Rica\n",
      "134 Planetarium, Comarca Chiquilistagua, Distrito III, Managua (Municipio), Departamento de Managua, 10000 (CODIGO MAESTRO), Nicaragua\n",
      "135 Calle Vieja La Angostura, Bajo Los Ángeles, San Andrés, Cantón León Cortés Castro, Provincia San José, 12002, Costa Rica\n",
      "136 None\n",
      "137 Bajo Chires, Chires, Cantón Puriscal, Provincia San José, 10409, Costa Rica\n",
      "138 Urb. Lomas del Bosque, Los Guido, Cantón Desamparados, Provincia San José, 10313, Costa Rica\n",
      "139 Calle 7, Barrio Mantinilla, Salitral, Cantón Santa Ana, Provincia San José, 10902, Costa Rica\n",
      "140 Resid. Orowe, Los Guido, Cantón Desamparados, Provincia San José, 10313, Costa Rica\n",
      "141 Calle 7, Barrio Mantinilla, Salitral, Cantón Santa Ana, Provincia San José, 10902, Costa Rica\n",
      "142 Orosi, Cantón Paraíso, Provincia Cartago, 30203, Costa Rica\n",
      "143 Calle San Andrés - Pregregoso - Higuerón, San Andrés, Cantón León Cortés Castro, Provincia San José, 12002, Costa Rica\n",
      "144 Urb. Los Robles, Los Guido, Cantón Desamparados, Provincia San José, 10313, Costa Rica\n",
      "145 None\n",
      "146 Calle Cangrejal - Tiquires, Escuadra, Cangrejal, Cantón Acosta, Provincia San José, 11204, Costa Rica\n",
      "147 Tobosi, Cantón El Guarco, Provincia Cartago, 30803, Costa Rica\n",
      "148 Provincia Puntarenas, Costa Rica\n",
      "149 Aguacaliente, Cantón Cartago, Provincia Cartago, 30105, Costa Rica\n",
      "150 Vara del Roble, San Isidro, Cantón El Guarco, Provincia Cartago, 30802, Costa Rica\n",
      "151 Calle 78, Barrio El Triunfo, Piedades, Cantón Santa Ana, Provincia San José, 10905, Costa Rica\n",
      "152 Provincia Puntarenas, Costa Rica\n",
      "153 Barrio Lourdes, Aserrí, Cantón Aserrí, Provincia San José, 10601, Costa Rica\n",
      "154 Calle Los Plancitos, Rodolfo Aguilar Delgado, Distrito Barú, Chiriquí, Panamá\n",
      "155 Calle 28, Piedades, Cantón Santa Ana, Provincia San José, 10905, Costa Rica\n",
      "156 Barrio Montaña del Sol, Piedades, Cantón Santa Ana, Provincia San José, 10905, Costa Rica\n",
      "157 Provincia Puntarenas, Costa Rica\n",
      "158 Calle Los Plancitos, Laurel, Cantón Corredores, Provincia Puntarenas, 61004, Costa Rica\n",
      "159 Calle Alto Conte, Barrio Las Brisas, Progreso, Conte, Pavón, Cantón Golfito, Provincia Puntarenas, 60704, Costa Rica\n",
      "160 None\n",
      "161 Llano La Virgen, San Carlos, Cantón Tarrazú, Provincia San José, 10503, Costa Rica\n",
      "162 Calle Los Carones, Pavón, Cantón Golfito, Provincia Puntarenas, 60704, Costa Rica\n",
      "163 Calle Los Carones, Pavón, Cantón Golfito, Provincia Puntarenas, 60704, Costa Rica\n",
      "164 Calle Alto Guaymí, Alto Guaymí, Pavón, Cantón Golfito, Provincia Puntarenas, 60704, Costa Rica\n",
      "165 Provincia Puntarenas, Costa Rica\n",
      "166 Quebrada de Sábalos, Puerto Armuelles, Distrito Barú, Chiriquí, Panamá\n",
      "167 Calle Alto Carona, Alto Carona, Pavón, Cantón Golfito, Provincia Puntarenas, 60704, Costa Rica\n",
      "168 Pavón, Cantón Golfito, Provincia Puntarenas, 60704, Costa Rica\n",
      "169 Plaza Deportes El Valle, Calle El Valle, El Valle, Pavón, Cantón Golfito, Provincia Puntarenas, 60704, Costa Rica\n",
      "170 Cuesta Los Carones, Pavón, Cantón Golfito, Provincia Puntarenas, 60704, Costa Rica\n",
      "171 La Peña, Pavón, Cantón Golfito, Provincia Puntarenas, 60704, Costa Rica\n",
      "172 Provincia Puntarenas, Costa Rica\n",
      "173 Agua Fría, Puerto Armuelles, Distrito Barú, Chiriquí, Panamá\n",
      "174 None\n",
      "175 Barrio Montaña del Sol, Piedades, Cantón Santa Ana, Provincia San José, 10905, Costa Rica\n",
      "176 Provincia Puntarenas, Costa Rica\n",
      "177 None\n",
      "178 Rivas (Municipio), Rivas, 47000, Nicaragua\n",
      "179 Calle Cedral, Colón, Cantón Mora, Provincia San José, 10701, Costa Rica\n",
      "180 Quebrada de Sábalos, Puerto Armuelles, Distrito Barú, Chiriquí, Panamá\n",
      "181 Calle Matasanos, San Isidro de El General, Cantón Pérez Zeledón, Provincia San José, 11901, Costa Rica\n",
      "182 Diagonal 26, Barrio Montaña del Sol, Piedades, Cantón Santa Ana, Provincia San José, 10905, Costa Rica\n",
      "183 Tres Equis, Cantón Turrialba, Provincia Cartago, 30510, Costa Rica\n",
      "184 Calle Río Picagres, Piedras Negras, Cantón Mora, Provincia San José, 10704, Costa Rica\n",
      "185 Vía 10, Tres Equis, Cantón Turrialba, Provincia Cartago, 30510, Costa Rica\n",
      "186 Calle Tigrito, Tigrito, Pavón, Cantón Golfito, Provincia Puntarenas, 60704, Costa Rica\n",
      "187 Corredor, Cantón Corredores, Provincia Puntarenas, 61001, Costa Rica\n",
      "188 Barrio Montaña del Sol, Piedades, Cantón Santa Ana, Provincia San José, 10905, Costa Rica\n",
      "189 Colonia Guayabo, Santa Teresita, Cantón Turrialba, Provincia Cartago, 30505, Costa Rica\n",
      "190 Bejuco, Parrita, Cantón Parrita, Provincia Puntarenas, 60901, Costa Rica\n",
      "191 Vía 146, La Pradera, Sabana Redonda, Cantón Poás, Provincia Alajuela, 20805, Costa Rica\n",
      "192 San Juan de Nicaragua (Greytown), Río San Juan, 92500, Nicaragua\n",
      "193 Avenida 40, Barrio Montaña del Sol, Piedades, Cantón Santa Ana, Provincia San José, 10905, Costa Rica\n",
      "194 Rivas (Municipio), Rivas, 47000, Nicaragua\n",
      "195 Potrero Cerrado, Cantón Oreamuno, Provincia Cartago, 30703, Costa Rica\n",
      "196 Belén (Municipio), Rivas, 48400, Nicaragua\n",
      "197 Belén de Nosarita, Cantón Nicoya, Provincia Guanacaste, 50207, Costa Rica\n",
      "198 Aguacaliente, Cantón Cartago, Provincia Cartago, 30105, Costa Rica\n",
      "199 Avenida Domingo Sarmiento, Luján, Catedral, San José, Cantón San José, Provincia San José, 10104, Costa Rica\n",
      "200 Provincia Puntarenas, Costa Rica\n",
      "201 Varablanca, Cantón Heredia, Provincia Heredia, 40105, Costa Rica\n",
      "202 Calle Finca Orgánica, Copey, Cantón Dota, Provincia San José, 11703, Costa Rica\n",
      "203 Pizzería, Calle Quintana Norte, Quintana Sur, San Pablo, Cantón San Pablo, Provincia Heredia, 40901, Costa Rica\n",
      "204 Calle Turales, Concepción, Cantón San Rafael, Provincia Heredia, 40505, Costa Rica\n",
      "205 Provincia Puntarenas, Costa Rica\n",
      "206 Santa Lucía, Río Nuevo, Cantón Pérez Zeledón, Provincia San José, 11910, Costa Rica\n",
      "207 Provincia Puntarenas, Costa Rica\n",
      "208 La Unión, Cuajiniquil, Cantón Santa Cruz, Provincia Guanacaste, 50306, Costa Rica\n",
      "209 None\n",
      "210 Calle El Sitio, Orosi, Cantón Paraíso, Provincia Cartago, 30203, Costa Rica\n",
      "211 Calle El Sitio, Orosi, Cantón Paraíso, Provincia Cartago, 30203, Costa Rica\n",
      "212 Manaca Civil, Rodolfo Aguilar Delgado, Distrito Barú, Chiriquí, Panamá\n",
      "213 Transversal 52, Barrio Caraña, Piedades, Cantón Santa Ana, Provincia San José, 10905, Costa Rica\n",
      "214 None\n",
      "215 None\n",
      "216 Calle Incendio, Río Incendio, Bella Luz de La Vaca, Laurel, Cantón Corredores, Provincia Puntarenas, 61004, Costa Rica\n",
      "217 Plaza Deportes Kilómetro 29, Vía 608, Kilómetro 27, Kilómetro 29, Laurel, Cantón Corredores, Provincia Puntarenas, 61004, Costa Rica\n",
      "218 Calle Monteverde, Laurel, Cantón Corredores, Provincia Puntarenas, 61004, Costa Rica\n",
      "219 Cupilapa, La Fortuna, Cantón Bagaces, Provincia Guanacaste, 50402, Costa Rica\n",
      "220 Calle Jesús, Barrio Santa Lucía, Las Juntas, Cantón Abangares, Provincia Guanacaste, 50701, Costa Rica\n",
      "221 Provincia Puntarenas, Costa Rica\n",
      "222 Calle Rincón, Naranjo, Cantón Naranjo, Provincia Alajuela, 20601, Costa Rica\n",
      "223 Isla Palo Seco, Parrita, Cantón Parrita, Provincia Puntarenas, 60901, Costa Rica\n",
      "224 Provincia Puntarenas, Costa Rica\n",
      "225 None\n",
      "226 El Brujo, Copey, Cantón Dota, Provincia San José, 11703, Costa Rica\n",
      "227 Invu San Luis, Monte Verde, Cantón Puntarenas, Provincia Puntarenas, 60109, Costa Rica\n",
      "228 Avenida 60A, La Pacífica, San Francisco de Dos Ríos, San José, Cantón San José, Provincia San José, 10106, Costa Rica\n",
      "229 Calle 69, Barrio San José, Curridabat, Cantón Curridabat, Provincia San José, 11801, Costa Rica\n",
      "230 Riyito, Golfito, Cantón Golfito, Provincia Puntarenas, 60701, Costa Rica\n",
      "231 Centro Médico Cristiano, Calle Del Cura, Barrio San Lorenzo, Fátima, Damas, Cantón Desamparados, Provincia San José, 10310, Costa Rica\n"
     ]
    }
   ],
   "source": [
    "#We loop through the rows in the dataset, and call the reverse() function to find the location based on the coordinates\n",
    "for index, row in df.iterrows():\n",
    "    location.append(str(geolocator.reverse(row[\"Coordinates\"])))\n",
    "    print(str(index) + \" \" + location[index])"
   ]
  },
  {
   "cell_type": "code",
   "execution_count": 27,
   "metadata": {},
   "outputs": [],
   "source": [
    "df[\"Location\"] = df[\"Coordinates\"].apply(geolocator.reverse)"
   ]
  },
  {
   "cell_type": "code",
   "execution_count": 24,
   "metadata": {},
   "outputs": [
    {
     "output_type": "execute_result",
     "data": {
      "text/plain": [
       "        Date Local Time  Magnitude  Deepth(KM)  Latitude  Longitude  \\\n",
       "0  1/31/2021   16:36:34        3.9        12.0    9.5208   -84.8364   \n",
       "1  1/31/2021   16:30:56        4.2        22.0    9.4990   -84.8640   \n",
       "2  1/29/2021    6:41:34        6.0        15.0    7.9451   -82.9095   \n",
       "3  1/29/2021    5:23:24        4.9        19.0    7.9623   -82.9021   \n",
       "4  1/23/2021   16:15:00        3.4        35.0   10.3423   -85.9112   \n",
       "5  1/21/2021    7:06:00        3.7         6.0    9.8152   -83.8650   \n",
       "6  1/20/2021    1:17:00        4.1        25.0    8.3412   -82.8522   \n",
       "7   1/8/2021   19:33:00        2.2         8.0    9.9151   -84.0475   \n",
       "8   1/7/2021   12:48:00        2.5         6.0    9.8947   -84.0639   \n",
       "9   1/6/2021   17:55:00        4.0        25.0    9.4613   -83.6398   \n",
       "\n",
       "         Coordinates                                           Location  \n",
       "0   9.5208, -84.8364                                               None  \n",
       "1     9.499, -84.864                                               None  \n",
       "2   7.9451, -82.9095  (Chiriquí, Panamá, (8.139963649999999, -82.259...  \n",
       "3   7.9623, -82.9021  (Chiriquí, Panamá, (8.139963649999999, -82.259...  \n",
       "4  10.3423, -85.9112  (Carillo, Provincia Guanacaste, 50302, Costa R...  \n",
       "5    9.8152, -83.865  (Vía 224, Dulce Nombre, Cantón Cartago, Provin...  \n",
       "6   8.3412, -82.8522  (Finca Guayacán, Rodolfo Aguilar Delgado, Dist...  \n",
       "7   9.9151, -84.0475  (Avenida 42, Precario Barrio Nuevo, Curridabat...  \n",
       "8   9.8947, -84.0639  (PALI, Avenida 88, Barrio Fallas, Desamparados...  \n",
       "9   9.4613, -83.6398  (San José, Rivas, Cantón Pérez Zeledón, Provin...  "
      ],
      "text/html": "<div>\n<style scoped>\n    .dataframe tbody tr th:only-of-type {\n        vertical-align: middle;\n    }\n\n    .dataframe tbody tr th {\n        vertical-align: top;\n    }\n\n    .dataframe thead th {\n        text-align: right;\n    }\n</style>\n<table border=\"1\" class=\"dataframe\">\n  <thead>\n    <tr style=\"text-align: right;\">\n      <th></th>\n      <th>Date</th>\n      <th>Local Time</th>\n      <th>Magnitude</th>\n      <th>Deepth(KM)</th>\n      <th>Latitude</th>\n      <th>Longitude</th>\n      <th>Coordinates</th>\n      <th>Location</th>\n    </tr>\n  </thead>\n  <tbody>\n    <tr>\n      <th>0</th>\n      <td>1/31/2021</td>\n      <td>16:36:34</td>\n      <td>3.9</td>\n      <td>12.0</td>\n      <td>9.5208</td>\n      <td>-84.8364</td>\n      <td>9.5208, -84.8364</td>\n      <td>None</td>\n    </tr>\n    <tr>\n      <th>1</th>\n      <td>1/31/2021</td>\n      <td>16:30:56</td>\n      <td>4.2</td>\n      <td>22.0</td>\n      <td>9.4990</td>\n      <td>-84.8640</td>\n      <td>9.499, -84.864</td>\n      <td>None</td>\n    </tr>\n    <tr>\n      <th>2</th>\n      <td>1/29/2021</td>\n      <td>6:41:34</td>\n      <td>6.0</td>\n      <td>15.0</td>\n      <td>7.9451</td>\n      <td>-82.9095</td>\n      <td>7.9451, -82.9095</td>\n      <td>(Chiriquí, Panamá, (8.139963649999999, -82.259...</td>\n    </tr>\n    <tr>\n      <th>3</th>\n      <td>1/29/2021</td>\n      <td>5:23:24</td>\n      <td>4.9</td>\n      <td>19.0</td>\n      <td>7.9623</td>\n      <td>-82.9021</td>\n      <td>7.9623, -82.9021</td>\n      <td>(Chiriquí, Panamá, (8.139963649999999, -82.259...</td>\n    </tr>\n    <tr>\n      <th>4</th>\n      <td>1/23/2021</td>\n      <td>16:15:00</td>\n      <td>3.4</td>\n      <td>35.0</td>\n      <td>10.3423</td>\n      <td>-85.9112</td>\n      <td>10.3423, -85.9112</td>\n      <td>(Carillo, Provincia Guanacaste, 50302, Costa R...</td>\n    </tr>\n    <tr>\n      <th>5</th>\n      <td>1/21/2021</td>\n      <td>7:06:00</td>\n      <td>3.7</td>\n      <td>6.0</td>\n      <td>9.8152</td>\n      <td>-83.8650</td>\n      <td>9.8152, -83.865</td>\n      <td>(Vía 224, Dulce Nombre, Cantón Cartago, Provin...</td>\n    </tr>\n    <tr>\n      <th>6</th>\n      <td>1/20/2021</td>\n      <td>1:17:00</td>\n      <td>4.1</td>\n      <td>25.0</td>\n      <td>8.3412</td>\n      <td>-82.8522</td>\n      <td>8.3412, -82.8522</td>\n      <td>(Finca Guayacán, Rodolfo Aguilar Delgado, Dist...</td>\n    </tr>\n    <tr>\n      <th>7</th>\n      <td>1/8/2021</td>\n      <td>19:33:00</td>\n      <td>2.2</td>\n      <td>8.0</td>\n      <td>9.9151</td>\n      <td>-84.0475</td>\n      <td>9.9151, -84.0475</td>\n      <td>(Avenida 42, Precario Barrio Nuevo, Curridabat...</td>\n    </tr>\n    <tr>\n      <th>8</th>\n      <td>1/7/2021</td>\n      <td>12:48:00</td>\n      <td>2.5</td>\n      <td>6.0</td>\n      <td>9.8947</td>\n      <td>-84.0639</td>\n      <td>9.8947, -84.0639</td>\n      <td>(PALI, Avenida 88, Barrio Fallas, Desamparados...</td>\n    </tr>\n    <tr>\n      <th>9</th>\n      <td>1/6/2021</td>\n      <td>17:55:00</td>\n      <td>4.0</td>\n      <td>25.0</td>\n      <td>9.4613</td>\n      <td>-83.6398</td>\n      <td>9.4613, -83.6398</td>\n      <td>(San José, Rivas, Cantón Pérez Zeledón, Provin...</td>\n    </tr>\n  </tbody>\n</table>\n</div>"
     },
     "metadata": {},
     "execution_count": 24
    }
   ],
   "source": [
    "df.head(10)"
   ]
  },
  {
   "source": [
    "Now, that we have our data set ready, let's create some visualization using plotly:https://plotly.com/python/mapbox-layers/ "
   ],
   "cell_type": "markdown",
   "metadata": {}
  },
  {
   "cell_type": "code",
   "execution_count": 28,
   "metadata": {},
   "outputs": [],
   "source": [
    "import plotly.express as px"
   ]
  },
  {
   "cell_type": "code",
   "execution_count": 29,
   "metadata": {},
   "outputs": [
    {
     "output_type": "display_data",
     "data": {
      "application/vnd.plotly.v1+json": {
       "config": {
        "plotlyServerURL": "https://plot.ly"
       },
       "data": [
        {
         "customdata": [
          [
           "16:36:34",
           3.9,
           12,
           "9.5208, -84.8364"
          ],
          [
           "16:30:56",
           4.2,
           22,
           "9.499, -84.864"
          ],
          [
           "6:41:34",
           6,
           15,
           "7.9451, -82.9095"
          ],
          [
           "5:23:24",
           4.9,
           19,
           "7.9623, -82.9021"
          ],
          [
           "16:15:00",
           3.4,
           35,
           "10.3423, -85.9112"
          ],
          [
           "7:06:00",
           3.7,
           6,
           "9.8152, -83.865"
          ],
          [
           "1:17:00",
           4.1,
           25,
           "8.3412, -82.8522"
          ],
          [
           "19:33:00",
           2.2,
           8,
           "9.9151, -84.0475"
          ],
          [
           "12:48:00",
           2.5,
           6,
           "9.8947, -84.0639"
          ],
          [
           "17:55:00",
           4,
           25,
           "9.4613, -83.6398"
          ],
          [
           "15:12:00",
           3.8,
           20,
           "8.8994, -82.8654"
          ],
          [
           "20:03:00",
           2.1,
           1,
           "9.3831, -83.8296"
          ],
          [
           "18:55:00",
           5.3,
           19,
           "8.1335, -82.994"
          ],
          [
           "7:25:00",
           2.5,
           7,
           "9.9018, -84.0578"
          ],
          [
           "23:27:16",
           2.65,
           7.3,
           "9.9008, -84.0468"
          ],
          [
           "14:12:05",
           2.83,
           9.16,
           "9.8966, -84.0702"
          ],
          [
           "20:06:31",
           2.1,
           7,
           "9.9023, -84.2182"
          ],
          [
           "18:01:50",
           4.6,
           21,
           "9.3658, -84.5547"
          ],
          [
           "10:51:50",
           3.8,
           17,
           "9.5647, -83.6423"
          ],
          [
           "17:16:18",
           2,
           5,
           "9.8, -84.26"
          ],
          [
           "21:41:39",
           3.8,
           23,
           "9.5956, -84.7745"
          ],
          [
           "23:41:00",
           3.9,
           27,
           "9.7713, -82.9273"
          ],
          [
           "21:54:00",
           3.1,
           6,
           "9.7969, -84.2653"
          ],
          [
           "17:50:29",
           4.1,
           7,
           "9.8027, -84.2586"
          ],
          [
           "20:00:27",
           4,
           17,
           "8.6223, -83.2863"
          ],
          [
           "19:31:28",
           4.88,
           18.5,
           "8.6261, -83.2955"
          ],
          [
           "15:53:11",
           3.73,
           48.82,
           "9.9439, -84.6715"
          ],
          [
           "23:41:19",
           2.6,
           17,
           "9.4402, -83.6028"
          ],
          [
           "23:41:19",
           3.3,
           18,
           "9.4509, -83.5659"
          ],
          [
           "23:43:13",
           2.5,
           14,
           "9.4807, -83.5772"
          ],
          [
           "11:18:00",
           3.5,
           13,
           "8.5562, -83.3226"
          ],
          [
           "15:47:00",
           3.2,
           23,
           "10.08, -83.3281"
          ],
          [
           "3:10:00",
           4.6,
           20,
           "9.0198, -84.0667"
          ],
          [
           "13:09:00",
           2.5,
           7,
           "9.8157, -84.2565"
          ],
          [
           "9:03:52",
           3.7,
           9,
           "9.588, -83.6418"
          ],
          [
           "0:24:00",
           2.4,
           48,
           "9.3157, -83.8872"
          ],
          [
           "6:59:00",
           4.2,
           37,
           "9.2004, -83.8918"
          ],
          [
           "0:24:00",
           2.4,
           48,
           "9.3157, -83.8872"
          ],
          [
           "1:48:00",
           4.1,
           4.8,
           "9.7552, -84.0287"
          ],
          [
           "1:47:00",
           3.1,
           4,
           "9.7445, -84.0285"
          ],
          [
           "9:28:00",
           5.6,
           112,
           "12.4, -86.86"
          ],
          [
           "19:24:00",
           2.5,
           13,
           "10.1079, -83.4037"
          ],
          [
           "3:01:00",
           3.8,
           18,
           "9.6296, -84.5225"
          ],
          [
           "15:10:00",
           4,
           44,
           "10.0862, -85.3002"
          ],
          [
           "4:53:00",
           3.5,
           8,
           "9.7282, -84.0012"
          ],
          [
           "20:02:00",
           3.2,
           9,
           "9.733, -84.0008"
          ],
          [
           "23:41:00",
           3,
           9,
           "9.8672, -83.9898"
          ],
          [
           "22:23:00",
           2.8,
           2,
           "10.1249, -84.0823"
          ],
          [
           "9:13:00",
           3.65,
           21,
           "9.6553, -84.8989"
          ],
          [
           "9:34:00",
           3.15,
           14,
           "10.3553, -83.9242"
          ],
          [
           "5:02:00",
           3.9,
           15,
           "9.02, -84.1"
          ],
          [
           "3:34:00",
           5.6,
           20,
           "8.99, -84.11"
          ],
          [
           "3:39:00",
           3.8,
           15,
           "9.01, -84.1"
          ],
          [
           "23:05:00",
           4.3,
           41,
           "8.9841, -83.2157"
          ],
          [
           "5:25:00",
           5.2,
           17,
           "8.94, -84.13"
          ],
          [
           "17:24:00",
           2.4,
           10,
           "9.917, -84.2213"
          ],
          [
           "2:16:00",
           4.2,
           30,
           "8.9315, -84.04"
          ],
          [
           "15:59:00",
           5.3,
           30,
           "11.3, -86.7"
          ],
          [
           "17:00:00",
           1.8,
           4,
           "9.9, -84.113"
          ],
          [
           "7:29:00",
           3,
           15,
           "10.3577, -83.9186"
          ],
          [
           "10:31:00",
           3.6,
           8,
           "10.36, -86.3"
          ],
          [
           "10:33:00",
           3.8,
           15,
           "10.34, -86.27"
          ],
          [
           "14:51:00",
           2.3,
           8,
           "9.93, -84.21"
          ],
          [
           "23:03:00",
           1.5,
           15,
           "9.9114, -84.2146"
          ],
          [
           "23:00:00",
           2.3,
           4.4,
           "9.8697, -83.9385"
          ],
          [
           "23:31:00",
           3.8,
           10,
           "9.4103, -84.5472"
          ],
          [
           "2:16:00",
           4.4,
           35,
           "9.0789, -83.7393"
          ],
          [
           "22:19:00",
           1.8,
           5,
           "9.8847, -83.8822"
          ],
          [
           "11:21:00",
           4.2,
           6,
           "10.6044, -85.2784"
          ],
          [
           "5:08:00",
           3,
           7,
           "9.7564, -83.9645"
          ],
          [
           "10:32:00",
           2.9,
           16,
           "9.6519, -85.0502"
          ],
          [
           "19:16:40",
           3,
           18,
           "9.6382, -83.8608"
          ],
          [
           "9:56:02",
           2.6,
           4,
           "10.7227, -85.0358"
          ],
          [
           "18:19:53",
           3.9,
           29,
           "8.3242, -83.1066"
          ],
          [
           "21:24:20",
           1.6,
           11,
           "9.8032, -83.8497"
          ],
          [
           "22:38:39",
           4.2,
           59,
           "10.2062, -85.0046"
          ],
          [
           "20:40:46",
           5.9,
           40,
           "8.9929, -83.2176"
          ],
          [
           "6:58:57",
           3.24,
           18,
           "8.6743, -83.2457"
          ],
          [
           "22:46:39",
           5.34,
           25.45,
           "8.289, -82.8115"
          ],
          [
           "15:53:00",
           4,
           8,
           "9.22, -84.85"
          ],
          [
           "21:34:00",
           2.4,
           4,
           "9.7813, -83.8578"
          ],
          [
           "22:31:00",
           2.8,
           4,
           "9.431, -83.6399"
          ],
          [
           "22:50:00",
           1.7,
           7.3,
           "9.8994, -84.1052"
          ],
          [
           "2:22:00",
           3.7,
           53,
           "10.416, -85.4861"
          ],
          [
           "23:28:00",
           2.7,
           3.5,
           "10.1468, -84.2294"
          ],
          [
           "11:19:00",
           2.7,
           10,
           "9.8588, -84.2877"
          ],
          [
           "16:56:00",
           2.3,
           2.7,
           "9.8123, -83.8706"
          ],
          [
           "6:40:00",
           3.89,
           23,
           "8.6636, -83.249"
          ],
          [
           "23:48:00",
           2.83,
           19,
           "9.6872, -85.0121"
          ],
          [
           "8:33:00",
           5,
           33,
           "10.5, -83.36"
          ],
          [
           "22:00:00",
           4,
           30,
           "9.0, -84.1326"
          ],
          [
           "13:45:00",
           3.3,
           15,
           "9.9391, -83.6538"
          ],
          [
           "7:30:31",
           5.3,
           30,
           "10.61, -86.478"
          ],
          [
           "3:34:00",
           4.6,
           50,
           "9.4678, -84.0476"
          ],
          [
           "21:01:25",
           4,
           14,
           "9.456, -84.224"
          ],
          [
           "1:58:05",
           3,
           59,
           "9.458, -83.911"
          ],
          [
           "3:27:00",
           4,
           28,
           "9.71, -82.8487"
          ],
          [
           "0:14:15",
           4.4,
           21,
           "9.8414, -85.5104"
          ],
          [
           "0:45:08",
           2.94,
           3.15,
           "9.8865, -83.9243"
          ],
          [
           "1:06:25",
           3,
           5.1,
           "9.8923, -83.9257"
          ],
          [
           "6:04:18",
           3.78,
           42.5,
           "9.7399, -84.1889"
          ],
          [
           "20:01:08",
           5.1,
           28,
           "7.52, -83.01"
          ],
          [
           "21:30:00",
           5.1,
           50,
           "11.2224, -86.7183"
          ],
          [
           "22:16:00",
           3.1,
           72,
           "9.8139, -83.9919"
          ],
          [
           "0:06:00",
           3.4,
           15,
           "8.4465, -83.1332"
          ],
          [
           "9:56:00",
           3.7,
           71,
           "9.9211, -84.119"
          ],
          [
           "1:35:00",
           3.1,
           34,
           "8.978, -84.8797"
          ],
          [
           "12:22:00",
           3.2,
           2,
           "9.6416, -84.5365"
          ],
          [
           "1:48:00",
           2.8,
           21,
           "9.5961, -84.8143"
          ],
          [
           "1:45:00",
           4.1,
           21,
           "9.5907, -84.8209"
          ],
          [
           "19:34:00",
           2.2,
           10,
           "9.981, -83.71"
          ],
          [
           "23:59:17",
           3.4,
           21,
           "9.631, -84.7381"
          ],
          [
           "6:17:53",
           3.9,
           58,
           "9.4634, -83.953"
          ],
          [
           "2:05:07",
           3.6,
           39,
           "10.3762, -86.2153"
          ],
          [
           "22:29:02",
           1.8,
           8,
           "9.9604, -84.0178"
          ],
          [
           "0:27:00",
           3.5,
           15,
           "10.4019, -85.1175"
          ],
          [
           "3:58:00",
           3,
           8,
           "9.8847, -83.4837"
          ],
          [
           "20:30:24",
           3.9,
           21.6,
           "9.5731, -84.7546"
          ],
          [
           "4:58:52",
           3.36,
           16.67,
           "9.5545, -84.5573"
          ],
          [
           "22:21:00",
           1.6,
           8,
           "10.0013, -84.0203"
          ],
          [
           "3:51:28",
           3.81,
           50.76,
           "9.7349, -84.1858"
          ],
          [
           "0:17:00",
           3.5,
           28,
           "9.4231, -83.7478"
          ],
          [
           "18:38:00",
           3.7,
           21,
           "10.1157, -83.1867"
          ],
          [
           "23:47:00",
           1.82,
           2,
           "9.9595, -83.8703"
          ],
          [
           "18:06:00",
           4,
           35,
           "9.5267, -84.122"
          ],
          [
           "3:39:00",
           4.9,
           10,
           "9.8556, -84.3748"
          ],
          [
           "4:03:00",
           1.6,
           10,
           "9.8636, -84.3706"
          ],
          [
           "3:27:00",
           2.5,
           33.8,
           "9.5249, -84.1113"
          ],
          [
           "0:21:00",
           4.3,
           23,
           "9.485, -82.6337"
          ],
          [
           "6:02:00",
           2.8,
           10,
           "8.9395, -84.1163"
          ],
          [
           "22:41:00",
           1.86,
           9,
           "9.9041, -84.1681"
          ],
          [
           "10:40:00",
           2.25,
           9,
           "9.8935, -84.1615"
          ],
          [
           "10:10:00",
           2.1,
           10,
           "9.8954, -84.1566"
          ],
          [
           "0:24:00",
           1.76,
           10,
           "9.9024, -84.1457"
          ],
          [
           "16:38:00",
           5.18,
           148,
           "12.0747, -86.3593"
          ],
          [
           "16:24:00",
           3.49,
           8,
           "9.7386, -84.0754"
          ],
          [
           "15:39:36",
           5.9,
           10,
           "7.0592, -81.9427"
          ],
          [
           "23:29:20",
           3.18,
           5.2,
           "9.5822, -84.4486"
          ],
          [
           "23:50:00",
           1.96,
           5,
           "9.8638, -84.0499"
          ],
          [
           "1:18:05",
           2.1,
           11,
           "9.8924, -84.1703"
          ],
          [
           "1:52:39",
           1.5,
           6,
           "9.8773, -84.048"
          ],
          [
           "2:00:25",
           2.1,
           10,
           "9.8944, -84.1754"
          ],
          [
           "2:31:48",
           3,
           14,
           "9.6998, -83.818"
          ],
          [
           "18:23:37",
           2.8,
           10,
           "9.7306, -84.0735"
          ],
          [
           "20:18:00",
           2.3,
           4,
           "9.8627, -84.0457"
          ],
          [
           "6:10:00",
           4.1,
           34,
           "10.2923, -86.2703"
          ],
          [
           "19:18:30",
           4.1,
           54,
           "9.7348, -84.1964"
          ],
          [
           "10:14:10",
           3.18,
           8.47,
           "9.8332, -83.9849"
          ],
          [
           "8:52:01",
           4.04,
           38.67,
           "9.0468, -83.7068"
          ],
          [
           "2:13:45",
           2.83,
           8.32,
           "9.7744, -83.8965"
          ],
          [
           "19:06:00",
           4.3,
           9,
           "9.7589, -83.9659"
          ],
          [
           "4:50:00",
           2,
           10,
           "9.921, -84.216"
          ],
          [
           "15:51:00",
           6.2,
           23,
           "9.502, -84.6671"
          ],
          [
           "2:01:00",
           3.7,
           70,
           "9.852, -84.101"
          ],
          [
           "22:04:00",
           3.7,
           12,
           "8.3447, -83.0403"
          ],
          [
           "2:16:00",
           2,
           12,
           "9.8927, -84.1946"
          ],
          [
           "6:55:00",
           2.2,
           9,
           "9.9152, -84.2019"
          ],
          [
           "23:30:00",
           4.8,
           20,
           "8.1785, -82.986"
          ],
          [
           "23:40:00",
           4.2,
           13,
           "8.3508, -83.032"
          ],
          [
           "4:28:00",
           3.6,
           4,
           "8.417, -83.0573"
          ],
          [
           "14:28:00",
           4.4,
           20,
           "9.4999, -84.8421"
          ],
          [
           "2:20:00",
           3.6,
           19,
           "9.5895, -84.1249"
          ],
          [
           "11:45:00",
           5.5,
           16,
           "8.2668, -82.9956"
          ],
          [
           "11:48:00",
           5.2,
           14,
           "8.2689, -82.9946"
          ],
          [
           "11:46:00",
           5.6,
           14,
           "8.2692, -82.9628"
          ],
          [
           "11:55:00",
           4.8,
           9,
           "8.24, -83.0"
          ],
          [
           "11:59:00",
           3.7,
           15,
           "8.3039, -83.0047"
          ],
          [
           "12:19:00",
           3.6,
           9,
           "8.2576, -82.9806"
          ],
          [
           "14:03:00",
           4,
           17,
           "8.2908, -83.0167"
          ],
          [
           "14:26:00",
           4.1,
           18,
           "8.2533, -82.9443"
          ],
          [
           "23:21:00",
           4.1,
           15,
           "8.28, -83.0119"
          ],
          [
           "23:38:00",
           4.5,
           14,
           "8.2153, -82.9557"
          ],
          [
           "8:32:00",
           4.1,
           11,
           "8.1894, -82.9849"
          ],
          [
           "10:28:00",
           4.6,
           15,
           "8.3296, -82.9929"
          ],
          [
           "18:44:00",
           4.8,
           16,
           "7.8126, -83.1303"
          ],
          [
           "20:13:00",
           2,
           11.5,
           "9.9124, -84.2062"
          ],
          [
           "22:31:05",
           4.6,
           18,
           "8.201, -82.985"
          ],
          [
           "7:29:00",
           4.8,
           21,
           "8.2824, -83.7075"
          ],
          [
           "18:03:50",
           4.3,
           168,
           "11.279, -85.704"
          ],
          [
           "0:30:46",
           1.8,
           12,
           "9.9032, -84.204"
          ],
          [
           "1:24:21",
           4.5,
           18,
           "8.3165, -83.006"
          ],
          [
           "6:15:55",
           3.2,
           6,
           "9.4141, -83.7176"
          ],
          [
           "4:52:01",
           1.7,
           8,
           "9.919, -84.202"
          ],
          [
           "4:37:00",
           4.4,
           16,
           "9.9656, -83.5724"
          ],
          [
           "20:21:06",
           3.3,
           4,
           "9.8954, -84.3321"
          ],
          [
           "23:23:00",
           3.6,
           15,
           "9.9614, -83.5694"
          ],
          [
           "0:19:09",
           4.4,
           1,
           "8.4682, -83.0098"
          ],
          [
           "1:27:22",
           4.7,
           16.29,
           "8.5887, -82.897"
          ],
          [
           "9:09:04",
           2.36,
           7.48,
           "9.9137, -84.2035"
          ],
          [
           "21:05:00",
           2.2,
           11,
           "9.9669, -83.6821"
          ],
          [
           "15:34:09",
           3.8,
           16,
           "9.5098, -84.4357"
          ],
          [
           "11:59:00",
           3.7,
           89,
           "10.1321, -84.2039"
          ],
          [
           "23:01:02",
           0,
           0,
           "10.84, -84.01"
          ],
          [
           "22:50:00",
           2.3,
           10,
           "9.9106, -84.2016"
          ],
          [
           "16:31:00",
           4.8,
           163,
           "11.4232, -85.8262"
          ],
          [
           "20:17:40",
           2.3,
           4,
           "9.9157, -83.8876"
          ],
          [
           "22:13:00",
           4.6,
           150,
           "11.4874, -85.8761"
          ],
          [
           "21:10:00",
           3.8,
           30,
           "9.9728, -85.5015"
          ],
          [
           "9:42:00",
           4.2,
           10,
           "9.6661, -83.8268"
          ],
          [
           "23:01:08",
           5.4,
           77,
           "9.9269, -84.0719"
          ],
          [
           "17:50:15",
           3,
           23,
           "9.628, -84.7535"
          ],
          [
           "16:11:26",
           1.8,
           5,
           "10.1857, -84.1113"
          ],
          [
           "6:44:01",
           2.7,
           10,
           "9.6621, -83.9093"
          ],
          [
           "9:53:12",
           2.2,
           9,
           "10.001, -84.0895"
          ],
          [
           "17:10:33",
           3,
           83,
           "10.0424, -84.0765"
          ],
          [
           "22:56:38",
           4.3,
           15,
           "8.3201, -83.1058"
          ],
          [
           "8:59:12",
           3.6,
           20.5,
           "9.4816, -83.826"
          ],
          [
           "21:28:41",
           3.75,
           21.7,
           "9.325, -84.2025"
          ],
          [
           "18:30:00",
           3.1,
           28,
           "10.0629, -85.6825"
          ],
          [
           "18:30:00",
           3.1,
           28,
           "9.7056, -85.8031"
          ],
          [
           "10:03:00",
           2.7,
           4,
           "9.7839, -83.8353"
          ],
          [
           "5:29:00",
           2.1,
           6,
           "9.7863, -83.8342"
          ],
          [
           "13:57:00",
           4.4,
           30,
           "8.3303, -82.8258"
          ],
          [
           "21:36:00",
           1.5,
           8,
           "9.9309, -84.2059"
          ],
          [
           "21:49:00",
           3.7,
           23,
           "9.6496, -84.88"
          ],
          [
           "21:33:00",
           4.7,
           23,
           "9.6581, -84.8765"
          ],
          [
           "8:53:00",
           4.7,
           30,
           "8.4288, -82.9985"
          ],
          [
           "8:36:00",
           3.7,
           27,
           "8.4763, -82.969"
          ],
          [
           "8:20:00",
           4.9,
           28,
           "8.4631, -82.9874"
          ],
          [
           "23:24:00",
           2.8,
           3,
           "10.6725, -85.1939"
          ],
          [
           "1:58:00",
           2.4,
           18,
           "10.2954, -84.9935"
          ],
          [
           "3:10:57",
           3.7,
           47,
           "10.0228, -85.124"
          ],
          [
           "20:41:00",
           3.6,
           70,
           "10.1142, -84.3789"
          ],
          [
           "6:20:00",
           3.7,
           39,
           "9.489, -84.2932"
          ],
          [
           "20:08:00",
           4.5,
           25,
           "8.6001, -83.252"
          ],
          [
           "22:53:27",
           4.4,
           19,
           "9.4368, -84.6622"
          ],
          [
           "21:22:00",
           3.2,
           20,
           "9.5829, -83.8324"
          ],
          [
           "11:12:22",
           3.71,
           81.2,
           "10.2869, -84.8083"
          ],
          [
           "15:51:00",
           2.5,
           9,
           "9.9075, -84.0524"
          ],
          [
           "14:54:00",
           2.4,
           6,
           "9.9113, -84.0462"
          ],
          [
           "1:54:00",
           3.8,
           25,
           "8.7328, -83.2819"
          ],
          [
           "18:44:54",
           3,
           9.3,
           "9.8922, -84.0528"
          ]
         ],
         "hovertemplate": "<b>%{hovertext}</b><br><br>Latitude=%{lat}<br>Longitude=%{lon}<br>Local Time=%{customdata[0]}<br>Magnitude=%{customdata[1]}<br>Deepth(KM)=%{customdata[2]}<br>Coordinates=%{customdata[3]}<extra></extra>",
         "hovertext": [
          "1/31/2021",
          "1/31/2021",
          "1/29/2021",
          "1/29/2021",
          "1/23/2021",
          "1/21/2021",
          "1/20/2021",
          "1/8/2021",
          "1/7/2021",
          "1/6/2021",
          "1/6/2021",
          "1/4/2021",
          "1/4/2021",
          "1/3/2021",
          "1/1/2021",
          "1/1/2021",
          "021-02-28",
          "2/27/2021",
          "2/27/2021",
          "2/26/2021",
          "2/24/2021",
          "2/23/2021",
          "2/22/2021",
          "2/22/2021",
          "2/15/2021",
          "2/15/2021",
          "2/13/2021",
          "2/5/2021",
          "2/5/2021",
          "2/5/2021",
          "3/10/2021",
          "3/9/2021",
          "3/8/2021",
          "3/5/2021",
          "3/4/2021",
          "3/2/2021",
          "3/2/2021",
          "3/2/2021",
          "3/2/2021",
          "3/1/2021",
          "1/3/2020",
          "1/4/2020",
          "1/5/2020",
          "1/6/2020",
          "1/6/2020",
          "1/8/2020",
          "1/11/2020",
          "1/12/2020",
          "1/13/2020",
          "1/14/2020",
          "1/21/2020",
          "1/21/2020",
          "1/21/2020",
          "1/21/2020",
          "1/21/2020",
          "1/23/2020",
          "1/23/2020",
          "1/24/2020",
          "1/25/2020",
          "1/26/2020",
          "1/26/2020",
          "1/26/2020",
          "1/26/2020",
          "1/26/2020",
          "2/1/2020",
          "2/3/2020",
          "2/10/2020",
          "2/18/2020",
          "2/20/2020",
          "2/21/2020",
          "2/23/2020",
          "2/26/2020",
          "2/29/2020",
          "3/2/2020",
          "3/2/2020",
          "3/4/2020",
          "3/6/2020",
          "3/9/2020",
          "3/12/2020",
          "3/13/2020",
          "3/17/2020",
          "3/17/2020",
          "3/20/2020",
          "3/21/2020",
          "3/22/2020",
          "3/28/2020",
          "3/29/2020",
          "4/1/2020",
          "4/2/2020",
          "4/8/2020",
          "4/9/2020",
          "4/12/2020",
          "4/15/2020",
          "4/17/2020",
          "4/17/2020",
          "4/18/2020",
          "4/20/2020",
          "4/26/2020",
          "4/28/2020",
          "4/28/2020",
          "4/29/2020",
          "5/17/2020",
          "5/19/2020",
          "5/26/2020",
          "5/27/2020",
          "5/27/2020",
          "5/29/2020",
          "5/30/2020",
          "5/31/2020",
          "5/31/2020",
          "6/1/2020",
          "6/3/2020",
          "6/4/2020",
          "6/5/2020",
          "6/7/2020",
          "6/15/2020",
          "6/15/2020",
          "6/18/2020",
          "6/19/2020",
          "6/21/2020",
          "6/22/2020",
          "7/1/2020",
          "7/1/2020",
          "7/1/2020",
          "7/2/2020",
          "7/5/2020",
          "7/5/2020",
          "7/5/2020",
          "7/5/2020",
          "7/5/2020",
          "7/6/2020",
          "7/7/2020",
          "7/7/2020",
          "7/8/2020",
          "7/12/2020",
          "7/12/2020",
          "7/15/2020",
          "7/16/2020",
          "7/19/2020",
          "7/21/2020",
          "7/21/2020",
          "7/21/2020",
          "7/22/2020",
          "7/22/2020",
          "7/28/2020",
          "7/29/2020",
          "8/1/2020",
          "8/8/2020",
          "8/9/2020",
          "8/9/2020",
          "8/10/2020",
          "8/15/2020",
          "8/24/2020",
          "8/31/2020",
          "9/1/2020",
          "9/1/2020",
          "9/2/2020",
          "9/2/2020",
          "9/2/2020",
          "9/3/2020",
          "9/3/2020",
          "9/4/2020",
          "9/4/2020",
          "9/4/2020",
          "9/4/2020",
          "9/4/2020",
          "9/4/2020",
          "9/4/2020",
          "9/4/2020",
          "9/4/2020",
          "9/4/2020",
          "9/4/2020",
          "9/5/2020",
          "9/5/2020",
          "9/5/2020",
          "9/7/2020",
          "9/8/2020",
          "9/8/2020",
          "9/9/2020",
          "9/9/2020",
          "9/13/2020",
          "9/13/2020",
          "9/14/2020",
          "9/16/2020",
          "9/18/2020",
          "9/20/2020",
          "9/25/2020",
          "9/26/2020",
          "9/26/2020",
          "9/27/2020",
          "9/27/2020",
          "9/29/2020",
          "9/30/2020",
          "10/11/2020",
          "10/11/2020",
          "10/15/2020",
          "10/17/2020",
          "10/20/2020",
          "10/24/2020",
          "10/31/2020",
          "11/1/2020",
          "11/1/2020",
          "11/1/2020",
          "11/1/2020",
          "11/1/2020",
          "11/8/2020",
          "11/8/2020",
          "11/10/2020",
          "11/22/2020",
          "11/22/2020",
          "11/23/2020",
          "11/24/2020",
          "12/2/2020",
          "12/3/2020",
          "12/7/2020",
          "12/7/2020",
          "12/8/2020",
          "12/8/2020",
          "12/8/2020",
          "12/10/2020",
          "12/13/2020",
          "12/20/2020",
          "12/23/2020",
          "12/24/2020",
          "12/25/2020",
          "12/27/2020",
          "12/27/2020",
          "12/28/2020",
          "12/30/2020",
          "12/30/2020",
          "12/30/2020",
          "12/31/2020"
         ],
         "lat": [
          9.5208,
          9.499,
          7.9451,
          7.9623,
          10.3423,
          9.8152,
          8.3412,
          9.9151,
          9.8947,
          9.4613,
          8.8994,
          9.3831,
          8.1335,
          9.9018,
          9.9008,
          9.8966,
          9.9023,
          9.3658,
          9.5647,
          9.8,
          9.5956,
          9.7713,
          9.7969,
          9.8027,
          8.6223,
          8.6261,
          9.9439,
          9.4402,
          9.4509,
          9.4807,
          8.5562,
          10.08,
          9.0198,
          9.8157,
          9.588,
          9.3157,
          9.2004,
          9.3157,
          9.7552,
          9.7445,
          12.4,
          10.1079,
          9.6296,
          10.0862,
          9.7282,
          9.733,
          9.8672,
          10.1249,
          9.6553,
          10.3553,
          9.02,
          8.99,
          9.01,
          8.9841,
          8.94,
          9.917,
          8.9315,
          11.3,
          9.9,
          10.3577,
          10.36,
          10.34,
          9.93,
          9.9114,
          9.8697,
          9.4103,
          9.0789,
          9.8847,
          10.6044,
          9.7564,
          9.6519,
          9.6382,
          10.7227,
          8.3242,
          9.8032,
          10.2062,
          8.9929,
          8.6743,
          8.289,
          9.22,
          9.7813,
          9.431,
          9.8994,
          10.416,
          10.1468,
          9.8588,
          9.8123,
          8.6636,
          9.6872,
          10.5,
          9,
          9.9391,
          10.61,
          9.4678,
          9.456,
          9.458,
          9.71,
          9.8414,
          9.8865,
          9.8923,
          9.7399,
          7.52,
          11.2224,
          9.8139,
          8.4465,
          9.9211,
          8.978,
          9.6416,
          9.5961,
          9.5907,
          9.981,
          9.631,
          9.4634,
          10.3762,
          9.9604,
          10.4019,
          9.8847,
          9.5731,
          9.5545,
          10.0013,
          9.7349,
          9.4231,
          10.1157,
          9.9595,
          9.5267,
          9.8556,
          9.8636,
          9.5249,
          9.485,
          8.9395,
          9.9041,
          9.8935,
          9.8954,
          9.9024,
          12.0747,
          9.7386,
          7.0592,
          9.5822,
          9.8638,
          9.8924,
          9.8773,
          9.8944,
          9.6998,
          9.7306,
          9.8627,
          10.2923,
          9.7348,
          9.8332,
          9.0468,
          9.7744,
          9.7589,
          9.921,
          9.502,
          9.852,
          8.3447,
          9.8927,
          9.9152,
          8.1785,
          8.3508,
          8.417,
          9.4999,
          9.5895,
          8.2668,
          8.2689,
          8.2692,
          8.24,
          8.3039,
          8.2576,
          8.2908,
          8.2533,
          8.28,
          8.2153,
          8.1894,
          8.3296,
          7.8126,
          9.9124,
          8.201,
          8.2824,
          11.279,
          9.9032,
          8.3165,
          9.4141,
          9.919,
          9.9656,
          9.8954,
          9.9614,
          8.4682,
          8.5887,
          9.9137,
          9.9669,
          9.5098,
          10.1321,
          10.84,
          9.9106,
          11.4232,
          9.9157,
          11.4874,
          9.9728,
          9.6661,
          9.9269,
          9.628,
          10.1857,
          9.6621,
          10.001,
          10.0424,
          8.3201,
          9.4816,
          9.325,
          10.0629,
          9.7056,
          9.7839,
          9.7863,
          8.3303,
          9.9309,
          9.6496,
          9.6581,
          8.4288,
          8.4763,
          8.4631,
          10.6725,
          10.2954,
          10.0228,
          10.1142,
          9.489,
          8.6001,
          9.4368,
          9.5829,
          10.2869,
          9.9075,
          9.9113,
          8.7328,
          9.8922
         ],
         "legendgroup": "",
         "lon": [
          -84.8364,
          -84.864,
          -82.9095,
          -82.9021,
          -85.9112,
          -83.865,
          -82.8522,
          -84.0475,
          -84.0639,
          -83.6398,
          -82.8654,
          -83.8296,
          -82.994,
          -84.0578,
          -84.0468,
          -84.0702,
          -84.2182,
          -84.5547,
          -83.6423,
          -84.26,
          -84.7745,
          -82.9273,
          -84.2653,
          -84.2586,
          -83.2863,
          -83.2955,
          -84.6715,
          -83.6028,
          -83.5659,
          -83.5772,
          -83.3226,
          -83.3281,
          -84.0667,
          -84.2565,
          -83.6418,
          -83.8872,
          -83.8918,
          -83.8872,
          -84.0287,
          -84.0285,
          -86.86,
          -83.4037,
          -84.5225,
          -85.3002,
          -84.0012,
          -84.0008,
          -83.9898,
          -84.0823,
          -84.8989,
          -83.9242,
          -84.1,
          -84.11,
          -84.1,
          -83.2157,
          -84.13,
          -84.2213,
          -84.04,
          -86.7,
          -84.113,
          -83.9186,
          -86.3,
          -86.27,
          -84.21,
          -84.2146,
          -83.9385,
          -84.5472,
          -83.7393,
          -83.8822,
          -85.2784,
          -83.9645,
          -85.0502,
          -83.8608,
          -85.0358,
          -83.1066,
          -83.8497,
          -85.0046,
          -83.2176,
          -83.2457,
          -82.8115,
          -84.85,
          -83.8578,
          -83.6399,
          -84.1052,
          -85.4861,
          -84.2294,
          -84.2877,
          -83.8706,
          -83.249,
          -85.0121,
          -83.36,
          -84.1326,
          -83.6538,
          -86.478,
          -84.0476,
          -84.224,
          -83.911,
          -82.8487,
          -85.5104,
          -83.9243,
          -83.9257,
          -84.1889,
          -83.01,
          -86.7183,
          -83.9919,
          -83.1332,
          -84.119,
          -84.8797,
          -84.5365,
          -84.8143,
          -84.8209,
          -83.71,
          -84.7381,
          -83.953,
          -86.2153,
          -84.0178,
          -85.1175,
          -83.4837,
          -84.7546,
          -84.5573,
          -84.0203,
          -84.1858,
          -83.7478,
          -83.1867,
          -83.8703,
          -84.122,
          -84.3748,
          -84.3706,
          -84.1113,
          -82.6337,
          -84.1163,
          -84.1681,
          -84.1615,
          -84.1566,
          -84.1457,
          -86.3593,
          -84.0754,
          -81.9427,
          -84.4486,
          -84.0499,
          -84.1703,
          -84.048,
          -84.1754,
          -83.818,
          -84.0735,
          -84.0457,
          -86.2703,
          -84.1964,
          -83.9849,
          -83.7068,
          -83.8965,
          -83.9659,
          -84.216,
          -84.6671,
          -84.101,
          -83.0403,
          -84.1946,
          -84.2019,
          -82.986,
          -83.032,
          -83.0573,
          -84.8421,
          -84.1249,
          -82.9956,
          -82.9946,
          -82.9628,
          -83,
          -83.0047,
          -82.9806,
          -83.0167,
          -82.9443,
          -83.0119,
          -82.9557,
          -82.9849,
          -82.9929,
          -83.1303,
          -84.2062,
          -82.985,
          -83.7075,
          -85.704,
          -84.204,
          -83.006,
          -83.7176,
          -84.202,
          -83.5724,
          -84.3321,
          -83.5694,
          -83.0098,
          -82.897,
          -84.2035,
          -83.6821,
          -84.4357,
          -84.2039,
          -84.01,
          -84.2016,
          -85.8262,
          -83.8876,
          -85.8761,
          -85.5015,
          -83.8268,
          -84.0719,
          -84.7535,
          -84.1113,
          -83.9093,
          -84.0895,
          -84.0765,
          -83.1058,
          -83.826,
          -84.2025,
          -85.6825,
          -85.8031,
          -83.8353,
          -83.8342,
          -82.8258,
          -84.2059,
          -84.88,
          -84.8765,
          -82.9985,
          -82.969,
          -82.9874,
          -85.1939,
          -84.9935,
          -85.124,
          -84.3789,
          -84.2932,
          -83.252,
          -84.6622,
          -83.8324,
          -84.8083,
          -84.0524,
          -84.0462,
          -83.2819,
          -84.0528
         ],
         "marker": {
          "color": "blue"
         },
         "mode": "markers",
         "name": "",
         "showlegend": false,
         "subplot": "mapbox",
         "type": "scattermapbox"
        }
       ],
       "layout": {
        "legend": {
         "tracegroupgap": 0
        },
        "mapbox": {
         "center": {
          "lat": 9.550203448275864,
          "lon": -84.07473879310344
         },
         "domain": {
          "x": [
           0,
           1
          ],
          "y": [
           0,
           1
          ]
         },
         "style": "open-street-map",
         "zoom": 8
        },
        "margin": {
         "b": 0,
         "l": 0,
         "r": 0,
         "t": 0
        },
        "template": {
         "data": {
          "bar": [
           {
            "error_x": {
             "color": "#2a3f5f"
            },
            "error_y": {
             "color": "#2a3f5f"
            },
            "marker": {
             "line": {
              "color": "#E5ECF6",
              "width": 0.5
             }
            },
            "type": "bar"
           }
          ],
          "barpolar": [
           {
            "marker": {
             "line": {
              "color": "#E5ECF6",
              "width": 0.5
             }
            },
            "type": "barpolar"
           }
          ],
          "carpet": [
           {
            "aaxis": {
             "endlinecolor": "#2a3f5f",
             "gridcolor": "white",
             "linecolor": "white",
             "minorgridcolor": "white",
             "startlinecolor": "#2a3f5f"
            },
            "baxis": {
             "endlinecolor": "#2a3f5f",
             "gridcolor": "white",
             "linecolor": "white",
             "minorgridcolor": "white",
             "startlinecolor": "#2a3f5f"
            },
            "type": "carpet"
           }
          ],
          "choropleth": [
           {
            "colorbar": {
             "outlinewidth": 0,
             "ticks": ""
            },
            "type": "choropleth"
           }
          ],
          "contour": [
           {
            "colorbar": {
             "outlinewidth": 0,
             "ticks": ""
            },
            "colorscale": [
             [
              0,
              "#0d0887"
             ],
             [
              0.1111111111111111,
              "#46039f"
             ],
             [
              0.2222222222222222,
              "#7201a8"
             ],
             [
              0.3333333333333333,
              "#9c179e"
             ],
             [
              0.4444444444444444,
              "#bd3786"
             ],
             [
              0.5555555555555556,
              "#d8576b"
             ],
             [
              0.6666666666666666,
              "#ed7953"
             ],
             [
              0.7777777777777778,
              "#fb9f3a"
             ],
             [
              0.8888888888888888,
              "#fdca26"
             ],
             [
              1,
              "#f0f921"
             ]
            ],
            "type": "contour"
           }
          ],
          "contourcarpet": [
           {
            "colorbar": {
             "outlinewidth": 0,
             "ticks": ""
            },
            "type": "contourcarpet"
           }
          ],
          "heatmap": [
           {
            "colorbar": {
             "outlinewidth": 0,
             "ticks": ""
            },
            "colorscale": [
             [
              0,
              "#0d0887"
             ],
             [
              0.1111111111111111,
              "#46039f"
             ],
             [
              0.2222222222222222,
              "#7201a8"
             ],
             [
              0.3333333333333333,
              "#9c179e"
             ],
             [
              0.4444444444444444,
              "#bd3786"
             ],
             [
              0.5555555555555556,
              "#d8576b"
             ],
             [
              0.6666666666666666,
              "#ed7953"
             ],
             [
              0.7777777777777778,
              "#fb9f3a"
             ],
             [
              0.8888888888888888,
              "#fdca26"
             ],
             [
              1,
              "#f0f921"
             ]
            ],
            "type": "heatmap"
           }
          ],
          "heatmapgl": [
           {
            "colorbar": {
             "outlinewidth": 0,
             "ticks": ""
            },
            "colorscale": [
             [
              0,
              "#0d0887"
             ],
             [
              0.1111111111111111,
              "#46039f"
             ],
             [
              0.2222222222222222,
              "#7201a8"
             ],
             [
              0.3333333333333333,
              "#9c179e"
             ],
             [
              0.4444444444444444,
              "#bd3786"
             ],
             [
              0.5555555555555556,
              "#d8576b"
             ],
             [
              0.6666666666666666,
              "#ed7953"
             ],
             [
              0.7777777777777778,
              "#fb9f3a"
             ],
             [
              0.8888888888888888,
              "#fdca26"
             ],
             [
              1,
              "#f0f921"
             ]
            ],
            "type": "heatmapgl"
           }
          ],
          "histogram": [
           {
            "marker": {
             "colorbar": {
              "outlinewidth": 0,
              "ticks": ""
             }
            },
            "type": "histogram"
           }
          ],
          "histogram2d": [
           {
            "colorbar": {
             "outlinewidth": 0,
             "ticks": ""
            },
            "colorscale": [
             [
              0,
              "#0d0887"
             ],
             [
              0.1111111111111111,
              "#46039f"
             ],
             [
              0.2222222222222222,
              "#7201a8"
             ],
             [
              0.3333333333333333,
              "#9c179e"
             ],
             [
              0.4444444444444444,
              "#bd3786"
             ],
             [
              0.5555555555555556,
              "#d8576b"
             ],
             [
              0.6666666666666666,
              "#ed7953"
             ],
             [
              0.7777777777777778,
              "#fb9f3a"
             ],
             [
              0.8888888888888888,
              "#fdca26"
             ],
             [
              1,
              "#f0f921"
             ]
            ],
            "type": "histogram2d"
           }
          ],
          "histogram2dcontour": [
           {
            "colorbar": {
             "outlinewidth": 0,
             "ticks": ""
            },
            "colorscale": [
             [
              0,
              "#0d0887"
             ],
             [
              0.1111111111111111,
              "#46039f"
             ],
             [
              0.2222222222222222,
              "#7201a8"
             ],
             [
              0.3333333333333333,
              "#9c179e"
             ],
             [
              0.4444444444444444,
              "#bd3786"
             ],
             [
              0.5555555555555556,
              "#d8576b"
             ],
             [
              0.6666666666666666,
              "#ed7953"
             ],
             [
              0.7777777777777778,
              "#fb9f3a"
             ],
             [
              0.8888888888888888,
              "#fdca26"
             ],
             [
              1,
              "#f0f921"
             ]
            ],
            "type": "histogram2dcontour"
           }
          ],
          "mesh3d": [
           {
            "colorbar": {
             "outlinewidth": 0,
             "ticks": ""
            },
            "type": "mesh3d"
           }
          ],
          "parcoords": [
           {
            "line": {
             "colorbar": {
              "outlinewidth": 0,
              "ticks": ""
             }
            },
            "type": "parcoords"
           }
          ],
          "pie": [
           {
            "automargin": true,
            "type": "pie"
           }
          ],
          "scatter": [
           {
            "marker": {
             "colorbar": {
              "outlinewidth": 0,
              "ticks": ""
             }
            },
            "type": "scatter"
           }
          ],
          "scatter3d": [
           {
            "line": {
             "colorbar": {
              "outlinewidth": 0,
              "ticks": ""
             }
            },
            "marker": {
             "colorbar": {
              "outlinewidth": 0,
              "ticks": ""
             }
            },
            "type": "scatter3d"
           }
          ],
          "scattercarpet": [
           {
            "marker": {
             "colorbar": {
              "outlinewidth": 0,
              "ticks": ""
             }
            },
            "type": "scattercarpet"
           }
          ],
          "scattergeo": [
           {
            "marker": {
             "colorbar": {
              "outlinewidth": 0,
              "ticks": ""
             }
            },
            "type": "scattergeo"
           }
          ],
          "scattergl": [
           {
            "marker": {
             "colorbar": {
              "outlinewidth": 0,
              "ticks": ""
             }
            },
            "type": "scattergl"
           }
          ],
          "scattermapbox": [
           {
            "marker": {
             "colorbar": {
              "outlinewidth": 0,
              "ticks": ""
             }
            },
            "type": "scattermapbox"
           }
          ],
          "scatterpolar": [
           {
            "marker": {
             "colorbar": {
              "outlinewidth": 0,
              "ticks": ""
             }
            },
            "type": "scatterpolar"
           }
          ],
          "scatterpolargl": [
           {
            "marker": {
             "colorbar": {
              "outlinewidth": 0,
              "ticks": ""
             }
            },
            "type": "scatterpolargl"
           }
          ],
          "scatterternary": [
           {
            "marker": {
             "colorbar": {
              "outlinewidth": 0,
              "ticks": ""
             }
            },
            "type": "scatterternary"
           }
          ],
          "surface": [
           {
            "colorbar": {
             "outlinewidth": 0,
             "ticks": ""
            },
            "colorscale": [
             [
              0,
              "#0d0887"
             ],
             [
              0.1111111111111111,
              "#46039f"
             ],
             [
              0.2222222222222222,
              "#7201a8"
             ],
             [
              0.3333333333333333,
              "#9c179e"
             ],
             [
              0.4444444444444444,
              "#bd3786"
             ],
             [
              0.5555555555555556,
              "#d8576b"
             ],
             [
              0.6666666666666666,
              "#ed7953"
             ],
             [
              0.7777777777777778,
              "#fb9f3a"
             ],
             [
              0.8888888888888888,
              "#fdca26"
             ],
             [
              1,
              "#f0f921"
             ]
            ],
            "type": "surface"
           }
          ],
          "table": [
           {
            "cells": {
             "fill": {
              "color": "#EBF0F8"
             },
             "line": {
              "color": "white"
             }
            },
            "header": {
             "fill": {
              "color": "#C8D4E3"
             },
             "line": {
              "color": "white"
             }
            },
            "type": "table"
           }
          ]
         },
         "layout": {
          "annotationdefaults": {
           "arrowcolor": "#2a3f5f",
           "arrowhead": 0,
           "arrowwidth": 1
          },
          "autotypenumbers": "strict",
          "coloraxis": {
           "colorbar": {
            "outlinewidth": 0,
            "ticks": ""
           }
          },
          "colorscale": {
           "diverging": [
            [
             0,
             "#8e0152"
            ],
            [
             0.1,
             "#c51b7d"
            ],
            [
             0.2,
             "#de77ae"
            ],
            [
             0.3,
             "#f1b6da"
            ],
            [
             0.4,
             "#fde0ef"
            ],
            [
             0.5,
             "#f7f7f7"
            ],
            [
             0.6,
             "#e6f5d0"
            ],
            [
             0.7,
             "#b8e186"
            ],
            [
             0.8,
             "#7fbc41"
            ],
            [
             0.9,
             "#4d9221"
            ],
            [
             1,
             "#276419"
            ]
           ],
           "sequential": [
            [
             0,
             "#0d0887"
            ],
            [
             0.1111111111111111,
             "#46039f"
            ],
            [
             0.2222222222222222,
             "#7201a8"
            ],
            [
             0.3333333333333333,
             "#9c179e"
            ],
            [
             0.4444444444444444,
             "#bd3786"
            ],
            [
             0.5555555555555556,
             "#d8576b"
            ],
            [
             0.6666666666666666,
             "#ed7953"
            ],
            [
             0.7777777777777778,
             "#fb9f3a"
            ],
            [
             0.8888888888888888,
             "#fdca26"
            ],
            [
             1,
             "#f0f921"
            ]
           ],
           "sequentialminus": [
            [
             0,
             "#0d0887"
            ],
            [
             0.1111111111111111,
             "#46039f"
            ],
            [
             0.2222222222222222,
             "#7201a8"
            ],
            [
             0.3333333333333333,
             "#9c179e"
            ],
            [
             0.4444444444444444,
             "#bd3786"
            ],
            [
             0.5555555555555556,
             "#d8576b"
            ],
            [
             0.6666666666666666,
             "#ed7953"
            ],
            [
             0.7777777777777778,
             "#fb9f3a"
            ],
            [
             0.8888888888888888,
             "#fdca26"
            ],
            [
             1,
             "#f0f921"
            ]
           ]
          },
          "colorway": [
           "#636efa",
           "#EF553B",
           "#00cc96",
           "#ab63fa",
           "#FFA15A",
           "#19d3f3",
           "#FF6692",
           "#B6E880",
           "#FF97FF",
           "#FECB52"
          ],
          "font": {
           "color": "#2a3f5f"
          },
          "geo": {
           "bgcolor": "white",
           "lakecolor": "white",
           "landcolor": "#E5ECF6",
           "showlakes": true,
           "showland": true,
           "subunitcolor": "white"
          },
          "hoverlabel": {
           "align": "left"
          },
          "hovermode": "closest",
          "mapbox": {
           "style": "light"
          },
          "paper_bgcolor": "white",
          "plot_bgcolor": "#E5ECF6",
          "polar": {
           "angularaxis": {
            "gridcolor": "white",
            "linecolor": "white",
            "ticks": ""
           },
           "bgcolor": "#E5ECF6",
           "radialaxis": {
            "gridcolor": "white",
            "linecolor": "white",
            "ticks": ""
           }
          },
          "scene": {
           "xaxis": {
            "backgroundcolor": "#E5ECF6",
            "gridcolor": "white",
            "gridwidth": 2,
            "linecolor": "white",
            "showbackground": true,
            "ticks": "",
            "zerolinecolor": "white"
           },
           "yaxis": {
            "backgroundcolor": "#E5ECF6",
            "gridcolor": "white",
            "gridwidth": 2,
            "linecolor": "white",
            "showbackground": true,
            "ticks": "",
            "zerolinecolor": "white"
           },
           "zaxis": {
            "backgroundcolor": "#E5ECF6",
            "gridcolor": "white",
            "gridwidth": 2,
            "linecolor": "white",
            "showbackground": true,
            "ticks": "",
            "zerolinecolor": "white"
           }
          },
          "shapedefaults": {
           "line": {
            "color": "#2a3f5f"
           }
          },
          "ternary": {
           "aaxis": {
            "gridcolor": "white",
            "linecolor": "white",
            "ticks": ""
           },
           "baxis": {
            "gridcolor": "white",
            "linecolor": "white",
            "ticks": ""
           },
           "bgcolor": "#E5ECF6",
           "caxis": {
            "gridcolor": "white",
            "linecolor": "white",
            "ticks": ""
           }
          },
          "title": {
           "x": 0.05
          },
          "xaxis": {
           "automargin": true,
           "gridcolor": "white",
           "linecolor": "white",
           "ticks": "",
           "title": {
            "standoff": 15
           },
           "zerolinecolor": "white",
           "zerolinewidth": 2
          },
          "yaxis": {
           "automargin": true,
           "gridcolor": "white",
           "linecolor": "white",
           "ticks": "",
           "title": {
            "standoff": 15
           },
           "zerolinecolor": "white",
           "zerolinewidth": 2
          }
         }
        }
       }
      }
     },
     "metadata": {}
    }
   ],
   "source": [
    "fig = px.scatter_mapbox(df, lat=\"Latitude\", lon=\"Longitude\", hover_name=\"Date\", hover_data=[\"Local Time\", \"Magnitude\", \"Deepth(KM)\", \"Coordinates\"], color_discrete_sequence=[\"blue\"])\n",
    "fig.update_layout(mapbox_style=\"open-street-map\")\n",
    "fig.update_layout(margin={\"r\":0,\"t\":0,\"l\":0,\"b\":0})\n",
    "fig.show()"
   ]
  },
  {
   "cell_type": "code",
   "execution_count": 20,
   "metadata": {},
   "outputs": [],
   "source": [
    "fig.write_html(\"C:\\\\Users\\jocerdas\\\\OneDrive - Microsoft\\Documents\\\\Python\\\\Python Projects\\\\earthquakers\\\\cr_earthquakes\\\\cr_earthquakes.html\")"
   ]
  },
  {
   "cell_type": "code",
   "execution_count": 20,
   "metadata": {},
   "outputs": [
    {
     "output_type": "execute_result",
     "data": {
      "text/plain": [
       "pandas.core.series.Series"
      ]
     },
     "metadata": {},
     "execution_count": 20
    }
   ],
   "source": [
    "type(df[\"Coordinates\"])"
   ]
  },
  {
   "cell_type": "code",
   "execution_count": null,
   "metadata": {},
   "outputs": [],
   "source": []
  }
 ]
}