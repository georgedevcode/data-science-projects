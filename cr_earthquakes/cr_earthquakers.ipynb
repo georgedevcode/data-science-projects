{
 "metadata": {
  "language_info": {
   "codemirror_mode": {
    "name": "ipython",
    "version": 3
   },
   "file_extension": ".py",
   "mimetype": "text/x-python",
   "name": "python",
   "nbconvert_exporter": "python",
   "pygments_lexer": "ipython3",
   "version": "3.7.2"
  },
  "orig_nbformat": 2,
  "kernelspec": {
   "name": "python372jvsc74a57bd0d3af183c887d61cf5f59dcc2eadf79a3a2c5755385d9e09309c4ac4222b8911a",
   "display_name": "Python 3.7.2 32-bit"
  },
  "metadata": {
   "interpreter": {
    "hash": "d3af183c887d61cf5f59dcc2eadf79a3a2c5755385d9e09309c4ac4222b8911a"
   }
  }
 },
 "nbformat": 4,
 "nbformat_minor": 2,
 "cells": [
  {
   "source": [
    "**The objective of this project is to practice data manipulation with Python and plotting data onto a map by using geolocation data from a CSV file, the dataset we are going to use for this project contains information about the earthquakes registered in Costa Rica from 1/31/2021 to 3/1/2021 with 40 data points describing: date, time, magnitud, deepth, location, latitude and longitude.*"
   ],
   "cell_type": "markdown",
   "metadata": {}
  },
  {
   "cell_type": "code",
   "execution_count": 1,
   "metadata": {},
   "outputs": [],
   "source": [
    "#Imports of the modules we are going to use\n",
    "import os\n",
    "import pandas as pd"
   ]
  },
  {
   "cell_type": "code",
   "execution_count": 2,
   "metadata": {},
   "outputs": [],
   "source": [
    "#Instead of reading the data from the csv file, let's retrieve the data from the site itself following this URL:http://www.ovsicori.una.ac.cr/sistemas/sentidos_map/indexleqs.php\n",
    "table_data = pd.read_html(\"http://www.ovsicori.una.ac.cr/sistemas/sentidos_map/indexleqs.php\")"
   ]
  },
  {
   "cell_type": "code",
   "execution_count": 3,
   "metadata": {},
   "outputs": [
    {
     "output_type": "execute_result",
     "data": {
      "text/plain": [
       "        Fecha      Hora  Magnitud  Profundidad  Latitud  Longitud  \\\n",
       "0         NaN       NaN       NaN          NaN      NaN       NaN   \n",
       "1  2021-05-05  03:59:57       2.4          0.0   7.9336  -82.6912   \n",
       "2  2021-05-05  03:05:39       2.3         98.0   8.5829  -83.2383   \n",
       "3  2021-05-05  02:13:05       0.9          0.0   9.7287  -84.1483   \n",
       "4  2021-05-05  01:15:48       2.7         21.0   9.2084  -82.5190   \n",
       "5  2021-05-05  00:54:37       3.1         15.0   9.1242  -85.5378   \n",
       "6  2021-05-05  00:50:53       2.0         18.0   9.5667  -84.7694   \n",
       "7  2021-05-05  00:05:44       2.9         21.0  10.7969  -85.7022   \n",
       "8  2021-05-04  21:41:26       2.2         17.0   8.7956  -83.7550   \n",
       "9  2021-05-04  18:22:52       2.4         50.0  10.1448  -85.4857   \n",
       "\n",
       "                                        Localizacion Revisado    Autor  Mapa  \n",
       "0                                                NaN      NaN      NaN   NaN  \n",
       "1          29.2 km al Sureste de Pavon de Puntarenas       No    olDbg  mapa  \n",
       "2             6.0 km al Sur de Golfito de Puntarenas       No        -  mapa  \n",
       "3  2.5 km al Suroeste de Vuelta de Jorco de San Jose       No    olDbg  mapa  \n",
       "4                 21.7 km al Suroeste de - de Panama       No    olDbg  mapa  \n",
       "5        68.5 km al Suroeste de Cobano de Puntarenas       No    olDbg  mapa  \n",
       "6          15.2 km al Suroeste de Jaco de Puntarenas       No    olDbg  mapa  \n",
       "7     11.3 km al Noroeste de Nacascolo de Guanacaste       No    olDbg  mapa  \n",
       "8        14.0 km al Noroeste de Sierpe de Puntarenas       No    olDbg  mapa  \n",
       "9          1.5 km al Sureste de Nicoya de Guanacaste       Si  olMlMwp  mapa  "
      ],
      "text/html": "<div>\n<style scoped>\n    .dataframe tbody tr th:only-of-type {\n        vertical-align: middle;\n    }\n\n    .dataframe tbody tr th {\n        vertical-align: top;\n    }\n\n    .dataframe thead th {\n        text-align: right;\n    }\n</style>\n<table border=\"1\" class=\"dataframe\">\n  <thead>\n    <tr style=\"text-align: right;\">\n      <th></th>\n      <th>Fecha</th>\n      <th>Hora</th>\n      <th>Magnitud</th>\n      <th>Profundidad</th>\n      <th>Latitud</th>\n      <th>Longitud</th>\n      <th>Localizacion</th>\n      <th>Revisado</th>\n      <th>Autor</th>\n      <th>Mapa</th>\n    </tr>\n  </thead>\n  <tbody>\n    <tr>\n      <th>0</th>\n      <td>NaN</td>\n      <td>NaN</td>\n      <td>NaN</td>\n      <td>NaN</td>\n      <td>NaN</td>\n      <td>NaN</td>\n      <td>NaN</td>\n      <td>NaN</td>\n      <td>NaN</td>\n      <td>NaN</td>\n    </tr>\n    <tr>\n      <th>1</th>\n      <td>2021-05-05</td>\n      <td>03:59:57</td>\n      <td>2.4</td>\n      <td>0.0</td>\n      <td>7.9336</td>\n      <td>-82.6912</td>\n      <td>29.2 km al Sureste de Pavon de Puntarenas</td>\n      <td>No</td>\n      <td>olDbg</td>\n      <td>mapa</td>\n    </tr>\n    <tr>\n      <th>2</th>\n      <td>2021-05-05</td>\n      <td>03:05:39</td>\n      <td>2.3</td>\n      <td>98.0</td>\n      <td>8.5829</td>\n      <td>-83.2383</td>\n      <td>6.0 km al Sur de Golfito de Puntarenas</td>\n      <td>No</td>\n      <td>-</td>\n      <td>mapa</td>\n    </tr>\n    <tr>\n      <th>3</th>\n      <td>2021-05-05</td>\n      <td>02:13:05</td>\n      <td>0.9</td>\n      <td>0.0</td>\n      <td>9.7287</td>\n      <td>-84.1483</td>\n      <td>2.5 km al Suroeste de Vuelta de Jorco de San Jose</td>\n      <td>No</td>\n      <td>olDbg</td>\n      <td>mapa</td>\n    </tr>\n    <tr>\n      <th>4</th>\n      <td>2021-05-05</td>\n      <td>01:15:48</td>\n      <td>2.7</td>\n      <td>21.0</td>\n      <td>9.2084</td>\n      <td>-82.5190</td>\n      <td>21.7 km al Suroeste de - de Panama</td>\n      <td>No</td>\n      <td>olDbg</td>\n      <td>mapa</td>\n    </tr>\n    <tr>\n      <th>5</th>\n      <td>2021-05-05</td>\n      <td>00:54:37</td>\n      <td>3.1</td>\n      <td>15.0</td>\n      <td>9.1242</td>\n      <td>-85.5378</td>\n      <td>68.5 km al Suroeste de Cobano de Puntarenas</td>\n      <td>No</td>\n      <td>olDbg</td>\n      <td>mapa</td>\n    </tr>\n    <tr>\n      <th>6</th>\n      <td>2021-05-05</td>\n      <td>00:50:53</td>\n      <td>2.0</td>\n      <td>18.0</td>\n      <td>9.5667</td>\n      <td>-84.7694</td>\n      <td>15.2 km al Suroeste de Jaco de Puntarenas</td>\n      <td>No</td>\n      <td>olDbg</td>\n      <td>mapa</td>\n    </tr>\n    <tr>\n      <th>7</th>\n      <td>2021-05-05</td>\n      <td>00:05:44</td>\n      <td>2.9</td>\n      <td>21.0</td>\n      <td>10.7969</td>\n      <td>-85.7022</td>\n      <td>11.3 km al Noroeste de Nacascolo de Guanacaste</td>\n      <td>No</td>\n      <td>olDbg</td>\n      <td>mapa</td>\n    </tr>\n    <tr>\n      <th>8</th>\n      <td>2021-05-04</td>\n      <td>21:41:26</td>\n      <td>2.2</td>\n      <td>17.0</td>\n      <td>8.7956</td>\n      <td>-83.7550</td>\n      <td>14.0 km al Noroeste de Sierpe de Puntarenas</td>\n      <td>No</td>\n      <td>olDbg</td>\n      <td>mapa</td>\n    </tr>\n    <tr>\n      <th>9</th>\n      <td>2021-05-04</td>\n      <td>18:22:52</td>\n      <td>2.4</td>\n      <td>50.0</td>\n      <td>10.1448</td>\n      <td>-85.4857</td>\n      <td>1.5 km al Sureste de Nicoya de Guanacaste</td>\n      <td>Si</td>\n      <td>olMlMwp</td>\n      <td>mapa</td>\n    </tr>\n  </tbody>\n</table>\n</div>"
     },
     "metadata": {},
     "execution_count": 3
    }
   ],
   "source": [
    "#Convert the data for a dataframe\n",
    "df = pd.DataFrame(data=table_data[0])\n",
    "df.head(10)"
   ]
  },
  {
   "cell_type": "code",
   "execution_count": 5,
   "metadata": {},
   "outputs": [
    {
     "output_type": "execute_result",
     "data": {
      "text/plain": [
       "         Fecha      Hora  Magnitud  Profundidad  Latitud  Longitud  \\\n",
       "1   2021-05-05  03:59:57       2.4          0.0   7.9336  -82.6912   \n",
       "2   2021-05-05  03:05:39       2.3         98.0   8.5829  -83.2383   \n",
       "3   2021-05-05  02:13:05       0.9          0.0   9.7287  -84.1483   \n",
       "4   2021-05-05  01:15:48       2.7         21.0   9.2084  -82.5190   \n",
       "5   2021-05-05  00:54:37       3.1         15.0   9.1242  -85.5378   \n",
       "6   2021-05-05  00:50:53       2.0         18.0   9.5667  -84.7694   \n",
       "7   2021-05-05  00:05:44       2.9         21.0  10.7969  -85.7022   \n",
       "8   2021-05-04  21:41:26       2.2         17.0   8.7956  -83.7550   \n",
       "9   2021-05-04  18:22:52       2.4         50.0  10.1448  -85.4857   \n",
       "10  2021-05-04  16:12:15       4.2         15.0  13.8949  -85.7602   \n",
       "11  2021-05-04  14:38:29       3.2          2.0   9.1378  -84.1697   \n",
       "12  2021-05-04  14:30:27       2.2          0.0   9.9228  -84.4219   \n",
       "13  2021-05-04  14:25:15       3.2          5.0   9.7987  -84.1552   \n",
       "14  2021-05-04  13:38:15       1.7         14.0  10.1021  -84.0933   \n",
       "15  2021-05-04  05:18:19       2.8          8.0   9.9623  -83.9584   \n",
       "16  2021-05-04  05:18:18       2.9          7.0   9.9654  -83.9515   \n",
       "17  2021-05-04  04:58:47       1.2         17.0   9.6965  -84.0315   \n",
       "18  2021-05-04  04:34:09       1.7         15.0   9.7732  -84.1542   \n",
       "19  2021-05-04  03:33:55       2.3          9.0   8.9574  -82.9844   \n",
       "20  2021-05-04  02:34:02       1.5          7.0   9.7635  -84.1535   \n",
       "21  2021-05-04  02:26:10       2.1         12.0   9.7889  -84.1620   \n",
       "22  2021-05-04  01:18:08       1.2         46.0  10.0435  -84.1763   \n",
       "23  2021-05-04  00:04:48       2.7         31.0   8.0887  -82.7727   \n",
       "24  2021-05-03  23:24:25       2.0          9.0   8.7133  -83.3400   \n",
       "25  2021-05-03  23:01:56       2.4         18.0   8.6692  -83.2513   \n",
       "26  2021-05-03  22:30:31       2.3         18.0   9.5927  -84.7753   \n",
       "27  2021-05-03  22:08:14       1.9         16.0   9.4963  -83.7912   \n",
       "28  2021-05-03  20:00:50       2.6         24.0   9.3471  -82.5574   \n",
       "29  2021-05-03  20:00:02       4.1         15.0  13.9996  -83.4954   \n",
       "30  2021-05-03  19:14:35       2.3         15.0   9.7963  -83.6914   \n",
       "\n",
       "                                         Localizacion Revisado  \\\n",
       "1           29.2 km al Sureste de Pavon de Puntarenas       No   \n",
       "2              6.0 km al Sur de Golfito de Puntarenas       No   \n",
       "3   2.5 km al Suroeste de Vuelta de Jorco de San Jose       No   \n",
       "4                  21.7 km al Suroeste de - de Panama       No   \n",
       "5         68.5 km al Suroeste de Cobano de Puntarenas       No   \n",
       "6           15.2 km al Suroeste de Jaco de Puntarenas       No   \n",
       "7      11.3 km al Noroeste de Nacascolo de Guanacaste       No   \n",
       "8         14.0 km al Noroeste de Sierpe de Puntarenas       No   \n",
       "9           1.5 km al Sureste de Nicoya de Guanacaste       Si   \n",
       "10                  45.8 km al Este de - de Nicaragua       No   \n",
       "11        27.2 km al Suroeste de Quepos de Puntarenas       No   \n",
       "12        1.5 km al Noroeste de San Pablo de San Jose       No   \n",
       "13      0.7 km al Noroeste de San Ignacio de San Jose       Si   \n",
       "14  0.7 km al Noreste de San Jose de Montana de He...       No   \n",
       "15   1.0 km al Noroeste de Rancho Redondo de San Jose       Si   \n",
       "16   0.6 km al Noroeste de Rancho Redondo de San Jose       Si   \n",
       "17         0.8 km al Sureste de San Pablo de San Jose       Si   \n",
       "18  0.5 km al Suroeste de Vuelta de Jorco de San Jose       No   \n",
       "19         1.4 km al Noreste de Pittier de Puntarenas       No   \n",
       "20   0.7 km al Noreste de Vuelta de Jorco de San Jose       No   \n",
       "21      0.3 km al Suroeste de San Ignacio de San Jose       No   \n",
       "22          1.4 km al Sureste de Alajuela de Alajuela       No   \n",
       "23             14.0 km al Este de Pavon de Puntarenas       No   \n",
       "24        1.9 km al Noroeste de Golfito de Puntarenas       No   \n",
       "25         1.3 km al Noreste de Golfito de Puntarenas       No   \n",
       "26          13.8 km al Suroeste de Jaco de Puntarenas       No   \n",
       "27              1.9 km al Norte de Paramo de San Jose       No   \n",
       "28             18.2 km al Sureste de Sixaola de Limon       Si   \n",
       "29                 76.4 km al Norte de - de Nicaragua       No   \n",
       "30           0.6 km al Sureste de Pejibaye de Cartago       No   \n",
       "\n",
       "              Autor  Mapa  \n",
       "1             olDbg  mapa  \n",
       "2                 -  mapa  \n",
       "3             olDbg  mapa  \n",
       "4             olDbg  mapa  \n",
       "5             olDbg  mapa  \n",
       "6             olDbg  mapa  \n",
       "7             olDbg  mapa  \n",
       "8             olDbg  mapa  \n",
       "9           olMlMwp  mapa  \n",
       "10               or  mapa  \n",
       "11            olDbg  mapa  \n",
       "12                -  mapa  \n",
       "13  UNA:carlosMwpMl  mapa  \n",
       "14            olDbg  mapa  \n",
       "15  UNA:carlosMwpMl  mapa  \n",
       "16  UNA:estebanMwpM  mapa  \n",
       "17                -  mapa  \n",
       "18            olDbg  mapa  \n",
       "19            olDbg  mapa  \n",
       "20            olDbg  mapa  \n",
       "21            olDbg  mapa  \n",
       "22                -  mapa  \n",
       "23            olDbg  mapa  \n",
       "24            olDbg  mapa  \n",
       "25            olDbg  mapa  \n",
       "26            olDbg  mapa  \n",
       "27            olDbg  mapa  \n",
       "28            olDbg  mapa  \n",
       "29               or  mapa  \n",
       "30            olDbg  mapa  "
      ],
      "text/html": "<div>\n<style scoped>\n    .dataframe tbody tr th:only-of-type {\n        vertical-align: middle;\n    }\n\n    .dataframe tbody tr th {\n        vertical-align: top;\n    }\n\n    .dataframe thead th {\n        text-align: right;\n    }\n</style>\n<table border=\"1\" class=\"dataframe\">\n  <thead>\n    <tr style=\"text-align: right;\">\n      <th></th>\n      <th>Fecha</th>\n      <th>Hora</th>\n      <th>Magnitud</th>\n      <th>Profundidad</th>\n      <th>Latitud</th>\n      <th>Longitud</th>\n      <th>Localizacion</th>\n      <th>Revisado</th>\n      <th>Autor</th>\n      <th>Mapa</th>\n    </tr>\n  </thead>\n  <tbody>\n    <tr>\n      <th>1</th>\n      <td>2021-05-05</td>\n      <td>03:59:57</td>\n      <td>2.4</td>\n      <td>0.0</td>\n      <td>7.9336</td>\n      <td>-82.6912</td>\n      <td>29.2 km al Sureste de Pavon de Puntarenas</td>\n      <td>No</td>\n      <td>olDbg</td>\n      <td>mapa</td>\n    </tr>\n    <tr>\n      <th>2</th>\n      <td>2021-05-05</td>\n      <td>03:05:39</td>\n      <td>2.3</td>\n      <td>98.0</td>\n      <td>8.5829</td>\n      <td>-83.2383</td>\n      <td>6.0 km al Sur de Golfito de Puntarenas</td>\n      <td>No</td>\n      <td>-</td>\n      <td>mapa</td>\n    </tr>\n    <tr>\n      <th>3</th>\n      <td>2021-05-05</td>\n      <td>02:13:05</td>\n      <td>0.9</td>\n      <td>0.0</td>\n      <td>9.7287</td>\n      <td>-84.1483</td>\n      <td>2.5 km al Suroeste de Vuelta de Jorco de San Jose</td>\n      <td>No</td>\n      <td>olDbg</td>\n      <td>mapa</td>\n    </tr>\n    <tr>\n      <th>4</th>\n      <td>2021-05-05</td>\n      <td>01:15:48</td>\n      <td>2.7</td>\n      <td>21.0</td>\n      <td>9.2084</td>\n      <td>-82.5190</td>\n      <td>21.7 km al Suroeste de - de Panama</td>\n      <td>No</td>\n      <td>olDbg</td>\n      <td>mapa</td>\n    </tr>\n    <tr>\n      <th>5</th>\n      <td>2021-05-05</td>\n      <td>00:54:37</td>\n      <td>3.1</td>\n      <td>15.0</td>\n      <td>9.1242</td>\n      <td>-85.5378</td>\n      <td>68.5 km al Suroeste de Cobano de Puntarenas</td>\n      <td>No</td>\n      <td>olDbg</td>\n      <td>mapa</td>\n    </tr>\n    <tr>\n      <th>6</th>\n      <td>2021-05-05</td>\n      <td>00:50:53</td>\n      <td>2.0</td>\n      <td>18.0</td>\n      <td>9.5667</td>\n      <td>-84.7694</td>\n      <td>15.2 km al Suroeste de Jaco de Puntarenas</td>\n      <td>No</td>\n      <td>olDbg</td>\n      <td>mapa</td>\n    </tr>\n    <tr>\n      <th>7</th>\n      <td>2021-05-05</td>\n      <td>00:05:44</td>\n      <td>2.9</td>\n      <td>21.0</td>\n      <td>10.7969</td>\n      <td>-85.7022</td>\n      <td>11.3 km al Noroeste de Nacascolo de Guanacaste</td>\n      <td>No</td>\n      <td>olDbg</td>\n      <td>mapa</td>\n    </tr>\n    <tr>\n      <th>8</th>\n      <td>2021-05-04</td>\n      <td>21:41:26</td>\n      <td>2.2</td>\n      <td>17.0</td>\n      <td>8.7956</td>\n      <td>-83.7550</td>\n      <td>14.0 km al Noroeste de Sierpe de Puntarenas</td>\n      <td>No</td>\n      <td>olDbg</td>\n      <td>mapa</td>\n    </tr>\n    <tr>\n      <th>9</th>\n      <td>2021-05-04</td>\n      <td>18:22:52</td>\n      <td>2.4</td>\n      <td>50.0</td>\n      <td>10.1448</td>\n      <td>-85.4857</td>\n      <td>1.5 km al Sureste de Nicoya de Guanacaste</td>\n      <td>Si</td>\n      <td>olMlMwp</td>\n      <td>mapa</td>\n    </tr>\n    <tr>\n      <th>10</th>\n      <td>2021-05-04</td>\n      <td>16:12:15</td>\n      <td>4.2</td>\n      <td>15.0</td>\n      <td>13.8949</td>\n      <td>-85.7602</td>\n      <td>45.8 km al Este de - de Nicaragua</td>\n      <td>No</td>\n      <td>or</td>\n      <td>mapa</td>\n    </tr>\n    <tr>\n      <th>11</th>\n      <td>2021-05-04</td>\n      <td>14:38:29</td>\n      <td>3.2</td>\n      <td>2.0</td>\n      <td>9.1378</td>\n      <td>-84.1697</td>\n      <td>27.2 km al Suroeste de Quepos de Puntarenas</td>\n      <td>No</td>\n      <td>olDbg</td>\n      <td>mapa</td>\n    </tr>\n    <tr>\n      <th>12</th>\n      <td>2021-05-04</td>\n      <td>14:30:27</td>\n      <td>2.2</td>\n      <td>0.0</td>\n      <td>9.9228</td>\n      <td>-84.4219</td>\n      <td>1.5 km al Noroeste de San Pablo de San Jose</td>\n      <td>No</td>\n      <td>-</td>\n      <td>mapa</td>\n    </tr>\n    <tr>\n      <th>13</th>\n      <td>2021-05-04</td>\n      <td>14:25:15</td>\n      <td>3.2</td>\n      <td>5.0</td>\n      <td>9.7987</td>\n      <td>-84.1552</td>\n      <td>0.7 km al Noroeste de San Ignacio de San Jose</td>\n      <td>Si</td>\n      <td>UNA:carlosMwpMl</td>\n      <td>mapa</td>\n    </tr>\n    <tr>\n      <th>14</th>\n      <td>2021-05-04</td>\n      <td>13:38:15</td>\n      <td>1.7</td>\n      <td>14.0</td>\n      <td>10.1021</td>\n      <td>-84.0933</td>\n      <td>0.7 km al Noreste de San Jose de Montana de He...</td>\n      <td>No</td>\n      <td>olDbg</td>\n      <td>mapa</td>\n    </tr>\n    <tr>\n      <th>15</th>\n      <td>2021-05-04</td>\n      <td>05:18:19</td>\n      <td>2.8</td>\n      <td>8.0</td>\n      <td>9.9623</td>\n      <td>-83.9584</td>\n      <td>1.0 km al Noroeste de Rancho Redondo de San Jose</td>\n      <td>Si</td>\n      <td>UNA:carlosMwpMl</td>\n      <td>mapa</td>\n    </tr>\n    <tr>\n      <th>16</th>\n      <td>2021-05-04</td>\n      <td>05:18:18</td>\n      <td>2.9</td>\n      <td>7.0</td>\n      <td>9.9654</td>\n      <td>-83.9515</td>\n      <td>0.6 km al Noroeste de Rancho Redondo de San Jose</td>\n      <td>Si</td>\n      <td>UNA:estebanMwpM</td>\n      <td>mapa</td>\n    </tr>\n    <tr>\n      <th>17</th>\n      <td>2021-05-04</td>\n      <td>04:58:47</td>\n      <td>1.2</td>\n      <td>17.0</td>\n      <td>9.6965</td>\n      <td>-84.0315</td>\n      <td>0.8 km al Sureste de San Pablo de San Jose</td>\n      <td>Si</td>\n      <td>-</td>\n      <td>mapa</td>\n    </tr>\n    <tr>\n      <th>18</th>\n      <td>2021-05-04</td>\n      <td>04:34:09</td>\n      <td>1.7</td>\n      <td>15.0</td>\n      <td>9.7732</td>\n      <td>-84.1542</td>\n      <td>0.5 km al Suroeste de Vuelta de Jorco de San Jose</td>\n      <td>No</td>\n      <td>olDbg</td>\n      <td>mapa</td>\n    </tr>\n    <tr>\n      <th>19</th>\n      <td>2021-05-04</td>\n      <td>03:33:55</td>\n      <td>2.3</td>\n      <td>9.0</td>\n      <td>8.9574</td>\n      <td>-82.9844</td>\n      <td>1.4 km al Noreste de Pittier de Puntarenas</td>\n      <td>No</td>\n      <td>olDbg</td>\n      <td>mapa</td>\n    </tr>\n    <tr>\n      <th>20</th>\n      <td>2021-05-04</td>\n      <td>02:34:02</td>\n      <td>1.5</td>\n      <td>7.0</td>\n      <td>9.7635</td>\n      <td>-84.1535</td>\n      <td>0.7 km al Noreste de Vuelta de Jorco de San Jose</td>\n      <td>No</td>\n      <td>olDbg</td>\n      <td>mapa</td>\n    </tr>\n    <tr>\n      <th>21</th>\n      <td>2021-05-04</td>\n      <td>02:26:10</td>\n      <td>2.1</td>\n      <td>12.0</td>\n      <td>9.7889</td>\n      <td>-84.1620</td>\n      <td>0.3 km al Suroeste de San Ignacio de San Jose</td>\n      <td>No</td>\n      <td>olDbg</td>\n      <td>mapa</td>\n    </tr>\n    <tr>\n      <th>22</th>\n      <td>2021-05-04</td>\n      <td>01:18:08</td>\n      <td>1.2</td>\n      <td>46.0</td>\n      <td>10.0435</td>\n      <td>-84.1763</td>\n      <td>1.4 km al Sureste de Alajuela de Alajuela</td>\n      <td>No</td>\n      <td>-</td>\n      <td>mapa</td>\n    </tr>\n    <tr>\n      <th>23</th>\n      <td>2021-05-04</td>\n      <td>00:04:48</td>\n      <td>2.7</td>\n      <td>31.0</td>\n      <td>8.0887</td>\n      <td>-82.7727</td>\n      <td>14.0 km al Este de Pavon de Puntarenas</td>\n      <td>No</td>\n      <td>olDbg</td>\n      <td>mapa</td>\n    </tr>\n    <tr>\n      <th>24</th>\n      <td>2021-05-03</td>\n      <td>23:24:25</td>\n      <td>2.0</td>\n      <td>9.0</td>\n      <td>8.7133</td>\n      <td>-83.3400</td>\n      <td>1.9 km al Noroeste de Golfito de Puntarenas</td>\n      <td>No</td>\n      <td>olDbg</td>\n      <td>mapa</td>\n    </tr>\n    <tr>\n      <th>25</th>\n      <td>2021-05-03</td>\n      <td>23:01:56</td>\n      <td>2.4</td>\n      <td>18.0</td>\n      <td>8.6692</td>\n      <td>-83.2513</td>\n      <td>1.3 km al Noreste de Golfito de Puntarenas</td>\n      <td>No</td>\n      <td>olDbg</td>\n      <td>mapa</td>\n    </tr>\n    <tr>\n      <th>26</th>\n      <td>2021-05-03</td>\n      <td>22:30:31</td>\n      <td>2.3</td>\n      <td>18.0</td>\n      <td>9.5927</td>\n      <td>-84.7753</td>\n      <td>13.8 km al Suroeste de Jaco de Puntarenas</td>\n      <td>No</td>\n      <td>olDbg</td>\n      <td>mapa</td>\n    </tr>\n    <tr>\n      <th>27</th>\n      <td>2021-05-03</td>\n      <td>22:08:14</td>\n      <td>1.9</td>\n      <td>16.0</td>\n      <td>9.4963</td>\n      <td>-83.7912</td>\n      <td>1.9 km al Norte de Paramo de San Jose</td>\n      <td>No</td>\n      <td>olDbg</td>\n      <td>mapa</td>\n    </tr>\n    <tr>\n      <th>28</th>\n      <td>2021-05-03</td>\n      <td>20:00:50</td>\n      <td>2.6</td>\n      <td>24.0</td>\n      <td>9.3471</td>\n      <td>-82.5574</td>\n      <td>18.2 km al Sureste de Sixaola de Limon</td>\n      <td>Si</td>\n      <td>olDbg</td>\n      <td>mapa</td>\n    </tr>\n    <tr>\n      <th>29</th>\n      <td>2021-05-03</td>\n      <td>20:00:02</td>\n      <td>4.1</td>\n      <td>15.0</td>\n      <td>13.9996</td>\n      <td>-83.4954</td>\n      <td>76.4 km al Norte de - de Nicaragua</td>\n      <td>No</td>\n      <td>or</td>\n      <td>mapa</td>\n    </tr>\n    <tr>\n      <th>30</th>\n      <td>2021-05-03</td>\n      <td>19:14:35</td>\n      <td>2.3</td>\n      <td>15.0</td>\n      <td>9.7963</td>\n      <td>-83.6914</td>\n      <td>0.6 km al Sureste de Pejibaye de Cartago</td>\n      <td>No</td>\n      <td>olDbg</td>\n      <td>mapa</td>\n    </tr>\n  </tbody>\n</table>\n</div>"
     },
     "metadata": {},
     "execution_count": 5
    }
   ],
   "source": [
    "df.dropna()"
   ]
  },
  {
   "cell_type": "code",
   "execution_count": 6,
   "metadata": {},
   "outputs": [],
   "source": [
    "#We dropped the column \"Localizacion\", \"Revisado\",\"Autor\",\"Mapa\", since we are going to use the geopy library to find out the location based on the coordinates\n",
    "df = df.drop(columns=[\"Localizacion\", \"Revisado\",\"Autor\",\"Mapa\"])"
   ]
  },
  {
   "cell_type": "code",
   "execution_count": 7,
   "metadata": {},
   "outputs": [
    {
     "output_type": "execute_result",
     "data": {
      "text/plain": [
       "         Fecha      Hora  Magnitud  Profundidad  Latitud  Longitud\n",
       "1   2021-05-05  03:59:57       2.4          0.0   7.9336  -82.6912\n",
       "2   2021-05-05  03:05:39       2.3         98.0   8.5829  -83.2383\n",
       "3   2021-05-05  02:13:05       0.9          0.0   9.7287  -84.1483\n",
       "4   2021-05-05  01:15:48       2.7         21.0   9.2084  -82.5190\n",
       "5   2021-05-05  00:54:37       3.1         15.0   9.1242  -85.5378\n",
       "6   2021-05-05  00:50:53       2.0         18.0   9.5667  -84.7694\n",
       "7   2021-05-05  00:05:44       2.9         21.0  10.7969  -85.7022\n",
       "8   2021-05-04  21:41:26       2.2         17.0   8.7956  -83.7550\n",
       "9   2021-05-04  18:22:52       2.4         50.0  10.1448  -85.4857\n",
       "10  2021-05-04  16:12:15       4.2         15.0  13.8949  -85.7602"
      ],
      "text/html": "<div>\n<style scoped>\n    .dataframe tbody tr th:only-of-type {\n        vertical-align: middle;\n    }\n\n    .dataframe tbody tr th {\n        vertical-align: top;\n    }\n\n    .dataframe thead th {\n        text-align: right;\n    }\n</style>\n<table border=\"1\" class=\"dataframe\">\n  <thead>\n    <tr style=\"text-align: right;\">\n      <th></th>\n      <th>Fecha</th>\n      <th>Hora</th>\n      <th>Magnitud</th>\n      <th>Profundidad</th>\n      <th>Latitud</th>\n      <th>Longitud</th>\n    </tr>\n  </thead>\n  <tbody>\n    <tr>\n      <th>1</th>\n      <td>2021-05-05</td>\n      <td>03:59:57</td>\n      <td>2.4</td>\n      <td>0.0</td>\n      <td>7.9336</td>\n      <td>-82.6912</td>\n    </tr>\n    <tr>\n      <th>2</th>\n      <td>2021-05-05</td>\n      <td>03:05:39</td>\n      <td>2.3</td>\n      <td>98.0</td>\n      <td>8.5829</td>\n      <td>-83.2383</td>\n    </tr>\n    <tr>\n      <th>3</th>\n      <td>2021-05-05</td>\n      <td>02:13:05</td>\n      <td>0.9</td>\n      <td>0.0</td>\n      <td>9.7287</td>\n      <td>-84.1483</td>\n    </tr>\n    <tr>\n      <th>4</th>\n      <td>2021-05-05</td>\n      <td>01:15:48</td>\n      <td>2.7</td>\n      <td>21.0</td>\n      <td>9.2084</td>\n      <td>-82.5190</td>\n    </tr>\n    <tr>\n      <th>5</th>\n      <td>2021-05-05</td>\n      <td>00:54:37</td>\n      <td>3.1</td>\n      <td>15.0</td>\n      <td>9.1242</td>\n      <td>-85.5378</td>\n    </tr>\n    <tr>\n      <th>6</th>\n      <td>2021-05-05</td>\n      <td>00:50:53</td>\n      <td>2.0</td>\n      <td>18.0</td>\n      <td>9.5667</td>\n      <td>-84.7694</td>\n    </tr>\n    <tr>\n      <th>7</th>\n      <td>2021-05-05</td>\n      <td>00:05:44</td>\n      <td>2.9</td>\n      <td>21.0</td>\n      <td>10.7969</td>\n      <td>-85.7022</td>\n    </tr>\n    <tr>\n      <th>8</th>\n      <td>2021-05-04</td>\n      <td>21:41:26</td>\n      <td>2.2</td>\n      <td>17.0</td>\n      <td>8.7956</td>\n      <td>-83.7550</td>\n    </tr>\n    <tr>\n      <th>9</th>\n      <td>2021-05-04</td>\n      <td>18:22:52</td>\n      <td>2.4</td>\n      <td>50.0</td>\n      <td>10.1448</td>\n      <td>-85.4857</td>\n    </tr>\n    <tr>\n      <th>10</th>\n      <td>2021-05-04</td>\n      <td>16:12:15</td>\n      <td>4.2</td>\n      <td>15.0</td>\n      <td>13.8949</td>\n      <td>-85.7602</td>\n    </tr>\n  </tbody>\n</table>\n</div>"
     },
     "metadata": {},
     "execution_count": 7
    }
   ],
   "source": [
    "#Confirm the column \"Localizacion\" was dropped\n",
    "df.head(10)"
   ]
  },
  {
   "cell_type": "code",
   "execution_count": 23,
   "metadata": {},
   "outputs": [],
   "source": [
    "#let's rename the columns from Spanish to English\n",
    "df = df.rename(columns={\"Fecha\":\"Date\",\"Hora\":\"Local Time\",\"Magnitud\":\"Magnitude\",\"Profundidad\":\"Deepth(KM)\", \"Latitud\":\"Latitude\", \"Longitud\":\"Longitude\"})"
   ]
  },
  {
   "cell_type": "code",
   "execution_count": 24,
   "metadata": {},
   "outputs": [
    {
     "output_type": "execute_result",
     "data": {
      "text/plain": [
       "          Date Local Time  Magnitude  Deepth(KM)  Latitude  Longitude  \\\n",
       "1   2021-05-05   03:59:57        2.4         0.0    7.9336   -82.6912   \n",
       "2   2021-05-05   03:05:39        2.3        98.0    8.5829   -83.2383   \n",
       "3   2021-05-05   02:13:05        0.9         0.0    9.7287   -84.1483   \n",
       "4   2021-05-05   01:15:48        2.7        21.0    9.2084   -82.5190   \n",
       "5   2021-05-05   00:54:37        3.1        15.0    9.1242   -85.5378   \n",
       "6   2021-05-05   00:50:53        2.0        18.0    9.5667   -84.7694   \n",
       "7   2021-05-05   00:05:44        2.9        21.0   10.7969   -85.7022   \n",
       "8   2021-05-04   21:41:26        2.2        17.0    8.7956   -83.7550   \n",
       "9   2021-05-04   18:22:52        2.4        50.0   10.1448   -85.4857   \n",
       "10  2021-05-04   16:12:15        4.2        15.0   13.8949   -85.7602   \n",
       "\n",
       "          Coordinates                                           Location  \n",
       "1    7.9336, -82.6912  (Chiriquí, Panamá, (8.139963649999999, -82.259...  \n",
       "2    8.5829, -83.2383  (Provincia Puntarenas, Costa Rica, (9.13740299...  \n",
       "3    9.7287, -84.1483  (Cangrejal, Cantón Acosta, Provincia San José,...  \n",
       "4     9.2084, -82.519  (Distrito Changuinola, Bocas del Toro, Panamá,...  \n",
       "5    9.1242, -85.5378                                               None  \n",
       "6    9.5667, -84.7694                                               None  \n",
       "7   10.7969, -85.7022  (Provincia Guanacaste, Costa Rica, (10.4313298...  \n",
       "8     8.7956, -83.755  (Provincia Puntarenas, Costa Rica, (9.13740299...  \n",
       "9   10.1448, -85.4857  (Nicoya, Cantón Nicoya, Provincia Guanacaste, ...  \n",
       "10  13.8949, -85.7602  (Wiwilí de Jinotega (Municipio), Jinotega, 667...  "
      ],
      "text/html": "<div>\n<style scoped>\n    .dataframe tbody tr th:only-of-type {\n        vertical-align: middle;\n    }\n\n    .dataframe tbody tr th {\n        vertical-align: top;\n    }\n\n    .dataframe thead th {\n        text-align: right;\n    }\n</style>\n<table border=\"1\" class=\"dataframe\">\n  <thead>\n    <tr style=\"text-align: right;\">\n      <th></th>\n      <th>Date</th>\n      <th>Local Time</th>\n      <th>Magnitude</th>\n      <th>Deepth(KM)</th>\n      <th>Latitude</th>\n      <th>Longitude</th>\n      <th>Coordinates</th>\n      <th>Location</th>\n    </tr>\n  </thead>\n  <tbody>\n    <tr>\n      <th>1</th>\n      <td>2021-05-05</td>\n      <td>03:59:57</td>\n      <td>2.4</td>\n      <td>0.0</td>\n      <td>7.9336</td>\n      <td>-82.6912</td>\n      <td>7.9336, -82.6912</td>\n      <td>(Chiriquí, Panamá, (8.139963649999999, -82.259...</td>\n    </tr>\n    <tr>\n      <th>2</th>\n      <td>2021-05-05</td>\n      <td>03:05:39</td>\n      <td>2.3</td>\n      <td>98.0</td>\n      <td>8.5829</td>\n      <td>-83.2383</td>\n      <td>8.5829, -83.2383</td>\n      <td>(Provincia Puntarenas, Costa Rica, (9.13740299...</td>\n    </tr>\n    <tr>\n      <th>3</th>\n      <td>2021-05-05</td>\n      <td>02:13:05</td>\n      <td>0.9</td>\n      <td>0.0</td>\n      <td>9.7287</td>\n      <td>-84.1483</td>\n      <td>9.7287, -84.1483</td>\n      <td>(Cangrejal, Cantón Acosta, Provincia San José,...</td>\n    </tr>\n    <tr>\n      <th>4</th>\n      <td>2021-05-05</td>\n      <td>01:15:48</td>\n      <td>2.7</td>\n      <td>21.0</td>\n      <td>9.2084</td>\n      <td>-82.5190</td>\n      <td>9.2084, -82.519</td>\n      <td>(Distrito Changuinola, Bocas del Toro, Panamá,...</td>\n    </tr>\n    <tr>\n      <th>5</th>\n      <td>2021-05-05</td>\n      <td>00:54:37</td>\n      <td>3.1</td>\n      <td>15.0</td>\n      <td>9.1242</td>\n      <td>-85.5378</td>\n      <td>9.1242, -85.5378</td>\n      <td>None</td>\n    </tr>\n    <tr>\n      <th>6</th>\n      <td>2021-05-05</td>\n      <td>00:50:53</td>\n      <td>2.0</td>\n      <td>18.0</td>\n      <td>9.5667</td>\n      <td>-84.7694</td>\n      <td>9.5667, -84.7694</td>\n      <td>None</td>\n    </tr>\n    <tr>\n      <th>7</th>\n      <td>2021-05-05</td>\n      <td>00:05:44</td>\n      <td>2.9</td>\n      <td>21.0</td>\n      <td>10.7969</td>\n      <td>-85.7022</td>\n      <td>10.7969, -85.7022</td>\n      <td>(Provincia Guanacaste, Costa Rica, (10.4313298...</td>\n    </tr>\n    <tr>\n      <th>8</th>\n      <td>2021-05-04</td>\n      <td>21:41:26</td>\n      <td>2.2</td>\n      <td>17.0</td>\n      <td>8.7956</td>\n      <td>-83.7550</td>\n      <td>8.7956, -83.755</td>\n      <td>(Provincia Puntarenas, Costa Rica, (9.13740299...</td>\n    </tr>\n    <tr>\n      <th>9</th>\n      <td>2021-05-04</td>\n      <td>18:22:52</td>\n      <td>2.4</td>\n      <td>50.0</td>\n      <td>10.1448</td>\n      <td>-85.4857</td>\n      <td>10.1448, -85.4857</td>\n      <td>(Nicoya, Cantón Nicoya, Provincia Guanacaste, ...</td>\n    </tr>\n    <tr>\n      <th>10</th>\n      <td>2021-05-04</td>\n      <td>16:12:15</td>\n      <td>4.2</td>\n      <td>15.0</td>\n      <td>13.8949</td>\n      <td>-85.7602</td>\n      <td>13.8949, -85.7602</td>\n      <td>(Wiwilí de Jinotega (Municipio), Jinotega, 667...</td>\n    </tr>\n  </tbody>\n</table>\n</div>"
     },
     "metadata": {},
     "execution_count": 24
    }
   ],
   "source": [
    "#Confirmed our columns were renamed correctly\n",
    "df.head(10)"
   ]
  },
  {
   "cell_type": "code",
   "execution_count": 10,
   "metadata": {},
   "outputs": [],
   "source": [
    "#Since the geopy reverse() function only accepts an unique string containing the latitude and longitude for the coordinates, then; let's create a column called Coordinates and let's concatenate the values for latitude and longitude and convert them to strings.\n",
    "df[\"Coordinates\"] = df[\"Latitude\"].astype(str) + \", \" + df[\"Longitude\"].astype(str)"
   ]
  },
  {
   "cell_type": "code",
   "execution_count": 11,
   "metadata": {},
   "outputs": [
    {
     "output_type": "execute_result",
     "data": {
      "text/plain": [
       "         Date      Hora  Magnitude  Deepth(KM)  Latitude  Longitude  \\\n",
       "1  2021-05-05  03:59:57        2.4         0.0    7.9336   -82.6912   \n",
       "2  2021-05-05  03:05:39        2.3        98.0    8.5829   -83.2383   \n",
       "3  2021-05-05  02:13:05        0.9         0.0    9.7287   -84.1483   \n",
       "4  2021-05-05  01:15:48        2.7        21.0    9.2084   -82.5190   \n",
       "5  2021-05-05  00:54:37        3.1        15.0    9.1242   -85.5378   \n",
       "\n",
       "        Coordinates  \n",
       "1  7.9336, -82.6912  \n",
       "2  8.5829, -83.2383  \n",
       "3  9.7287, -84.1483  \n",
       "4   9.2084, -82.519  \n",
       "5  9.1242, -85.5378  "
      ],
      "text/html": "<div>\n<style scoped>\n    .dataframe tbody tr th:only-of-type {\n        vertical-align: middle;\n    }\n\n    .dataframe tbody tr th {\n        vertical-align: top;\n    }\n\n    .dataframe thead th {\n        text-align: right;\n    }\n</style>\n<table border=\"1\" class=\"dataframe\">\n  <thead>\n    <tr style=\"text-align: right;\">\n      <th></th>\n      <th>Date</th>\n      <th>Hora</th>\n      <th>Magnitude</th>\n      <th>Deepth(KM)</th>\n      <th>Latitude</th>\n      <th>Longitude</th>\n      <th>Coordinates</th>\n    </tr>\n  </thead>\n  <tbody>\n    <tr>\n      <th>1</th>\n      <td>2021-05-05</td>\n      <td>03:59:57</td>\n      <td>2.4</td>\n      <td>0.0</td>\n      <td>7.9336</td>\n      <td>-82.6912</td>\n      <td>7.9336, -82.6912</td>\n    </tr>\n    <tr>\n      <th>2</th>\n      <td>2021-05-05</td>\n      <td>03:05:39</td>\n      <td>2.3</td>\n      <td>98.0</td>\n      <td>8.5829</td>\n      <td>-83.2383</td>\n      <td>8.5829, -83.2383</td>\n    </tr>\n    <tr>\n      <th>3</th>\n      <td>2021-05-05</td>\n      <td>02:13:05</td>\n      <td>0.9</td>\n      <td>0.0</td>\n      <td>9.7287</td>\n      <td>-84.1483</td>\n      <td>9.7287, -84.1483</td>\n    </tr>\n    <tr>\n      <th>4</th>\n      <td>2021-05-05</td>\n      <td>01:15:48</td>\n      <td>2.7</td>\n      <td>21.0</td>\n      <td>9.2084</td>\n      <td>-82.5190</td>\n      <td>9.2084, -82.519</td>\n    </tr>\n    <tr>\n      <th>5</th>\n      <td>2021-05-05</td>\n      <td>00:54:37</td>\n      <td>3.1</td>\n      <td>15.0</td>\n      <td>9.1242</td>\n      <td>-85.5378</td>\n      <td>9.1242, -85.5378</td>\n    </tr>\n  </tbody>\n</table>\n</div>"
     },
     "metadata": {},
     "execution_count": 11
    }
   ],
   "source": [
    "#Now we can see the column Coordinates holding both latitude and longitude but a strings\n",
    "df.head()"
   ]
  },
  {
   "source": [
    "Let's use the Geopy library to figure out from the coordinates the location where the earthquake was registered\n",
    "https://pypi.org/project/geopy/\n"
   ],
   "cell_type": "markdown",
   "metadata": {}
  },
  {
   "cell_type": "code",
   "execution_count": 16,
   "metadata": {},
   "outputs": [],
   "source": [
    "#Importing the geopy library\n",
    "from geopy.geocoders import Nominatim"
   ]
  },
  {
   "cell_type": "code",
   "execution_count": 13,
   "metadata": {},
   "outputs": [],
   "source": [
    "#This empty list will hold each location found based on the coordinates\n",
    "location = []"
   ]
  },
  {
   "cell_type": "code",
   "execution_count": 17,
   "metadata": {},
   "outputs": [],
   "source": [
    "geolocator = Nominatim(user_agent=\"Earthquakes in CR\")"
   ]
  },
  {
   "cell_type": "code",
   "execution_count": 15,
   "metadata": {
    "tags": []
   },
   "outputs": [
    {
     "output_type": "stream",
     "name": "stdout",
     "text": [
      "0 None\n",
      "1 None\n",
      "2 Chiriquí, Panamá\n",
      "3 Chiriquí, Panamá\n",
      "4 Carillo, Provincia Guanacaste, 50302, Costa Rica\n",
      "5 Vía 224, Dulce Nombre, Cantón Cartago, Provincia Cartago, 30109, Costa Rica\n",
      "6 Finca Guayacán, Rodolfo Aguilar Delgado, Distrito Barú, Chiriquí, Panamá\n",
      "7 Avenida 42, Precario Barrio Nuevo, Curridabat, Cantón Curridabat, Provincia San José, 11801, Costa Rica\n",
      "8 PALI, Avenida 88, Barrio Fallas, Desamparados, Cantón Desamparados, Provincia San José, 10301, Costa Rica\n",
      "9 San José, Rivas, Cantón Pérez Zeledón, Provincia San José, 11904, Costa Rica\n",
      "10 Flor del Roble de Coto Brus, Gutiérrez Braun, Cantón Coto Brus, Provincia Puntarenas, 60806, Costa Rica\n",
      "11 Barú, Cantón Pérez Zeledón, Provincia San José, 11909, Costa Rica\n",
      "12 Provincia Puntarenas, Costa Rica\n",
      "13 Calle 47, Lomas de San Francisco, San Francisco de Dos Ríos, San José, Cantón San José, Provincia San José, 10106, Costa Rica\n",
      "14 La Rosticería, Vía 210, Barrio La Colina, San Antonio, Cantón Desamparados, Provincia San José, 11804, Costa Rica\n",
      "15 Plaza Deportes Monteclaro, Calle Francisco Núñez, Barrio Centro de Amigos, Desamparados, Cantón Desamparados, Provincia San José, 10301, Costa Rica\n",
      "16 Cedral, Colón, Cantón Mora, Provincia San José, 10701, Costa Rica\n",
      "17 None\n",
      "18 Rivas, Cantón Pérez Zeledón, Provincia San José, 11904, Costa Rica\n",
      "19 Calle Toledo - Bajo Cerdas, Toledo, Guaitil, Cantón Acosta, Provincia San José, 11202, Costa Rica\n",
      "20 None\n",
      "21 Vía 234, Barrio el Progreso, Barrio La Guaria, Pandora, Valle La Estrella, Cantón Limón, Provincia Limón, 70102, Costa Rica\n",
      "22 Bajo Cárdenas, Guaitil, Cantón Acosta, Provincia San José, 11202, Costa Rica\n",
      "23 Calle Toledo - Bajo Cerdas, Toledo, Guaitil, Cantón Acosta, Provincia San José, 11202, Costa Rica\n",
      "24 Provincia Puntarenas, Costa Rica\n",
      "25 Provincia Puntarenas, Costa Rica\n",
      "26 Cascabel, Caldera, Cantón Esparza, Provincia Puntarenas, 60206, Costa Rica\n",
      "27 Canaan, Rivas, Cantón Pérez Zeledón, Provincia San José, 11904, Costa Rica\n",
      "28 Rivas, Cantón Pérez Zeledón, Provincia San José, 11904, Costa Rica\n",
      "29 Chuma, Rivas, Cantón Pérez Zeledón, Provincia San José, 11904, Costa Rica\n",
      "30 Calle Río Tigre, El Bambú, Puerto Jiménez, Cantón Golfito, Provincia Puntarenas, 60702, Costa Rica\n",
      "31 Vía 805, Barrio Veinticuatro Millas, Matina, Cantón Matina, Provincia Limón, 70501, Costa Rica\n",
      "32 None\n",
      "33 Tabarcia, Cantón Mora, Provincia San José, 10703, Costa Rica\n",
      "34 Orosi, Cantón Paraíso, Provincia Cartago, 30203, Costa Rica\n",
      "35 Calle Punta de Mira, Punto de Mira, Savegre, Cantón Quepos, Provincia Puntarenas, 60602, Costa Rica\n",
      "36 Provincia Puntarenas, Costa Rica\n",
      "37 Calle Punta de Mira, Punto de Mira, Savegre, Cantón Quepos, Provincia Puntarenas, 60602, Costa Rica\n",
      "38 Calle Violeta, San Cristobal Sur, San Cristóbal, Cantón Desamparados, Provincia San José, 10308, Costa Rica\n",
      "39 Vía 226, San Cristobal Sur, San Cristóbal, Cantón Desamparados, Provincia San José, 10308, Costa Rica\n",
      "40 León (Municipio), León, 21000, Nicaragua\n",
      "41 Río Hondo, San Carlos, Pacuarito, Cantón Siquirres, Provincia Limón, 70302, Costa Rica\n",
      "42 Carara, Cantón Turrubares, Provincia San José, 11605, Costa Rica\n",
      "43 Mansión, Cantón Nicoya, Provincia Guanacaste, 50202, Costa Rica\n",
      "44 Calle Cedral - San Martín, San Martín, Santa Cruz, Cantón León Cortés Castro, Provincia San José, 12005, Costa Rica\n",
      "45 Plaza Deportes La Lucha, Calle San Martín - La Lucha, Santa Cruz, Cantón León Cortés Castro, Provincia San José, 12005, Costa Rica\n",
      "46 Coris, Quebradilla, Cantón Cartago, Provincia Cartago, 30111, Costa Rica\n",
      "47 Varablanca, Cantón Heredia, Provincia Heredia, 40105, Costa Rica\n",
      "48 Provincia Puntarenas, Costa Rica\n",
      "49 Las Horquetas, Cantón Sarapiquí, Provincia Heredia, 41003, Costa Rica\n",
      "50 None\n",
      "51 None\n",
      "52 None\n",
      "53 Alto Cacao, Chánguena, Cantón Buenos Aires, Provincia Puntarenas, 60307, Costa Rica\n",
      "54 None\n",
      "55 Avenida 32, Barrio Rincón San Marcos, Piedades, Cantón Santa Ana, Provincia San José, 10905, Costa Rica\n",
      "56 None\n",
      "57 None\n",
      "58 Barrio Tejarcillos, San Felipe, Cantón Alajuelita, Provincia San José, 11005, Costa Rica\n",
      "59 La Rambla, Las Horquetas, Cantón Sarapiquí, Provincia Heredia, 41003, Costa Rica\n",
      "60 None\n",
      "61 None\n",
      "62 Avenida 2, Barrio Caraña, Piedades, Cantón Santa Ana, Provincia San José, 10905, Costa Rica\n",
      "63 Calle 80, Barrio Rincón San Marcos, Piedades, Cantón Santa Ana, Provincia San José, 10905, Costa Rica\n",
      "64 Avenida 7, La Lima, Taras, San Nicolás, Cantón Cartago, Provincia Cartago, 30104, Costa Rica\n",
      "65 Provincia Puntarenas, Costa Rica\n",
      "66 Provincia Puntarenas, Costa Rica\n",
      "67 Vía 219, Vista Hermosa, San Rafael, Cantón Oreamuno, Provincia Cartago, 30701, Costa Rica\n",
      "68 Bagaces, Cantón Bagaces, Provincia Guanacaste, 50401, Costa Rica\n",
      "69 La Estrella, Vara del Roble, San Isidro, Cantón El Guarco, Provincia Cartago, 30802, Costa Rica\n",
      "70 Montezuma, Cóbano, Cantón Puntarenas, Provincia Puntarenas, 60111, Costa Rica\n",
      "71 Calle Las Vueltas, Río Blanco, Copey, Cantón Dota, Provincia San José, 11703, Costa Rica\n",
      "72 Calle Ruta Maleku, Barrio Carlos Vargas, Bijagua, Cantón Upala, Provincia Alajuela, 21304, Costa Rica\n",
      "73 Provincia Puntarenas, Costa Rica\n",
      "74 Vía 224, Urbanizacion Loaiza, Cachí, Cantón Paraíso, Provincia Cartago, 30204, Costa Rica\n",
      "75 Calle Boniche, Tortugal, Las Juntas, Cantón Abangares, Provincia Guanacaste, 50701, Costa Rica\n",
      "76 Alto Cacao, Chánguena, Cantón Buenos Aires, Provincia Puntarenas, 60307, Costa Rica\n",
      "77 San Josecito, Golfito, Cantón Golfito, Provincia Puntarenas, 60701, Costa Rica\n",
      "78 El Palmar, Puerto Armuelles, Distrito Barú, Chiriquí, 0426, Panamá\n",
      "79 None\n",
      "80 Río Macho, Orosi, Cantón Paraíso, Provincia Cartago, 30203, Costa Rica\n",
      "81 San Francisco, Rivas, Cantón Pérez Zeledón, Provincia San José, 11904, Costa Rica\n",
      "82 Barrio Esquipulas 2, San Felipe, Cantón Alajuelita, Provincia San José, 11005, Costa Rica\n",
      "83 Vía 920, La Guinea, Filadelfia, Cantón Carrillo, Provincia Guanacaste, 50501, Costa Rica\n",
      "84 Calle La Legua, Mastate, San Juan, Cantón Poás, Provincia Alajuela, 20802, Costa Rica\n",
      "85 Calle Los Chinchilla, Barrio San Isidro, Guayabo, Cantón Mora, Provincia San José, 10702, Costa Rica\n",
      "86 Dulce Nombre, Cantón Cartago, Provincia Cartago, 30109, Costa Rica\n",
      "87 San Josecito, Golfito, Cantón Golfito, Provincia Puntarenas, 60701, Costa Rica\n",
      "88 Resid. Tango Mar, Cóbano, Cantón Puntarenas, Provincia Puntarenas, 60111, Costa Rica\n",
      "89 Provincia Limón, Costa Rica\n",
      "90 None\n",
      "91 La Isabel, Cantón Turrialba, Provincia Cartago, 30511, Costa Rica\n",
      "92 None\n",
      "93 Calle Buenos Aires, Buenos Aires, Naranjito, Cantón Quepos, Provincia Puntarenas, 60603, Costa Rica\n",
      "94 Provincia Puntarenas, Costa Rica\n",
      "95 Río Nuevo, Cantón Pérez Zeledón, Provincia San José, 11910, Costa Rica\n",
      "96 Calle Dindirí, Carbón 1, Cahuita, Cantón Talamanca, Provincia Limón, 70403, Costa Rica\n",
      "97 Provincia Guanacaste, Costa Rica\n",
      "98 Quircot, Taras, San Nicolás, Cantón Cartago, Provincia Cartago, 30104, Costa Rica\n",
      "99 Avenida 61, Quircot, San Nicolás, Cantón Cartago, Provincia Cartago, 30104, Costa Rica\n",
      "100 Calle Tiquires - Ceiba Este, Cangrejal, Cantón Acosta, Provincia San José, 11204, Costa Rica\n",
      "101 None\n",
      "102 None\n",
      "103 San Isidro, Cantón El Guarco, Provincia Cartago, 30802, Costa Rica\n",
      "104 Provincia Puntarenas, Costa Rica\n",
      "105 Pulpería, Vía 177, Barrio Peralta, San Felipe, Cantón Alajuelita, Provincia San José, 11005, Costa Rica\n",
      "106 None\n",
      "107 La Cima, Carara, Cantón Turrubares, Provincia San José, 11605, Costa Rica\n",
      "108 None\n",
      "109 None\n",
      "110 Guayabo Arriba, Santa Cruz, Cantón Turrialba, Provincia Cartago, 30504, Costa Rica\n",
      "111 Provincia Puntarenas, Costa Rica\n",
      "112 Copey, Cantón Dota, Provincia San José, 11703, Costa Rica\n",
      "113 None\n",
      "114 Calle 131, Urb. La Melinda, Ipís, Cantón Goicoechea, Provincia San José, 10805, Costa Rica\n",
      "115 Paso Hondo, Bebedero, Cantón Cañas, Provincia Guanacaste, 50604, Costa Rica\n",
      "116 Chirripó, Cantón Turrialba, Provincia Cartago, 30512, Costa Rica\n",
      "117 Provincia Puntarenas, Costa Rica\n",
      "118 Calle La Hilda, Jacó, Cantón Garabito, Provincia Puntarenas, 61101, Costa Rica\n",
      "119 Calle Ruiseñor, Platanares, San Jerónimo, Cantón Moravia, Provincia San José, 11402, Costa Rica\n",
      "120 Calle Tiquires - Ceiba Este, Cangrejal, Cantón Acosta, Provincia San José, 11204, Costa Rica\n",
      "121 San Ramón Sur, Páramo, Cantón Pérez Zeledón, Provincia San José, 11911, Costa Rica\n",
      "122 Boca del Río Matina, Carrandi, Cantón Matina, Provincia Limón, 70503, Costa Rica\n",
      "123 Sendero El Roble, Potrero Cerrado, Cantón Oreamuno, Provincia Cartago, 30703, Costa Rica\n",
      "124 Calle Cerro El Nene, Santa Marta, Naranjito, Cantón Quepos, Provincia Puntarenas, 60603, Costa Rica\n",
      "125 Calle Piedades, Bajo Campos, Piedades, Barbacoas, Cantón Puriscal, Provincia San José, 10403, Costa Rica\n",
      "126 Calle Hacienda Camello, Grifo Alto, Cantón Puriscal, Provincia San José, 10404, Costa Rica\n",
      "127 Calle Cerro El Nene, Santa Marta, Naranjito, Cantón Quepos, Provincia Puntarenas, 60603, Costa Rica\n",
      "128 Entrada De San San, Guabito, Distrito Changuinola, Bocas del Toro, Panamá\n",
      "129 None\n",
      "130 Avenida 54, Barrio Chirracal, Salitral, Cantón Santa Ana, Provincia San José, 10902, Costa Rica\n",
      "131 Diagonal 68, Barrio Mantinilla, Salitral, Cantón Santa Ana, Provincia San José, 10902, Costa Rica\n",
      "132 Mirador La Ventolera, Calle 35, Barrio Bebedero, San Antonio, Cantón Escazú, Provincia San José, 10202, Costa Rica\n",
      "133 Calle Los Amigos, Barrio Guayabos, San Antonio, Cantón Escazú, Provincia San José, 10202, Costa Rica\n",
      "134 Planetarium, Comarca Chiquilistagua, Distrito III, Managua (Municipio), Departamento de Managua, 10000 (CODIGO MAESTRO), Nicaragua\n",
      "135 Calle Vieja La Angostura, Bajo Los Ángeles, San Andrés, Cantón León Cortés Castro, Provincia San José, 12002, Costa Rica\n",
      "136 None\n",
      "137 Bajo Chires, Chires, Cantón Puriscal, Provincia San José, 10409, Costa Rica\n",
      "138 Urb. Lomas del Bosque, Los Guido, Cantón Desamparados, Provincia San José, 10313, Costa Rica\n",
      "139 Calle 7, Barrio Mantinilla, Salitral, Cantón Santa Ana, Provincia San José, 10902, Costa Rica\n",
      "140 Resid. Orowe, Los Guido, Cantón Desamparados, Provincia San José, 10313, Costa Rica\n",
      "141 Calle 7, Barrio Mantinilla, Salitral, Cantón Santa Ana, Provincia San José, 10902, Costa Rica\n",
      "142 Orosi, Cantón Paraíso, Provincia Cartago, 30203, Costa Rica\n",
      "143 Calle San Andrés - Pregregoso - Higuerón, San Andrés, Cantón León Cortés Castro, Provincia San José, 12002, Costa Rica\n",
      "144 Urb. Los Robles, Los Guido, Cantón Desamparados, Provincia San José, 10313, Costa Rica\n",
      "145 None\n",
      "146 Calle Cangrejal - Tiquires, Escuadra, Cangrejal, Cantón Acosta, Provincia San José, 11204, Costa Rica\n",
      "147 Tobosi, Cantón El Guarco, Provincia Cartago, 30803, Costa Rica\n",
      "148 Provincia Puntarenas, Costa Rica\n",
      "149 Aguacaliente, Cantón Cartago, Provincia Cartago, 30105, Costa Rica\n",
      "150 Vara del Roble, San Isidro, Cantón El Guarco, Provincia Cartago, 30802, Costa Rica\n",
      "151 Calle 78, Barrio El Triunfo, Piedades, Cantón Santa Ana, Provincia San José, 10905, Costa Rica\n",
      "152 Provincia Puntarenas, Costa Rica\n",
      "153 Barrio Lourdes, Aserrí, Cantón Aserrí, Provincia San José, 10601, Costa Rica\n",
      "154 Calle Los Plancitos, Rodolfo Aguilar Delgado, Distrito Barú, Chiriquí, Panamá\n",
      "155 Calle 28, Piedades, Cantón Santa Ana, Provincia San José, 10905, Costa Rica\n",
      "156 Barrio Montaña del Sol, Piedades, Cantón Santa Ana, Provincia San José, 10905, Costa Rica\n",
      "157 Provincia Puntarenas, Costa Rica\n",
      "158 Calle Los Plancitos, Laurel, Cantón Corredores, Provincia Puntarenas, 61004, Costa Rica\n",
      "159 Calle Alto Conte, Barrio Las Brisas, Progreso, Conte, Pavón, Cantón Golfito, Provincia Puntarenas, 60704, Costa Rica\n",
      "160 None\n",
      "161 Llano La Virgen, San Carlos, Cantón Tarrazú, Provincia San José, 10503, Costa Rica\n",
      "162 Calle Los Carones, Pavón, Cantón Golfito, Provincia Puntarenas, 60704, Costa Rica\n",
      "163 Calle Los Carones, Pavón, Cantón Golfito, Provincia Puntarenas, 60704, Costa Rica\n",
      "164 Calle Alto Guaymí, Alto Guaymí, Pavón, Cantón Golfito, Provincia Puntarenas, 60704, Costa Rica\n",
      "165 Provincia Puntarenas, Costa Rica\n",
      "166 Quebrada de Sábalos, Puerto Armuelles, Distrito Barú, Chiriquí, Panamá\n",
      "167 Calle Alto Carona, Alto Carona, Pavón, Cantón Golfito, Provincia Puntarenas, 60704, Costa Rica\n",
      "168 Pavón, Cantón Golfito, Provincia Puntarenas, 60704, Costa Rica\n",
      "169 Plaza Deportes El Valle, Calle El Valle, El Valle, Pavón, Cantón Golfito, Provincia Puntarenas, 60704, Costa Rica\n",
      "170 Cuesta Los Carones, Pavón, Cantón Golfito, Provincia Puntarenas, 60704, Costa Rica\n",
      "171 La Peña, Pavón, Cantón Golfito, Provincia Puntarenas, 60704, Costa Rica\n",
      "172 Provincia Puntarenas, Costa Rica\n",
      "173 Agua Fría, Puerto Armuelles, Distrito Barú, Chiriquí, Panamá\n",
      "174 None\n",
      "175 Barrio Montaña del Sol, Piedades, Cantón Santa Ana, Provincia San José, 10905, Costa Rica\n",
      "176 Provincia Puntarenas, Costa Rica\n",
      "177 None\n",
      "178 Rivas (Municipio), Rivas, 47000, Nicaragua\n",
      "179 Calle Cedral, Colón, Cantón Mora, Provincia San José, 10701, Costa Rica\n",
      "180 Quebrada de Sábalos, Puerto Armuelles, Distrito Barú, Chiriquí, Panamá\n",
      "181 Calle Matasanos, San Isidro de El General, Cantón Pérez Zeledón, Provincia San José, 11901, Costa Rica\n",
      "182 Diagonal 26, Barrio Montaña del Sol, Piedades, Cantón Santa Ana, Provincia San José, 10905, Costa Rica\n",
      "183 Tres Equis, Cantón Turrialba, Provincia Cartago, 30510, Costa Rica\n",
      "184 Calle Río Picagres, Piedras Negras, Cantón Mora, Provincia San José, 10704, Costa Rica\n",
      "185 Vía 10, Tres Equis, Cantón Turrialba, Provincia Cartago, 30510, Costa Rica\n",
      "186 Calle Tigrito, Tigrito, Pavón, Cantón Golfito, Provincia Puntarenas, 60704, Costa Rica\n",
      "187 Corredor, Cantón Corredores, Provincia Puntarenas, 61001, Costa Rica\n",
      "188 Barrio Montaña del Sol, Piedades, Cantón Santa Ana, Provincia San José, 10905, Costa Rica\n",
      "189 Colonia Guayabo, Santa Teresita, Cantón Turrialba, Provincia Cartago, 30505, Costa Rica\n",
      "190 Bejuco, Parrita, Cantón Parrita, Provincia Puntarenas, 60901, Costa Rica\n",
      "191 Vía 146, La Pradera, Sabana Redonda, Cantón Poás, Provincia Alajuela, 20805, Costa Rica\n",
      "192 San Juan de Nicaragua (Greytown), Río San Juan, 92500, Nicaragua\n",
      "193 Avenida 40, Barrio Montaña del Sol, Piedades, Cantón Santa Ana, Provincia San José, 10905, Costa Rica\n",
      "194 Rivas (Municipio), Rivas, 47000, Nicaragua\n",
      "195 Potrero Cerrado, Cantón Oreamuno, Provincia Cartago, 30703, Costa Rica\n",
      "196 Belén (Municipio), Rivas, 48400, Nicaragua\n",
      "197 Belén de Nosarita, Cantón Nicoya, Provincia Guanacaste, 50207, Costa Rica\n",
      "198 Aguacaliente, Cantón Cartago, Provincia Cartago, 30105, Costa Rica\n",
      "199 Avenida Domingo Sarmiento, Luján, Catedral, San José, Cantón San José, Provincia San José, 10104, Costa Rica\n",
      "200 Provincia Puntarenas, Costa Rica\n",
      "201 Varablanca, Cantón Heredia, Provincia Heredia, 40105, Costa Rica\n",
      "202 Calle Finca Orgánica, Copey, Cantón Dota, Provincia San José, 11703, Costa Rica\n",
      "203 Pizzería, Calle Quintana Norte, Quintana Sur, San Pablo, Cantón San Pablo, Provincia Heredia, 40901, Costa Rica\n",
      "204 Calle Turales, Concepción, Cantón San Rafael, Provincia Heredia, 40505, Costa Rica\n",
      "205 Provincia Puntarenas, Costa Rica\n",
      "206 Santa Lucía, Río Nuevo, Cantón Pérez Zeledón, Provincia San José, 11910, Costa Rica\n",
      "207 Provincia Puntarenas, Costa Rica\n",
      "208 La Unión, Cuajiniquil, Cantón Santa Cruz, Provincia Guanacaste, 50306, Costa Rica\n",
      "209 None\n",
      "210 Calle El Sitio, Orosi, Cantón Paraíso, Provincia Cartago, 30203, Costa Rica\n",
      "211 Calle El Sitio, Orosi, Cantón Paraíso, Provincia Cartago, 30203, Costa Rica\n",
      "212 Manaca Civil, Rodolfo Aguilar Delgado, Distrito Barú, Chiriquí, Panamá\n",
      "213 Transversal 52, Barrio Caraña, Piedades, Cantón Santa Ana, Provincia San José, 10905, Costa Rica\n",
      "214 None\n",
      "215 None\n",
      "216 Calle Incendio, Río Incendio, Bella Luz de La Vaca, Laurel, Cantón Corredores, Provincia Puntarenas, 61004, Costa Rica\n",
      "217 Plaza Deportes Kilómetro 29, Vía 608, Kilómetro 27, Kilómetro 29, Laurel, Cantón Corredores, Provincia Puntarenas, 61004, Costa Rica\n",
      "218 Calle Monteverde, Laurel, Cantón Corredores, Provincia Puntarenas, 61004, Costa Rica\n",
      "219 Cupilapa, La Fortuna, Cantón Bagaces, Provincia Guanacaste, 50402, Costa Rica\n",
      "220 Calle Jesús, Barrio Santa Lucía, Las Juntas, Cantón Abangares, Provincia Guanacaste, 50701, Costa Rica\n",
      "221 Provincia Puntarenas, Costa Rica\n",
      "222 Calle Rincón, Naranjo, Cantón Naranjo, Provincia Alajuela, 20601, Costa Rica\n",
      "223 Isla Palo Seco, Parrita, Cantón Parrita, Provincia Puntarenas, 60901, Costa Rica\n",
      "224 Provincia Puntarenas, Costa Rica\n",
      "225 None\n",
      "226 El Brujo, Copey, Cantón Dota, Provincia San José, 11703, Costa Rica\n",
      "227 Invu San Luis, Monte Verde, Cantón Puntarenas, Provincia Puntarenas, 60109, Costa Rica\n",
      "228 Avenida 60A, La Pacífica, San Francisco de Dos Ríos, San José, Cantón San José, Provincia San José, 10106, Costa Rica\n",
      "229 Calle 69, Barrio San José, Curridabat, Cantón Curridabat, Provincia San José, 11801, Costa Rica\n",
      "230 Riyito, Golfito, Cantón Golfito, Provincia Puntarenas, 60701, Costa Rica\n",
      "231 Centro Médico Cristiano, Calle Del Cura, Barrio San Lorenzo, Fátima, Damas, Cantón Desamparados, Provincia San José, 10310, Costa Rica\n"
     ]
    }
   ],
   "source": [
    "#We loop through the rows in the dataset, and call the reverse() function to find the location based on the coordinates\n",
    "for index, row in df.iterrows():\n",
    "    location.append(str(geolocator.reverse(row[\"Coordinates\"])))\n",
    "    print(str(index) + \" \" + location[index])"
   ]
  },
  {
   "cell_type": "code",
   "execution_count": 19,
   "metadata": {},
   "outputs": [],
   "source": [
    "df[\"Location\"] = df[\"Coordinates\"].apply(geolocator.reverse)"
   ]
  },
  {
   "cell_type": "code",
   "execution_count": 20,
   "metadata": {},
   "outputs": [
    {
     "output_type": "execute_result",
     "data": {
      "text/plain": [
       "          Date      Hora  Magnitude  Deepth(KM)  Latitude  Longitude  \\\n",
       "1   2021-05-05  03:59:57        2.4         0.0    7.9336   -82.6912   \n",
       "2   2021-05-05  03:05:39        2.3        98.0    8.5829   -83.2383   \n",
       "3   2021-05-05  02:13:05        0.9         0.0    9.7287   -84.1483   \n",
       "4   2021-05-05  01:15:48        2.7        21.0    9.2084   -82.5190   \n",
       "5   2021-05-05  00:54:37        3.1        15.0    9.1242   -85.5378   \n",
       "6   2021-05-05  00:50:53        2.0        18.0    9.5667   -84.7694   \n",
       "7   2021-05-05  00:05:44        2.9        21.0   10.7969   -85.7022   \n",
       "8   2021-05-04  21:41:26        2.2        17.0    8.7956   -83.7550   \n",
       "9   2021-05-04  18:22:52        2.4        50.0   10.1448   -85.4857   \n",
       "10  2021-05-04  16:12:15        4.2        15.0   13.8949   -85.7602   \n",
       "\n",
       "          Coordinates                                           Location  \n",
       "1    7.9336, -82.6912  (Chiriquí, Panamá, (8.139963649999999, -82.259...  \n",
       "2    8.5829, -83.2383  (Provincia Puntarenas, Costa Rica, (9.13740299...  \n",
       "3    9.7287, -84.1483  (Cangrejal, Cantón Acosta, Provincia San José,...  \n",
       "4     9.2084, -82.519  (Distrito Changuinola, Bocas del Toro, Panamá,...  \n",
       "5    9.1242, -85.5378                                               None  \n",
       "6    9.5667, -84.7694                                               None  \n",
       "7   10.7969, -85.7022  (Provincia Guanacaste, Costa Rica, (10.4313298...  \n",
       "8     8.7956, -83.755  (Provincia Puntarenas, Costa Rica, (9.13740299...  \n",
       "9   10.1448, -85.4857  (Nicoya, Cantón Nicoya, Provincia Guanacaste, ...  \n",
       "10  13.8949, -85.7602  (Wiwilí de Jinotega (Municipio), Jinotega, 667...  "
      ],
      "text/html": "<div>\n<style scoped>\n    .dataframe tbody tr th:only-of-type {\n        vertical-align: middle;\n    }\n\n    .dataframe tbody tr th {\n        vertical-align: top;\n    }\n\n    .dataframe thead th {\n        text-align: right;\n    }\n</style>\n<table border=\"1\" class=\"dataframe\">\n  <thead>\n    <tr style=\"text-align: right;\">\n      <th></th>\n      <th>Date</th>\n      <th>Hora</th>\n      <th>Magnitude</th>\n      <th>Deepth(KM)</th>\n      <th>Latitude</th>\n      <th>Longitude</th>\n      <th>Coordinates</th>\n      <th>Location</th>\n    </tr>\n  </thead>\n  <tbody>\n    <tr>\n      <th>1</th>\n      <td>2021-05-05</td>\n      <td>03:59:57</td>\n      <td>2.4</td>\n      <td>0.0</td>\n      <td>7.9336</td>\n      <td>-82.6912</td>\n      <td>7.9336, -82.6912</td>\n      <td>(Chiriquí, Panamá, (8.139963649999999, -82.259...</td>\n    </tr>\n    <tr>\n      <th>2</th>\n      <td>2021-05-05</td>\n      <td>03:05:39</td>\n      <td>2.3</td>\n      <td>98.0</td>\n      <td>8.5829</td>\n      <td>-83.2383</td>\n      <td>8.5829, -83.2383</td>\n      <td>(Provincia Puntarenas, Costa Rica, (9.13740299...</td>\n    </tr>\n    <tr>\n      <th>3</th>\n      <td>2021-05-05</td>\n      <td>02:13:05</td>\n      <td>0.9</td>\n      <td>0.0</td>\n      <td>9.7287</td>\n      <td>-84.1483</td>\n      <td>9.7287, -84.1483</td>\n      <td>(Cangrejal, Cantón Acosta, Provincia San José,...</td>\n    </tr>\n    <tr>\n      <th>4</th>\n      <td>2021-05-05</td>\n      <td>01:15:48</td>\n      <td>2.7</td>\n      <td>21.0</td>\n      <td>9.2084</td>\n      <td>-82.5190</td>\n      <td>9.2084, -82.519</td>\n      <td>(Distrito Changuinola, Bocas del Toro, Panamá,...</td>\n    </tr>\n    <tr>\n      <th>5</th>\n      <td>2021-05-05</td>\n      <td>00:54:37</td>\n      <td>3.1</td>\n      <td>15.0</td>\n      <td>9.1242</td>\n      <td>-85.5378</td>\n      <td>9.1242, -85.5378</td>\n      <td>None</td>\n    </tr>\n    <tr>\n      <th>6</th>\n      <td>2021-05-05</td>\n      <td>00:50:53</td>\n      <td>2.0</td>\n      <td>18.0</td>\n      <td>9.5667</td>\n      <td>-84.7694</td>\n      <td>9.5667, -84.7694</td>\n      <td>None</td>\n    </tr>\n    <tr>\n      <th>7</th>\n      <td>2021-05-05</td>\n      <td>00:05:44</td>\n      <td>2.9</td>\n      <td>21.0</td>\n      <td>10.7969</td>\n      <td>-85.7022</td>\n      <td>10.7969, -85.7022</td>\n      <td>(Provincia Guanacaste, Costa Rica, (10.4313298...</td>\n    </tr>\n    <tr>\n      <th>8</th>\n      <td>2021-05-04</td>\n      <td>21:41:26</td>\n      <td>2.2</td>\n      <td>17.0</td>\n      <td>8.7956</td>\n      <td>-83.7550</td>\n      <td>8.7956, -83.755</td>\n      <td>(Provincia Puntarenas, Costa Rica, (9.13740299...</td>\n    </tr>\n    <tr>\n      <th>9</th>\n      <td>2021-05-04</td>\n      <td>18:22:52</td>\n      <td>2.4</td>\n      <td>50.0</td>\n      <td>10.1448</td>\n      <td>-85.4857</td>\n      <td>10.1448, -85.4857</td>\n      <td>(Nicoya, Cantón Nicoya, Provincia Guanacaste, ...</td>\n    </tr>\n    <tr>\n      <th>10</th>\n      <td>2021-05-04</td>\n      <td>16:12:15</td>\n      <td>4.2</td>\n      <td>15.0</td>\n      <td>13.8949</td>\n      <td>-85.7602</td>\n      <td>13.8949, -85.7602</td>\n      <td>(Wiwilí de Jinotega (Municipio), Jinotega, 667...</td>\n    </tr>\n  </tbody>\n</table>\n</div>"
     },
     "metadata": {},
     "execution_count": 20
    }
   ],
   "source": [
    "df.head(10)"
   ]
  },
  {
   "source": [
    "Now, that we have our data set ready, let's create some visualization using plotly:https://plotly.com/python/mapbox-layers/ "
   ],
   "cell_type": "markdown",
   "metadata": {}
  },
  {
   "cell_type": "code",
   "execution_count": 21,
   "metadata": {},
   "outputs": [],
   "source": [
    "import plotly.express as px"
   ]
  },
  {
   "cell_type": "code",
   "execution_count": 25,
   "metadata": {},
   "outputs": [
    {
     "output_type": "display_data",
     "data": {
      "application/vnd.plotly.v1+json": {
       "config": {
        "plotlyServerURL": "https://plot.ly"
       },
       "data": [
        {
         "customdata": [
          [
           "03:59:57",
           2.4,
           0,
           "7.9336, -82.6912"
          ],
          [
           "03:05:39",
           2.3,
           98,
           "8.5829, -83.2383"
          ],
          [
           "02:13:05",
           0.9,
           0,
           "9.7287, -84.1483"
          ],
          [
           "01:15:48",
           2.7,
           21,
           "9.2084, -82.519"
          ],
          [
           "00:54:37",
           3.1,
           15,
           "9.1242, -85.5378"
          ],
          [
           "00:50:53",
           2,
           18,
           "9.5667, -84.7694"
          ],
          [
           "00:05:44",
           2.9,
           21,
           "10.7969, -85.7022"
          ],
          [
           "21:41:26",
           2.2,
           17,
           "8.7956, -83.755"
          ],
          [
           "18:22:52",
           2.4,
           50,
           "10.1448, -85.4857"
          ],
          [
           "16:12:15",
           4.2,
           15,
           "13.8949, -85.7602"
          ],
          [
           "14:38:29",
           3.2,
           2,
           "9.1378, -84.1697"
          ],
          [
           "14:30:27",
           2.2,
           0,
           "9.9228, -84.4219"
          ],
          [
           "14:25:15",
           3.2,
           5,
           "9.7987, -84.1552"
          ],
          [
           "13:38:15",
           1.7,
           14,
           "10.1021, -84.0933"
          ],
          [
           "05:18:19",
           2.8,
           8,
           "9.9623, -83.9584"
          ],
          [
           "05:18:18",
           2.9,
           7,
           "9.9654, -83.9515"
          ],
          [
           "04:58:47",
           1.2,
           17,
           "9.6965, -84.0315"
          ],
          [
           "04:34:09",
           1.7,
           15,
           "9.7732, -84.1542"
          ],
          [
           "03:33:55",
           2.3,
           9,
           "8.9574, -82.9844"
          ],
          [
           "02:34:02",
           1.5,
           7,
           "9.7635, -84.1535"
          ],
          [
           "02:26:10",
           2.1,
           12,
           "9.7889, -84.162"
          ],
          [
           "01:18:08",
           1.2,
           46,
           "10.0435, -84.1763"
          ],
          [
           "00:04:48",
           2.7,
           31,
           "8.0887, -82.7727"
          ],
          [
           "23:24:25",
           2,
           9,
           "8.7133, -83.34"
          ],
          [
           "23:01:56",
           2.4,
           18,
           "8.6692, -83.2513"
          ],
          [
           "22:30:31",
           2.3,
           18,
           "9.5927, -84.7753"
          ],
          [
           "22:08:14",
           1.9,
           16,
           "9.4963, -83.7912"
          ],
          [
           "20:00:50",
           2.6,
           24,
           "9.3471, -82.5574"
          ],
          [
           "20:00:02",
           4.1,
           15,
           "13.9996, -83.4954"
          ],
          [
           "19:14:35",
           2.3,
           15,
           "9.7963, -83.6914"
          ]
         ],
         "hovertemplate": "<b>%{hovertext}</b><br><br>Latitude=%{lat}<br>Longitude=%{lon}<br>Local Time=%{customdata[0]}<br>Magnitude=%{customdata[1]}<br>Deepth(KM)=%{customdata[2]}<br>Coordinates=%{customdata[3]}<extra></extra>",
         "hovertext": [
          "2021-05-05",
          "2021-05-05",
          "2021-05-05",
          "2021-05-05",
          "2021-05-05",
          "2021-05-05",
          "2021-05-05",
          "2021-05-04",
          "2021-05-04",
          "2021-05-04",
          "2021-05-04",
          "2021-05-04",
          "2021-05-04",
          "2021-05-04",
          "2021-05-04",
          "2021-05-04",
          "2021-05-04",
          "2021-05-04",
          "2021-05-04",
          "2021-05-04",
          "2021-05-04",
          "2021-05-04",
          "2021-05-04",
          "2021-05-03",
          "2021-05-03",
          "2021-05-03",
          "2021-05-03",
          "2021-05-03",
          "2021-05-03",
          "2021-05-03"
         ],
         "lat": [
          7.9336,
          8.5829,
          9.7287,
          9.2084,
          9.1242,
          9.5667,
          10.7969,
          8.7956,
          10.1448,
          13.8949,
          9.1378,
          9.9228,
          9.7987,
          10.1021,
          9.9623,
          9.9654,
          9.6965,
          9.7732,
          8.9574,
          9.7635,
          9.7889,
          10.0435,
          8.0887,
          8.7133,
          8.6692,
          9.5927,
          9.4963,
          9.3471,
          13.9996,
          9.7963
         ],
         "legendgroup": "",
         "lon": [
          -82.6912,
          -83.2383,
          -84.1483,
          -82.519,
          -85.5378,
          -84.7694,
          -85.7022,
          -83.755,
          -85.4857,
          -85.7602,
          -84.1697,
          -84.4219,
          -84.1552,
          -84.0933,
          -83.9584,
          -83.9515,
          -84.0315,
          -84.1542,
          -82.9844,
          -84.1535,
          -84.162,
          -84.1763,
          -82.7727,
          -83.34,
          -83.2513,
          -84.7753,
          -83.7912,
          -82.5574,
          -83.4954,
          -83.6914
         ],
         "marker": {
          "color": "blue"
         },
         "mode": "markers",
         "name": "",
         "showlegend": false,
         "subplot": "mapbox",
         "type": "scattermapbox"
        }
       ],
       "layout": {
        "legend": {
         "tracegroupgap": 0
        },
        "mapbox": {
         "center": {
          "lat": 9.7464,
          "lon": -83.98979
         },
         "domain": {
          "x": [
           0,
           1
          ],
          "y": [
           0,
           1
          ]
         },
         "style": "open-street-map",
         "zoom": 8
        },
        "margin": {
         "b": 0,
         "l": 0,
         "r": 0,
         "t": 0
        },
        "template": {
         "data": {
          "bar": [
           {
            "error_x": {
             "color": "#2a3f5f"
            },
            "error_y": {
             "color": "#2a3f5f"
            },
            "marker": {
             "line": {
              "color": "#E5ECF6",
              "width": 0.5
             }
            },
            "type": "bar"
           }
          ],
          "barpolar": [
           {
            "marker": {
             "line": {
              "color": "#E5ECF6",
              "width": 0.5
             }
            },
            "type": "barpolar"
           }
          ],
          "carpet": [
           {
            "aaxis": {
             "endlinecolor": "#2a3f5f",
             "gridcolor": "white",
             "linecolor": "white",
             "minorgridcolor": "white",
             "startlinecolor": "#2a3f5f"
            },
            "baxis": {
             "endlinecolor": "#2a3f5f",
             "gridcolor": "white",
             "linecolor": "white",
             "minorgridcolor": "white",
             "startlinecolor": "#2a3f5f"
            },
            "type": "carpet"
           }
          ],
          "choropleth": [
           {
            "colorbar": {
             "outlinewidth": 0,
             "ticks": ""
            },
            "type": "choropleth"
           }
          ],
          "contour": [
           {
            "colorbar": {
             "outlinewidth": 0,
             "ticks": ""
            },
            "colorscale": [
             [
              0,
              "#0d0887"
             ],
             [
              0.1111111111111111,
              "#46039f"
             ],
             [
              0.2222222222222222,
              "#7201a8"
             ],
             [
              0.3333333333333333,
              "#9c179e"
             ],
             [
              0.4444444444444444,
              "#bd3786"
             ],
             [
              0.5555555555555556,
              "#d8576b"
             ],
             [
              0.6666666666666666,
              "#ed7953"
             ],
             [
              0.7777777777777778,
              "#fb9f3a"
             ],
             [
              0.8888888888888888,
              "#fdca26"
             ],
             [
              1,
              "#f0f921"
             ]
            ],
            "type": "contour"
           }
          ],
          "contourcarpet": [
           {
            "colorbar": {
             "outlinewidth": 0,
             "ticks": ""
            },
            "type": "contourcarpet"
           }
          ],
          "heatmap": [
           {
            "colorbar": {
             "outlinewidth": 0,
             "ticks": ""
            },
            "colorscale": [
             [
              0,
              "#0d0887"
             ],
             [
              0.1111111111111111,
              "#46039f"
             ],
             [
              0.2222222222222222,
              "#7201a8"
             ],
             [
              0.3333333333333333,
              "#9c179e"
             ],
             [
              0.4444444444444444,
              "#bd3786"
             ],
             [
              0.5555555555555556,
              "#d8576b"
             ],
             [
              0.6666666666666666,
              "#ed7953"
             ],
             [
              0.7777777777777778,
              "#fb9f3a"
             ],
             [
              0.8888888888888888,
              "#fdca26"
             ],
             [
              1,
              "#f0f921"
             ]
            ],
            "type": "heatmap"
           }
          ],
          "heatmapgl": [
           {
            "colorbar": {
             "outlinewidth": 0,
             "ticks": ""
            },
            "colorscale": [
             [
              0,
              "#0d0887"
             ],
             [
              0.1111111111111111,
              "#46039f"
             ],
             [
              0.2222222222222222,
              "#7201a8"
             ],
             [
              0.3333333333333333,
              "#9c179e"
             ],
             [
              0.4444444444444444,
              "#bd3786"
             ],
             [
              0.5555555555555556,
              "#d8576b"
             ],
             [
              0.6666666666666666,
              "#ed7953"
             ],
             [
              0.7777777777777778,
              "#fb9f3a"
             ],
             [
              0.8888888888888888,
              "#fdca26"
             ],
             [
              1,
              "#f0f921"
             ]
            ],
            "type": "heatmapgl"
           }
          ],
          "histogram": [
           {
            "marker": {
             "colorbar": {
              "outlinewidth": 0,
              "ticks": ""
             }
            },
            "type": "histogram"
           }
          ],
          "histogram2d": [
           {
            "colorbar": {
             "outlinewidth": 0,
             "ticks": ""
            },
            "colorscale": [
             [
              0,
              "#0d0887"
             ],
             [
              0.1111111111111111,
              "#46039f"
             ],
             [
              0.2222222222222222,
              "#7201a8"
             ],
             [
              0.3333333333333333,
              "#9c179e"
             ],
             [
              0.4444444444444444,
              "#bd3786"
             ],
             [
              0.5555555555555556,
              "#d8576b"
             ],
             [
              0.6666666666666666,
              "#ed7953"
             ],
             [
              0.7777777777777778,
              "#fb9f3a"
             ],
             [
              0.8888888888888888,
              "#fdca26"
             ],
             [
              1,
              "#f0f921"
             ]
            ],
            "type": "histogram2d"
           }
          ],
          "histogram2dcontour": [
           {
            "colorbar": {
             "outlinewidth": 0,
             "ticks": ""
            },
            "colorscale": [
             [
              0,
              "#0d0887"
             ],
             [
              0.1111111111111111,
              "#46039f"
             ],
             [
              0.2222222222222222,
              "#7201a8"
             ],
             [
              0.3333333333333333,
              "#9c179e"
             ],
             [
              0.4444444444444444,
              "#bd3786"
             ],
             [
              0.5555555555555556,
              "#d8576b"
             ],
             [
              0.6666666666666666,
              "#ed7953"
             ],
             [
              0.7777777777777778,
              "#fb9f3a"
             ],
             [
              0.8888888888888888,
              "#fdca26"
             ],
             [
              1,
              "#f0f921"
             ]
            ],
            "type": "histogram2dcontour"
           }
          ],
          "mesh3d": [
           {
            "colorbar": {
             "outlinewidth": 0,
             "ticks": ""
            },
            "type": "mesh3d"
           }
          ],
          "parcoords": [
           {
            "line": {
             "colorbar": {
              "outlinewidth": 0,
              "ticks": ""
             }
            },
            "type": "parcoords"
           }
          ],
          "pie": [
           {
            "automargin": true,
            "type": "pie"
           }
          ],
          "scatter": [
           {
            "marker": {
             "colorbar": {
              "outlinewidth": 0,
              "ticks": ""
             }
            },
            "type": "scatter"
           }
          ],
          "scatter3d": [
           {
            "line": {
             "colorbar": {
              "outlinewidth": 0,
              "ticks": ""
             }
            },
            "marker": {
             "colorbar": {
              "outlinewidth": 0,
              "ticks": ""
             }
            },
            "type": "scatter3d"
           }
          ],
          "scattercarpet": [
           {
            "marker": {
             "colorbar": {
              "outlinewidth": 0,
              "ticks": ""
             }
            },
            "type": "scattercarpet"
           }
          ],
          "scattergeo": [
           {
            "marker": {
             "colorbar": {
              "outlinewidth": 0,
              "ticks": ""
             }
            },
            "type": "scattergeo"
           }
          ],
          "scattergl": [
           {
            "marker": {
             "colorbar": {
              "outlinewidth": 0,
              "ticks": ""
             }
            },
            "type": "scattergl"
           }
          ],
          "scattermapbox": [
           {
            "marker": {
             "colorbar": {
              "outlinewidth": 0,
              "ticks": ""
             }
            },
            "type": "scattermapbox"
           }
          ],
          "scatterpolar": [
           {
            "marker": {
             "colorbar": {
              "outlinewidth": 0,
              "ticks": ""
             }
            },
            "type": "scatterpolar"
           }
          ],
          "scatterpolargl": [
           {
            "marker": {
             "colorbar": {
              "outlinewidth": 0,
              "ticks": ""
             }
            },
            "type": "scatterpolargl"
           }
          ],
          "scatterternary": [
           {
            "marker": {
             "colorbar": {
              "outlinewidth": 0,
              "ticks": ""
             }
            },
            "type": "scatterternary"
           }
          ],
          "surface": [
           {
            "colorbar": {
             "outlinewidth": 0,
             "ticks": ""
            },
            "colorscale": [
             [
              0,
              "#0d0887"
             ],
             [
              0.1111111111111111,
              "#46039f"
             ],
             [
              0.2222222222222222,
              "#7201a8"
             ],
             [
              0.3333333333333333,
              "#9c179e"
             ],
             [
              0.4444444444444444,
              "#bd3786"
             ],
             [
              0.5555555555555556,
              "#d8576b"
             ],
             [
              0.6666666666666666,
              "#ed7953"
             ],
             [
              0.7777777777777778,
              "#fb9f3a"
             ],
             [
              0.8888888888888888,
              "#fdca26"
             ],
             [
              1,
              "#f0f921"
             ]
            ],
            "type": "surface"
           }
          ],
          "table": [
           {
            "cells": {
             "fill": {
              "color": "#EBF0F8"
             },
             "line": {
              "color": "white"
             }
            },
            "header": {
             "fill": {
              "color": "#C8D4E3"
             },
             "line": {
              "color": "white"
             }
            },
            "type": "table"
           }
          ]
         },
         "layout": {
          "annotationdefaults": {
           "arrowcolor": "#2a3f5f",
           "arrowhead": 0,
           "arrowwidth": 1
          },
          "autotypenumbers": "strict",
          "coloraxis": {
           "colorbar": {
            "outlinewidth": 0,
            "ticks": ""
           }
          },
          "colorscale": {
           "diverging": [
            [
             0,
             "#8e0152"
            ],
            [
             0.1,
             "#c51b7d"
            ],
            [
             0.2,
             "#de77ae"
            ],
            [
             0.3,
             "#f1b6da"
            ],
            [
             0.4,
             "#fde0ef"
            ],
            [
             0.5,
             "#f7f7f7"
            ],
            [
             0.6,
             "#e6f5d0"
            ],
            [
             0.7,
             "#b8e186"
            ],
            [
             0.8,
             "#7fbc41"
            ],
            [
             0.9,
             "#4d9221"
            ],
            [
             1,
             "#276419"
            ]
           ],
           "sequential": [
            [
             0,
             "#0d0887"
            ],
            [
             0.1111111111111111,
             "#46039f"
            ],
            [
             0.2222222222222222,
             "#7201a8"
            ],
            [
             0.3333333333333333,
             "#9c179e"
            ],
            [
             0.4444444444444444,
             "#bd3786"
            ],
            [
             0.5555555555555556,
             "#d8576b"
            ],
            [
             0.6666666666666666,
             "#ed7953"
            ],
            [
             0.7777777777777778,
             "#fb9f3a"
            ],
            [
             0.8888888888888888,
             "#fdca26"
            ],
            [
             1,
             "#f0f921"
            ]
           ],
           "sequentialminus": [
            [
             0,
             "#0d0887"
            ],
            [
             0.1111111111111111,
             "#46039f"
            ],
            [
             0.2222222222222222,
             "#7201a8"
            ],
            [
             0.3333333333333333,
             "#9c179e"
            ],
            [
             0.4444444444444444,
             "#bd3786"
            ],
            [
             0.5555555555555556,
             "#d8576b"
            ],
            [
             0.6666666666666666,
             "#ed7953"
            ],
            [
             0.7777777777777778,
             "#fb9f3a"
            ],
            [
             0.8888888888888888,
             "#fdca26"
            ],
            [
             1,
             "#f0f921"
            ]
           ]
          },
          "colorway": [
           "#636efa",
           "#EF553B",
           "#00cc96",
           "#ab63fa",
           "#FFA15A",
           "#19d3f3",
           "#FF6692",
           "#B6E880",
           "#FF97FF",
           "#FECB52"
          ],
          "font": {
           "color": "#2a3f5f"
          },
          "geo": {
           "bgcolor": "white",
           "lakecolor": "white",
           "landcolor": "#E5ECF6",
           "showlakes": true,
           "showland": true,
           "subunitcolor": "white"
          },
          "hoverlabel": {
           "align": "left"
          },
          "hovermode": "closest",
          "mapbox": {
           "style": "light"
          },
          "paper_bgcolor": "white",
          "plot_bgcolor": "#E5ECF6",
          "polar": {
           "angularaxis": {
            "gridcolor": "white",
            "linecolor": "white",
            "ticks": ""
           },
           "bgcolor": "#E5ECF6",
           "radialaxis": {
            "gridcolor": "white",
            "linecolor": "white",
            "ticks": ""
           }
          },
          "scene": {
           "xaxis": {
            "backgroundcolor": "#E5ECF6",
            "gridcolor": "white",
            "gridwidth": 2,
            "linecolor": "white",
            "showbackground": true,
            "ticks": "",
            "zerolinecolor": "white"
           },
           "yaxis": {
            "backgroundcolor": "#E5ECF6",
            "gridcolor": "white",
            "gridwidth": 2,
            "linecolor": "white",
            "showbackground": true,
            "ticks": "",
            "zerolinecolor": "white"
           },
           "zaxis": {
            "backgroundcolor": "#E5ECF6",
            "gridcolor": "white",
            "gridwidth": 2,
            "linecolor": "white",
            "showbackground": true,
            "ticks": "",
            "zerolinecolor": "white"
           }
          },
          "shapedefaults": {
           "line": {
            "color": "#2a3f5f"
           }
          },
          "ternary": {
           "aaxis": {
            "gridcolor": "white",
            "linecolor": "white",
            "ticks": ""
           },
           "baxis": {
            "gridcolor": "white",
            "linecolor": "white",
            "ticks": ""
           },
           "bgcolor": "#E5ECF6",
           "caxis": {
            "gridcolor": "white",
            "linecolor": "white",
            "ticks": ""
           }
          },
          "title": {
           "x": 0.05
          },
          "xaxis": {
           "automargin": true,
           "gridcolor": "white",
           "linecolor": "white",
           "ticks": "",
           "title": {
            "standoff": 15
           },
           "zerolinecolor": "white",
           "zerolinewidth": 2
          },
          "yaxis": {
           "automargin": true,
           "gridcolor": "white",
           "linecolor": "white",
           "ticks": "",
           "title": {
            "standoff": 15
           },
           "zerolinecolor": "white",
           "zerolinewidth": 2
          }
         }
        }
       }
      }
     },
     "metadata": {}
    }
   ],
   "source": [
    "fig = px.scatter_mapbox(df, lat=\"Latitude\", lon=\"Longitude\", hover_name=\"Date\", hover_data=[\"Local Time\", \"Magnitude\", \"Deepth(KM)\", \"Coordinates\"], color_discrete_sequence=[\"blue\"])\n",
    "fig.update_layout(mapbox_style=\"open-street-map\")\n",
    "fig.update_layout(margin={\"r\":0,\"t\":0,\"l\":0,\"b\":0})\n",
    "fig.show()"
   ]
  },
  {
   "cell_type": "code",
   "execution_count": 20,
   "metadata": {},
   "outputs": [],
   "source": [
    "fig.write_html(\"C:\\\\Users\\jocerdas\\\\OneDrive - Microsoft\\Documents\\\\Python\\\\Python Projects\\\\earthquakers\\\\cr_earthquakes\\\\cr_earthquakes.html\")"
   ]
  },
  {
   "cell_type": "code",
   "execution_count": null,
   "metadata": {},
   "outputs": [],
   "source": []
  }
 ]
}