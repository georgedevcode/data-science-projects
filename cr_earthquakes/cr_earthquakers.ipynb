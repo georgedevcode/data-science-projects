{
 "metadata": {
  "language_info": {
   "codemirror_mode": {
    "name": "ipython",
    "version": 3
   },
   "file_extension": ".py",
   "mimetype": "text/x-python",
   "name": "python",
   "nbconvert_exporter": "python",
   "pygments_lexer": "ipython3",
   "version": "3.7.2"
  },
  "orig_nbformat": 2,
  "kernelspec": {
   "name": "python372jvsc74a57bd0d3af183c887d61cf5f59dcc2eadf79a3a2c5755385d9e09309c4ac4222b8911a",
   "display_name": "Python 3.7.2 32-bit"
  },
  "metadata": {
   "interpreter": {
    "hash": "d3af183c887d61cf5f59dcc2eadf79a3a2c5755385d9e09309c4ac4222b8911a"
   }
  }
 },
 "nbformat": 4,
 "nbformat_minor": 2,
 "cells": [
  {
   "source": [
    "**The objective of this project is to practice data manipulation with Python and plotting data onto a map by using geolocation data from a CSV file, the dataset we are going to use for this project contains information about the earthquakes registered in Costa Rica from 1/31/2021 to 3/1/2021 with 40 data points describing: date, time, magnitud, deepth, location, latitude and longitude.*"
   ],
   "cell_type": "markdown",
   "metadata": {}
  },
  {
   "cell_type": "code",
   "execution_count": 1,
   "metadata": {},
   "outputs": [],
   "source": [
    "#Imports of the modules we are going to use\n",
    "import os\n",
    "import pandas as pd"
   ]
  },
  {
   "cell_type": "code",
   "execution_count": 2,
   "metadata": {},
   "outputs": [],
   "source": [
    "#Instead of reading the data from the csv file, let's retrieve the data from the site itself following this URL:http://www.ovsicori.una.ac.cr/sistemas/sentidos_map/indexleqs.php\n",
    "table_data = pd.read_html(\"http://www.ovsicori.una.ac.cr/sistemas/sentidos_map/indexleqs.php\")"
   ]
  },
  {
   "cell_type": "code",
   "execution_count": 3,
   "metadata": {},
   "outputs": [
    {
     "output_type": "execute_result",
     "data": {
      "text/plain": [
       "        Fecha      Hora  Magnitud  Profundidad  Latitud  Longitud  \\\n",
       "0         NaN       NaN       NaN          NaN      NaN       NaN   \n",
       "1  2021-05-06  16:28:30       2.1         54.0   9.4277  -83.9117   \n",
       "2  2021-05-06  14:54:10       2.1         63.0  10.1848  -84.0883   \n",
       "3  2021-05-06  12:56:15       2.0         14.0   7.9804  -83.1524   \n",
       "4  2021-05-06  08:30:34       2.9         26.0   8.8474  -82.9829   \n",
       "5  2021-05-06  07:38:38       2.6         98.0  10.1762  -83.8806   \n",
       "6  2021-05-06  05:39:41       2.3         18.0   9.5127  -84.9676   \n",
       "7  2021-05-06  02:01:44       2.0         22.0   9.6131  -84.9445   \n",
       "8  2021-05-06  00:21:03       1.0          4.0   9.8978  -83.6090   \n",
       "9  2021-05-05  23:18:24       2.2         18.0   8.5240  -82.8923   \n",
       "\n",
       "                                  Localizacion Revisado            Autor  Mapa  \n",
       "0                                          NaN      NaN              NaN   NaN  \n",
       "1      3.2 km al Este de Rio Nuevo de San Jose       No            olDbg  mapa  \n",
       "2  2.0 km al Noroeste de Varablanca de Heredia       No            olDbg  mapa  \n",
       "3   30.7 km al Suroeste de Pavon de Puntarenas       No            olDbg  mapa  \n",
       "4  1.0 km al Noreste de San Vito de Puntarenas       No            olDbg  mapa  \n",
       "5      3.2 km al Suroeste de Guapiles de Limon       No            olDbg  mapa  \n",
       "6   16.5 km al Sureste de Cobano de Puntarenas       No            olDbg  mapa  \n",
       "7   12.7 km al Sureste de Cobano de Puntarenas       Si                -  mapa  \n",
       "8         0.7 km al Este de Pavones de Cartago       Si  UNA:jprottiMwpM  mapa  \n",
       "9   0.7 km al Noroeste de Canoas de Puntarenas       No            olDbg  mapa  "
      ],
      "text/html": "<div>\n<style scoped>\n    .dataframe tbody tr th:only-of-type {\n        vertical-align: middle;\n    }\n\n    .dataframe tbody tr th {\n        vertical-align: top;\n    }\n\n    .dataframe thead th {\n        text-align: right;\n    }\n</style>\n<table border=\"1\" class=\"dataframe\">\n  <thead>\n    <tr style=\"text-align: right;\">\n      <th></th>\n      <th>Fecha</th>\n      <th>Hora</th>\n      <th>Magnitud</th>\n      <th>Profundidad</th>\n      <th>Latitud</th>\n      <th>Longitud</th>\n      <th>Localizacion</th>\n      <th>Revisado</th>\n      <th>Autor</th>\n      <th>Mapa</th>\n    </tr>\n  </thead>\n  <tbody>\n    <tr>\n      <th>0</th>\n      <td>NaN</td>\n      <td>NaN</td>\n      <td>NaN</td>\n      <td>NaN</td>\n      <td>NaN</td>\n      <td>NaN</td>\n      <td>NaN</td>\n      <td>NaN</td>\n      <td>NaN</td>\n      <td>NaN</td>\n    </tr>\n    <tr>\n      <th>1</th>\n      <td>2021-05-06</td>\n      <td>16:28:30</td>\n      <td>2.1</td>\n      <td>54.0</td>\n      <td>9.4277</td>\n      <td>-83.9117</td>\n      <td>3.2 km al Este de Rio Nuevo de San Jose</td>\n      <td>No</td>\n      <td>olDbg</td>\n      <td>mapa</td>\n    </tr>\n    <tr>\n      <th>2</th>\n      <td>2021-05-06</td>\n      <td>14:54:10</td>\n      <td>2.1</td>\n      <td>63.0</td>\n      <td>10.1848</td>\n      <td>-84.0883</td>\n      <td>2.0 km al Noroeste de Varablanca de Heredia</td>\n      <td>No</td>\n      <td>olDbg</td>\n      <td>mapa</td>\n    </tr>\n    <tr>\n      <th>3</th>\n      <td>2021-05-06</td>\n      <td>12:56:15</td>\n      <td>2.0</td>\n      <td>14.0</td>\n      <td>7.9804</td>\n      <td>-83.1524</td>\n      <td>30.7 km al Suroeste de Pavon de Puntarenas</td>\n      <td>No</td>\n      <td>olDbg</td>\n      <td>mapa</td>\n    </tr>\n    <tr>\n      <th>4</th>\n      <td>2021-05-06</td>\n      <td>08:30:34</td>\n      <td>2.9</td>\n      <td>26.0</td>\n      <td>8.8474</td>\n      <td>-82.9829</td>\n      <td>1.0 km al Noreste de San Vito de Puntarenas</td>\n      <td>No</td>\n      <td>olDbg</td>\n      <td>mapa</td>\n    </tr>\n    <tr>\n      <th>5</th>\n      <td>2021-05-06</td>\n      <td>07:38:38</td>\n      <td>2.6</td>\n      <td>98.0</td>\n      <td>10.1762</td>\n      <td>-83.8806</td>\n      <td>3.2 km al Suroeste de Guapiles de Limon</td>\n      <td>No</td>\n      <td>olDbg</td>\n      <td>mapa</td>\n    </tr>\n    <tr>\n      <th>6</th>\n      <td>2021-05-06</td>\n      <td>05:39:41</td>\n      <td>2.3</td>\n      <td>18.0</td>\n      <td>9.5127</td>\n      <td>-84.9676</td>\n      <td>16.5 km al Sureste de Cobano de Puntarenas</td>\n      <td>No</td>\n      <td>olDbg</td>\n      <td>mapa</td>\n    </tr>\n    <tr>\n      <th>7</th>\n      <td>2021-05-06</td>\n      <td>02:01:44</td>\n      <td>2.0</td>\n      <td>22.0</td>\n      <td>9.6131</td>\n      <td>-84.9445</td>\n      <td>12.7 km al Sureste de Cobano de Puntarenas</td>\n      <td>Si</td>\n      <td>-</td>\n      <td>mapa</td>\n    </tr>\n    <tr>\n      <th>8</th>\n      <td>2021-05-06</td>\n      <td>00:21:03</td>\n      <td>1.0</td>\n      <td>4.0</td>\n      <td>9.8978</td>\n      <td>-83.6090</td>\n      <td>0.7 km al Este de Pavones de Cartago</td>\n      <td>Si</td>\n      <td>UNA:jprottiMwpM</td>\n      <td>mapa</td>\n    </tr>\n    <tr>\n      <th>9</th>\n      <td>2021-05-05</td>\n      <td>23:18:24</td>\n      <td>2.2</td>\n      <td>18.0</td>\n      <td>8.5240</td>\n      <td>-82.8923</td>\n      <td>0.7 km al Noroeste de Canoas de Puntarenas</td>\n      <td>No</td>\n      <td>olDbg</td>\n      <td>mapa</td>\n    </tr>\n  </tbody>\n</table>\n</div>"
     },
     "metadata": {},
     "execution_count": 3
    }
   ],
   "source": [
    "#Convert the data for a dataframe\n",
    "df = pd.DataFrame(data=table_data[0])\n",
    "df.head(10)"
   ]
  },
  {
   "cell_type": "code",
   "execution_count": 4,
   "metadata": {},
   "outputs": [],
   "source": [
    "df = df.dropna()"
   ]
  },
  {
   "cell_type": "code",
   "execution_count": 5,
   "metadata": {},
   "outputs": [],
   "source": [
    "#We dropped the column \"Localizacion\", \"Revisado\",\"Autor\",\"Mapa\", since we are going to use the geopy library to find out the location based on the coordinates\n",
    "df = df.drop(columns=[\"Localizacion\", \"Revisado\",\"Autor\",\"Mapa\"])"
   ]
  },
  {
   "cell_type": "code",
   "execution_count": 6,
   "metadata": {},
   "outputs": [
    {
     "output_type": "execute_result",
     "data": {
      "text/plain": [
       "         Fecha      Hora  Magnitud  Profundidad  Latitud  Longitud\n",
       "1   2021-05-06  16:28:30       2.1         54.0   9.4277  -83.9117\n",
       "2   2021-05-06  14:54:10       2.1         63.0  10.1848  -84.0883\n",
       "3   2021-05-06  12:56:15       2.0         14.0   7.9804  -83.1524\n",
       "4   2021-05-06  08:30:34       2.9         26.0   8.8474  -82.9829\n",
       "5   2021-05-06  07:38:38       2.6         98.0  10.1762  -83.8806\n",
       "6   2021-05-06  05:39:41       2.3         18.0   9.5127  -84.9676\n",
       "7   2021-05-06  02:01:44       2.0         22.0   9.6131  -84.9445\n",
       "8   2021-05-06  00:21:03       1.0          4.0   9.8978  -83.6090\n",
       "9   2021-05-05  23:18:24       2.2         18.0   8.5240  -82.8923\n",
       "10  2021-05-05  23:06:24       1.5         42.0   9.5142  -83.8732"
      ],
      "text/html": "<div>\n<style scoped>\n    .dataframe tbody tr th:only-of-type {\n        vertical-align: middle;\n    }\n\n    .dataframe tbody tr th {\n        vertical-align: top;\n    }\n\n    .dataframe thead th {\n        text-align: right;\n    }\n</style>\n<table border=\"1\" class=\"dataframe\">\n  <thead>\n    <tr style=\"text-align: right;\">\n      <th></th>\n      <th>Fecha</th>\n      <th>Hora</th>\n      <th>Magnitud</th>\n      <th>Profundidad</th>\n      <th>Latitud</th>\n      <th>Longitud</th>\n    </tr>\n  </thead>\n  <tbody>\n    <tr>\n      <th>1</th>\n      <td>2021-05-06</td>\n      <td>16:28:30</td>\n      <td>2.1</td>\n      <td>54.0</td>\n      <td>9.4277</td>\n      <td>-83.9117</td>\n    </tr>\n    <tr>\n      <th>2</th>\n      <td>2021-05-06</td>\n      <td>14:54:10</td>\n      <td>2.1</td>\n      <td>63.0</td>\n      <td>10.1848</td>\n      <td>-84.0883</td>\n    </tr>\n    <tr>\n      <th>3</th>\n      <td>2021-05-06</td>\n      <td>12:56:15</td>\n      <td>2.0</td>\n      <td>14.0</td>\n      <td>7.9804</td>\n      <td>-83.1524</td>\n    </tr>\n    <tr>\n      <th>4</th>\n      <td>2021-05-06</td>\n      <td>08:30:34</td>\n      <td>2.9</td>\n      <td>26.0</td>\n      <td>8.8474</td>\n      <td>-82.9829</td>\n    </tr>\n    <tr>\n      <th>5</th>\n      <td>2021-05-06</td>\n      <td>07:38:38</td>\n      <td>2.6</td>\n      <td>98.0</td>\n      <td>10.1762</td>\n      <td>-83.8806</td>\n    </tr>\n    <tr>\n      <th>6</th>\n      <td>2021-05-06</td>\n      <td>05:39:41</td>\n      <td>2.3</td>\n      <td>18.0</td>\n      <td>9.5127</td>\n      <td>-84.9676</td>\n    </tr>\n    <tr>\n      <th>7</th>\n      <td>2021-05-06</td>\n      <td>02:01:44</td>\n      <td>2.0</td>\n      <td>22.0</td>\n      <td>9.6131</td>\n      <td>-84.9445</td>\n    </tr>\n    <tr>\n      <th>8</th>\n      <td>2021-05-06</td>\n      <td>00:21:03</td>\n      <td>1.0</td>\n      <td>4.0</td>\n      <td>9.8978</td>\n      <td>-83.6090</td>\n    </tr>\n    <tr>\n      <th>9</th>\n      <td>2021-05-05</td>\n      <td>23:18:24</td>\n      <td>2.2</td>\n      <td>18.0</td>\n      <td>8.5240</td>\n      <td>-82.8923</td>\n    </tr>\n    <tr>\n      <th>10</th>\n      <td>2021-05-05</td>\n      <td>23:06:24</td>\n      <td>1.5</td>\n      <td>42.0</td>\n      <td>9.5142</td>\n      <td>-83.8732</td>\n    </tr>\n  </tbody>\n</table>\n</div>"
     },
     "metadata": {},
     "execution_count": 6
    }
   ],
   "source": [
    "#Confirm the column \"Localizacion\" was dropped\n",
    "df.head(10)"
   ]
  },
  {
   "cell_type": "code",
   "execution_count": 7,
   "metadata": {},
   "outputs": [],
   "source": [
    "#let's rename the columns from Spanish to English\n",
    "df = df.rename(columns={\"Fecha\":\"Date\",\"Hora\":\"Local Time\",\"Magnitud\":\"Magnitude\",\"Profundidad\":\"Deepth(KM)\", \"Latitud\":\"Latitude\", \"Longitud\":\"Longitude\"})"
   ]
  },
  {
   "cell_type": "code",
   "execution_count": 8,
   "metadata": {},
   "outputs": [
    {
     "output_type": "execute_result",
     "data": {
      "text/plain": [
       "          Date Local Time  Magnitude  Deepth(KM)  Latitude  Longitude\n",
       "1   2021-05-06   16:28:30        2.1        54.0    9.4277   -83.9117\n",
       "2   2021-05-06   14:54:10        2.1        63.0   10.1848   -84.0883\n",
       "3   2021-05-06   12:56:15        2.0        14.0    7.9804   -83.1524\n",
       "4   2021-05-06   08:30:34        2.9        26.0    8.8474   -82.9829\n",
       "5   2021-05-06   07:38:38        2.6        98.0   10.1762   -83.8806\n",
       "6   2021-05-06   05:39:41        2.3        18.0    9.5127   -84.9676\n",
       "7   2021-05-06   02:01:44        2.0        22.0    9.6131   -84.9445\n",
       "8   2021-05-06   00:21:03        1.0         4.0    9.8978   -83.6090\n",
       "9   2021-05-05   23:18:24        2.2        18.0    8.5240   -82.8923\n",
       "10  2021-05-05   23:06:24        1.5        42.0    9.5142   -83.8732"
      ],
      "text/html": "<div>\n<style scoped>\n    .dataframe tbody tr th:only-of-type {\n        vertical-align: middle;\n    }\n\n    .dataframe tbody tr th {\n        vertical-align: top;\n    }\n\n    .dataframe thead th {\n        text-align: right;\n    }\n</style>\n<table border=\"1\" class=\"dataframe\">\n  <thead>\n    <tr style=\"text-align: right;\">\n      <th></th>\n      <th>Date</th>\n      <th>Local Time</th>\n      <th>Magnitude</th>\n      <th>Deepth(KM)</th>\n      <th>Latitude</th>\n      <th>Longitude</th>\n    </tr>\n  </thead>\n  <tbody>\n    <tr>\n      <th>1</th>\n      <td>2021-05-06</td>\n      <td>16:28:30</td>\n      <td>2.1</td>\n      <td>54.0</td>\n      <td>9.4277</td>\n      <td>-83.9117</td>\n    </tr>\n    <tr>\n      <th>2</th>\n      <td>2021-05-06</td>\n      <td>14:54:10</td>\n      <td>2.1</td>\n      <td>63.0</td>\n      <td>10.1848</td>\n      <td>-84.0883</td>\n    </tr>\n    <tr>\n      <th>3</th>\n      <td>2021-05-06</td>\n      <td>12:56:15</td>\n      <td>2.0</td>\n      <td>14.0</td>\n      <td>7.9804</td>\n      <td>-83.1524</td>\n    </tr>\n    <tr>\n      <th>4</th>\n      <td>2021-05-06</td>\n      <td>08:30:34</td>\n      <td>2.9</td>\n      <td>26.0</td>\n      <td>8.8474</td>\n      <td>-82.9829</td>\n    </tr>\n    <tr>\n      <th>5</th>\n      <td>2021-05-06</td>\n      <td>07:38:38</td>\n      <td>2.6</td>\n      <td>98.0</td>\n      <td>10.1762</td>\n      <td>-83.8806</td>\n    </tr>\n    <tr>\n      <th>6</th>\n      <td>2021-05-06</td>\n      <td>05:39:41</td>\n      <td>2.3</td>\n      <td>18.0</td>\n      <td>9.5127</td>\n      <td>-84.9676</td>\n    </tr>\n    <tr>\n      <th>7</th>\n      <td>2021-05-06</td>\n      <td>02:01:44</td>\n      <td>2.0</td>\n      <td>22.0</td>\n      <td>9.6131</td>\n      <td>-84.9445</td>\n    </tr>\n    <tr>\n      <th>8</th>\n      <td>2021-05-06</td>\n      <td>00:21:03</td>\n      <td>1.0</td>\n      <td>4.0</td>\n      <td>9.8978</td>\n      <td>-83.6090</td>\n    </tr>\n    <tr>\n      <th>9</th>\n      <td>2021-05-05</td>\n      <td>23:18:24</td>\n      <td>2.2</td>\n      <td>18.0</td>\n      <td>8.5240</td>\n      <td>-82.8923</td>\n    </tr>\n    <tr>\n      <th>10</th>\n      <td>2021-05-05</td>\n      <td>23:06:24</td>\n      <td>1.5</td>\n      <td>42.0</td>\n      <td>9.5142</td>\n      <td>-83.8732</td>\n    </tr>\n  </tbody>\n</table>\n</div>"
     },
     "metadata": {},
     "execution_count": 8
    }
   ],
   "source": [
    "#Confirmed our columns were renamed correctly\n",
    "df.head(10)"
   ]
  },
  {
   "cell_type": "code",
   "execution_count": 9,
   "metadata": {},
   "outputs": [],
   "source": [
    "#Since the geopy reverse() function only accepts an unique string containing the latitude and longitude for the coordinates, then; let's create a column called Coordinates and let's concatenate the values for latitude and longitude and convert them to strings.\n",
    "df[\"Coordinates\"] = df[\"Latitude\"].astype(str) + \", \" + df[\"Longitude\"].astype(str)"
   ]
  },
  {
   "cell_type": "code",
   "execution_count": 10,
   "metadata": {},
   "outputs": [
    {
     "output_type": "execute_result",
     "data": {
      "text/plain": [
       "         Date Local Time  Magnitude  Deepth(KM)  Latitude  Longitude  \\\n",
       "1  2021-05-06   16:28:30        2.1        54.0    9.4277   -83.9117   \n",
       "2  2021-05-06   14:54:10        2.1        63.0   10.1848   -84.0883   \n",
       "3  2021-05-06   12:56:15        2.0        14.0    7.9804   -83.1524   \n",
       "4  2021-05-06   08:30:34        2.9        26.0    8.8474   -82.9829   \n",
       "5  2021-05-06   07:38:38        2.6        98.0   10.1762   -83.8806   \n",
       "\n",
       "         Coordinates  \n",
       "1   9.4277, -83.9117  \n",
       "2  10.1848, -84.0883  \n",
       "3   7.9804, -83.1524  \n",
       "4   8.8474, -82.9829  \n",
       "5  10.1762, -83.8806  "
      ],
      "text/html": "<div>\n<style scoped>\n    .dataframe tbody tr th:only-of-type {\n        vertical-align: middle;\n    }\n\n    .dataframe tbody tr th {\n        vertical-align: top;\n    }\n\n    .dataframe thead th {\n        text-align: right;\n    }\n</style>\n<table border=\"1\" class=\"dataframe\">\n  <thead>\n    <tr style=\"text-align: right;\">\n      <th></th>\n      <th>Date</th>\n      <th>Local Time</th>\n      <th>Magnitude</th>\n      <th>Deepth(KM)</th>\n      <th>Latitude</th>\n      <th>Longitude</th>\n      <th>Coordinates</th>\n    </tr>\n  </thead>\n  <tbody>\n    <tr>\n      <th>1</th>\n      <td>2021-05-06</td>\n      <td>16:28:30</td>\n      <td>2.1</td>\n      <td>54.0</td>\n      <td>9.4277</td>\n      <td>-83.9117</td>\n      <td>9.4277, -83.9117</td>\n    </tr>\n    <tr>\n      <th>2</th>\n      <td>2021-05-06</td>\n      <td>14:54:10</td>\n      <td>2.1</td>\n      <td>63.0</td>\n      <td>10.1848</td>\n      <td>-84.0883</td>\n      <td>10.1848, -84.0883</td>\n    </tr>\n    <tr>\n      <th>3</th>\n      <td>2021-05-06</td>\n      <td>12:56:15</td>\n      <td>2.0</td>\n      <td>14.0</td>\n      <td>7.9804</td>\n      <td>-83.1524</td>\n      <td>7.9804, -83.1524</td>\n    </tr>\n    <tr>\n      <th>4</th>\n      <td>2021-05-06</td>\n      <td>08:30:34</td>\n      <td>2.9</td>\n      <td>26.0</td>\n      <td>8.8474</td>\n      <td>-82.9829</td>\n      <td>8.8474, -82.9829</td>\n    </tr>\n    <tr>\n      <th>5</th>\n      <td>2021-05-06</td>\n      <td>07:38:38</td>\n      <td>2.6</td>\n      <td>98.0</td>\n      <td>10.1762</td>\n      <td>-83.8806</td>\n      <td>10.1762, -83.8806</td>\n    </tr>\n  </tbody>\n</table>\n</div>"
     },
     "metadata": {},
     "execution_count": 10
    }
   ],
   "source": [
    "#Now we can see the column Coordinates holding both latitude and longitude but a strings\n",
    "df.head()"
   ]
  },
  {
   "source": [
    "Let's use the Geopy library to figure out from the coordinates the location where the earthquake was registered\n",
    "https://pypi.org/project/geopy/\n"
   ],
   "cell_type": "markdown",
   "metadata": {}
  },
  {
   "cell_type": "code",
   "execution_count": 11,
   "metadata": {},
   "outputs": [],
   "source": [
    "#Importing the geopy library\n",
    "from geopy.geocoders import Nominatim"
   ]
  },
  {
   "cell_type": "code",
   "execution_count": 12,
   "metadata": {},
   "outputs": [],
   "source": [
    "geolocator = Nominatim(user_agent=\"Earthquakes in CR\")"
   ]
  },
  {
   "cell_type": "code",
   "execution_count": 13,
   "metadata": {},
   "outputs": [],
   "source": [
    "df[\"Location\"] = df[\"Coordinates\"].apply(geolocator.reverse)"
   ]
  },
  {
   "cell_type": "code",
   "execution_count": 14,
   "metadata": {},
   "outputs": [
    {
     "output_type": "execute_result",
     "data": {
      "text/plain": [
       "          Date Local Time  Magnitude  Deepth(KM)  Latitude  Longitude  \\\n",
       "1   2021-05-06   16:28:30        2.1        54.0    9.4277   -83.9117   \n",
       "2   2021-05-06   14:54:10        2.1        63.0   10.1848   -84.0883   \n",
       "3   2021-05-06   12:56:15        2.0        14.0    7.9804   -83.1524   \n",
       "4   2021-05-06   08:30:34        2.9        26.0    8.8474   -82.9829   \n",
       "5   2021-05-06   07:38:38        2.6        98.0   10.1762   -83.8806   \n",
       "6   2021-05-06   05:39:41        2.3        18.0    9.5127   -84.9676   \n",
       "7   2021-05-06   02:01:44        2.0        22.0    9.6131   -84.9445   \n",
       "8   2021-05-06   00:21:03        1.0         4.0    9.8978   -83.6090   \n",
       "9   2021-05-05   23:18:24        2.2        18.0    8.5240   -82.8923   \n",
       "10  2021-05-05   23:06:24        1.5        42.0    9.5142   -83.8732   \n",
       "\n",
       "          Coordinates                                           Location  \n",
       "1    9.4277, -83.9117  (El Llano, Río Nuevo, Cantón Pérez Zeledón, Pr...  \n",
       "2   10.1848, -84.0883  (Varablanca, Cantón Heredia, Provincia Heredia...  \n",
       "3    7.9804, -83.1524                                               None  \n",
       "4    8.8474, -82.9829  (San Vito, Cantón Coto Brus, Provincia Puntare...  \n",
       "5   10.1762, -83.8806  (Alturas, Guápiles, Cantón Pococí, Provincia L...  \n",
       "6    9.5127, -84.9676                                               None  \n",
       "7    9.6131, -84.9445  (Provincia Puntarenas, Costa Rica, (9.13740299...  \n",
       "8     9.8978, -83.609  (San Rafael, Pavones, Cantón Turrialba, Provin...  \n",
       "9     8.524, -82.8923  (Calle La Gloria, La Gloria, Canoas, Cantón Co...  \n",
       "10   9.5142, -83.8732  (Río Nuevo, Cantón Pérez Zeledón, Provincia Sa...  "
      ],
      "text/html": "<div>\n<style scoped>\n    .dataframe tbody tr th:only-of-type {\n        vertical-align: middle;\n    }\n\n    .dataframe tbody tr th {\n        vertical-align: top;\n    }\n\n    .dataframe thead th {\n        text-align: right;\n    }\n</style>\n<table border=\"1\" class=\"dataframe\">\n  <thead>\n    <tr style=\"text-align: right;\">\n      <th></th>\n      <th>Date</th>\n      <th>Local Time</th>\n      <th>Magnitude</th>\n      <th>Deepth(KM)</th>\n      <th>Latitude</th>\n      <th>Longitude</th>\n      <th>Coordinates</th>\n      <th>Location</th>\n    </tr>\n  </thead>\n  <tbody>\n    <tr>\n      <th>1</th>\n      <td>2021-05-06</td>\n      <td>16:28:30</td>\n      <td>2.1</td>\n      <td>54.0</td>\n      <td>9.4277</td>\n      <td>-83.9117</td>\n      <td>9.4277, -83.9117</td>\n      <td>(El Llano, Río Nuevo, Cantón Pérez Zeledón, Pr...</td>\n    </tr>\n    <tr>\n      <th>2</th>\n      <td>2021-05-06</td>\n      <td>14:54:10</td>\n      <td>2.1</td>\n      <td>63.0</td>\n      <td>10.1848</td>\n      <td>-84.0883</td>\n      <td>10.1848, -84.0883</td>\n      <td>(Varablanca, Cantón Heredia, Provincia Heredia...</td>\n    </tr>\n    <tr>\n      <th>3</th>\n      <td>2021-05-06</td>\n      <td>12:56:15</td>\n      <td>2.0</td>\n      <td>14.0</td>\n      <td>7.9804</td>\n      <td>-83.1524</td>\n      <td>7.9804, -83.1524</td>\n      <td>None</td>\n    </tr>\n    <tr>\n      <th>4</th>\n      <td>2021-05-06</td>\n      <td>08:30:34</td>\n      <td>2.9</td>\n      <td>26.0</td>\n      <td>8.8474</td>\n      <td>-82.9829</td>\n      <td>8.8474, -82.9829</td>\n      <td>(San Vito, Cantón Coto Brus, Provincia Puntare...</td>\n    </tr>\n    <tr>\n      <th>5</th>\n      <td>2021-05-06</td>\n      <td>07:38:38</td>\n      <td>2.6</td>\n      <td>98.0</td>\n      <td>10.1762</td>\n      <td>-83.8806</td>\n      <td>10.1762, -83.8806</td>\n      <td>(Alturas, Guápiles, Cantón Pococí, Provincia L...</td>\n    </tr>\n    <tr>\n      <th>6</th>\n      <td>2021-05-06</td>\n      <td>05:39:41</td>\n      <td>2.3</td>\n      <td>18.0</td>\n      <td>9.5127</td>\n      <td>-84.9676</td>\n      <td>9.5127, -84.9676</td>\n      <td>None</td>\n    </tr>\n    <tr>\n      <th>7</th>\n      <td>2021-05-06</td>\n      <td>02:01:44</td>\n      <td>2.0</td>\n      <td>22.0</td>\n      <td>9.6131</td>\n      <td>-84.9445</td>\n      <td>9.6131, -84.9445</td>\n      <td>(Provincia Puntarenas, Costa Rica, (9.13740299...</td>\n    </tr>\n    <tr>\n      <th>8</th>\n      <td>2021-05-06</td>\n      <td>00:21:03</td>\n      <td>1.0</td>\n      <td>4.0</td>\n      <td>9.8978</td>\n      <td>-83.6090</td>\n      <td>9.8978, -83.609</td>\n      <td>(San Rafael, Pavones, Cantón Turrialba, Provin...</td>\n    </tr>\n    <tr>\n      <th>9</th>\n      <td>2021-05-05</td>\n      <td>23:18:24</td>\n      <td>2.2</td>\n      <td>18.0</td>\n      <td>8.5240</td>\n      <td>-82.8923</td>\n      <td>8.524, -82.8923</td>\n      <td>(Calle La Gloria, La Gloria, Canoas, Cantón Co...</td>\n    </tr>\n    <tr>\n      <th>10</th>\n      <td>2021-05-05</td>\n      <td>23:06:24</td>\n      <td>1.5</td>\n      <td>42.0</td>\n      <td>9.5142</td>\n      <td>-83.8732</td>\n      <td>9.5142, -83.8732</td>\n      <td>(Río Nuevo, Cantón Pérez Zeledón, Provincia Sa...</td>\n    </tr>\n  </tbody>\n</table>\n</div>"
     },
     "metadata": {},
     "execution_count": 14
    }
   ],
   "source": [
    "df.head(10)"
   ]
  },
  {
   "source": [
    "Now, that we have our data set ready, let's create some visualization using plotly:https://plotly.com/python/mapbox-layers/ "
   ],
   "cell_type": "markdown",
   "metadata": {}
  },
  {
   "cell_type": "code",
   "execution_count": 15,
   "metadata": {},
   "outputs": [],
   "source": [
    "import plotly.express as px"
   ]
  },
  {
   "cell_type": "code",
   "execution_count": 16,
   "metadata": {},
   "outputs": [
    {
     "output_type": "display_data",
     "data": {
      "application/vnd.plotly.v1+json": {
       "config": {
        "plotlyServerURL": "https://plot.ly"
       },
       "data": [
        {
         "customdata": [
          [
           "16:28:30",
           2.1,
           54,
           "9.4277, -83.9117"
          ],
          [
           "14:54:10",
           2.1,
           63,
           "10.1848, -84.0883"
          ],
          [
           "12:56:15",
           2,
           14,
           "7.9804, -83.1524"
          ],
          [
           "08:30:34",
           2.9,
           26,
           "8.8474, -82.9829"
          ],
          [
           "07:38:38",
           2.6,
           98,
           "10.1762, -83.8806"
          ],
          [
           "05:39:41",
           2.3,
           18,
           "9.5127, -84.9676"
          ],
          [
           "02:01:44",
           2,
           22,
           "9.6131, -84.9445"
          ],
          [
           "00:21:03",
           1,
           4,
           "9.8978, -83.609"
          ],
          [
           "23:18:24",
           2.2,
           18,
           "8.524, -82.8923"
          ],
          [
           "23:06:24",
           1.5,
           42,
           "9.5142, -83.8732"
          ],
          [
           "23:06:22",
           2.6,
           0,
           "10.9358, -84.0829"
          ],
          [
           "22:53:09",
           2.1,
           19,
           "8.7846, -82.999"
          ],
          [
           "20:29:28",
           1.8,
           56,
           "9.4466, -84.0735"
          ],
          [
           "19:23:04",
           1.5,
           24,
           "9.5779, -83.9976"
          ],
          [
           "19:03:29",
           2,
           18,
           "8.7659, -82.7701"
          ],
          [
           "18:54:01",
           1.7,
           23,
           "9.6619, -84.8643"
          ],
          [
           "11:29:35",
           3.8,
           37,
           "14.0952, -84.3646"
          ],
          [
           "03:59:57",
           2.4,
           0,
           "7.9336, -82.6912"
          ],
          [
           "03:05:39",
           2.3,
           98,
           "8.5829, -83.2383"
          ],
          [
           "02:13:05",
           0.9,
           0,
           "9.7287, -84.1483"
          ],
          [
           "01:15:48",
           2.7,
           21,
           "9.2084, -82.519"
          ],
          [
           "00:54:37",
           3.1,
           15,
           "9.1242, -85.5378"
          ],
          [
           "00:50:53",
           2,
           18,
           "9.5667, -84.7694"
          ],
          [
           "00:05:44",
           2.9,
           21,
           "10.7969, -85.7022"
          ],
          [
           "21:41:26",
           2.2,
           17,
           "8.7956, -83.755"
          ],
          [
           "18:22:52",
           2.4,
           50,
           "10.1448, -85.4857"
          ],
          [
           "16:12:15",
           4.2,
           15,
           "13.8949, -85.7602"
          ],
          [
           "14:38:29",
           3.2,
           2,
           "9.1378, -84.1697"
          ],
          [
           "14:30:27",
           2.2,
           0,
           "9.9228, -84.4219"
          ],
          [
           "14:25:15",
           3.2,
           5,
           "9.7987, -84.1552"
          ]
         ],
         "hovertemplate": "<b>%{hovertext}</b><br><br>Latitude=%{lat}<br>Longitude=%{lon}<br>Local Time=%{customdata[0]}<br>Magnitude=%{customdata[1]}<br>Deepth(KM)=%{customdata[2]}<br>Coordinates=%{customdata[3]}<extra></extra>",
         "hovertext": [
          "2021-05-06",
          "2021-05-06",
          "2021-05-06",
          "2021-05-06",
          "2021-05-06",
          "2021-05-06",
          "2021-05-06",
          "2021-05-06",
          "2021-05-05",
          "2021-05-05",
          "2021-05-05",
          "2021-05-05",
          "2021-05-05",
          "2021-05-05",
          "2021-05-05",
          "2021-05-05",
          "2021-05-05",
          "2021-05-05",
          "2021-05-05",
          "2021-05-05",
          "2021-05-05",
          "2021-05-05",
          "2021-05-05",
          "2021-05-05",
          "2021-05-04",
          "2021-05-04",
          "2021-05-04",
          "2021-05-04",
          "2021-05-04",
          "2021-05-04"
         ],
         "lat": [
          9.4277,
          10.1848,
          7.9804,
          8.8474,
          10.1762,
          9.5127,
          9.6131,
          9.8978,
          8.524,
          9.5142,
          10.9358,
          8.7846,
          9.4466,
          9.5779,
          8.7659,
          9.6619,
          14.0952,
          7.9336,
          8.5829,
          9.7287,
          9.2084,
          9.1242,
          9.5667,
          10.7969,
          8.7956,
          10.1448,
          13.8949,
          9.1378,
          9.9228,
          9.7987
         ],
         "legendgroup": "",
         "lon": [
          -83.9117,
          -84.0883,
          -83.1524,
          -82.9829,
          -83.8806,
          -84.9676,
          -84.9445,
          -83.609,
          -82.8923,
          -83.8732,
          -84.0829,
          -82.999,
          -84.0735,
          -83.9976,
          -82.7701,
          -84.8643,
          -84.3646,
          -82.6912,
          -83.2383,
          -84.1483,
          -82.519,
          -85.5378,
          -84.7694,
          -85.7022,
          -83.755,
          -85.4857,
          -85.7602,
          -84.1697,
          -84.4219,
          -84.1552
         ],
         "marker": {
          "color": "blue"
         },
         "mode": "markers",
         "name": "",
         "showlegend": false,
         "subplot": "mapbox",
         "type": "scattermapbox"
        }
       ],
       "layout": {
        "legend": {
         "tracegroupgap": 0
        },
        "mapbox": {
         "center": {
          "lat": 9.719406666666666,
          "lon": -84.06028
         },
         "domain": {
          "x": [
           0,
           1
          ],
          "y": [
           0,
           1
          ]
         },
         "style": "open-street-map",
         "zoom": 8
        },
        "margin": {
         "b": 0,
         "l": 0,
         "r": 0,
         "t": 0
        },
        "template": {
         "data": {
          "bar": [
           {
            "error_x": {
             "color": "#2a3f5f"
            },
            "error_y": {
             "color": "#2a3f5f"
            },
            "marker": {
             "line": {
              "color": "#E5ECF6",
              "width": 0.5
             }
            },
            "type": "bar"
           }
          ],
          "barpolar": [
           {
            "marker": {
             "line": {
              "color": "#E5ECF6",
              "width": 0.5
             }
            },
            "type": "barpolar"
           }
          ],
          "carpet": [
           {
            "aaxis": {
             "endlinecolor": "#2a3f5f",
             "gridcolor": "white",
             "linecolor": "white",
             "minorgridcolor": "white",
             "startlinecolor": "#2a3f5f"
            },
            "baxis": {
             "endlinecolor": "#2a3f5f",
             "gridcolor": "white",
             "linecolor": "white",
             "minorgridcolor": "white",
             "startlinecolor": "#2a3f5f"
            },
            "type": "carpet"
           }
          ],
          "choropleth": [
           {
            "colorbar": {
             "outlinewidth": 0,
             "ticks": ""
            },
            "type": "choropleth"
           }
          ],
          "contour": [
           {
            "colorbar": {
             "outlinewidth": 0,
             "ticks": ""
            },
            "colorscale": [
             [
              0,
              "#0d0887"
             ],
             [
              0.1111111111111111,
              "#46039f"
             ],
             [
              0.2222222222222222,
              "#7201a8"
             ],
             [
              0.3333333333333333,
              "#9c179e"
             ],
             [
              0.4444444444444444,
              "#bd3786"
             ],
             [
              0.5555555555555556,
              "#d8576b"
             ],
             [
              0.6666666666666666,
              "#ed7953"
             ],
             [
              0.7777777777777778,
              "#fb9f3a"
             ],
             [
              0.8888888888888888,
              "#fdca26"
             ],
             [
              1,
              "#f0f921"
             ]
            ],
            "type": "contour"
           }
          ],
          "contourcarpet": [
           {
            "colorbar": {
             "outlinewidth": 0,
             "ticks": ""
            },
            "type": "contourcarpet"
           }
          ],
          "heatmap": [
           {
            "colorbar": {
             "outlinewidth": 0,
             "ticks": ""
            },
            "colorscale": [
             [
              0,
              "#0d0887"
             ],
             [
              0.1111111111111111,
              "#46039f"
             ],
             [
              0.2222222222222222,
              "#7201a8"
             ],
             [
              0.3333333333333333,
              "#9c179e"
             ],
             [
              0.4444444444444444,
              "#bd3786"
             ],
             [
              0.5555555555555556,
              "#d8576b"
             ],
             [
              0.6666666666666666,
              "#ed7953"
             ],
             [
              0.7777777777777778,
              "#fb9f3a"
             ],
             [
              0.8888888888888888,
              "#fdca26"
             ],
             [
              1,
              "#f0f921"
             ]
            ],
            "type": "heatmap"
           }
          ],
          "heatmapgl": [
           {
            "colorbar": {
             "outlinewidth": 0,
             "ticks": ""
            },
            "colorscale": [
             [
              0,
              "#0d0887"
             ],
             [
              0.1111111111111111,
              "#46039f"
             ],
             [
              0.2222222222222222,
              "#7201a8"
             ],
             [
              0.3333333333333333,
              "#9c179e"
             ],
             [
              0.4444444444444444,
              "#bd3786"
             ],
             [
              0.5555555555555556,
              "#d8576b"
             ],
             [
              0.6666666666666666,
              "#ed7953"
             ],
             [
              0.7777777777777778,
              "#fb9f3a"
             ],
             [
              0.8888888888888888,
              "#fdca26"
             ],
             [
              1,
              "#f0f921"
             ]
            ],
            "type": "heatmapgl"
           }
          ],
          "histogram": [
           {
            "marker": {
             "colorbar": {
              "outlinewidth": 0,
              "ticks": ""
             }
            },
            "type": "histogram"
           }
          ],
          "histogram2d": [
           {
            "colorbar": {
             "outlinewidth": 0,
             "ticks": ""
            },
            "colorscale": [
             [
              0,
              "#0d0887"
             ],
             [
              0.1111111111111111,
              "#46039f"
             ],
             [
              0.2222222222222222,
              "#7201a8"
             ],
             [
              0.3333333333333333,
              "#9c179e"
             ],
             [
              0.4444444444444444,
              "#bd3786"
             ],
             [
              0.5555555555555556,
              "#d8576b"
             ],
             [
              0.6666666666666666,
              "#ed7953"
             ],
             [
              0.7777777777777778,
              "#fb9f3a"
             ],
             [
              0.8888888888888888,
              "#fdca26"
             ],
             [
              1,
              "#f0f921"
             ]
            ],
            "type": "histogram2d"
           }
          ],
          "histogram2dcontour": [
           {
            "colorbar": {
             "outlinewidth": 0,
             "ticks": ""
            },
            "colorscale": [
             [
              0,
              "#0d0887"
             ],
             [
              0.1111111111111111,
              "#46039f"
             ],
             [
              0.2222222222222222,
              "#7201a8"
             ],
             [
              0.3333333333333333,
              "#9c179e"
             ],
             [
              0.4444444444444444,
              "#bd3786"
             ],
             [
              0.5555555555555556,
              "#d8576b"
             ],
             [
              0.6666666666666666,
              "#ed7953"
             ],
             [
              0.7777777777777778,
              "#fb9f3a"
             ],
             [
              0.8888888888888888,
              "#fdca26"
             ],
             [
              1,
              "#f0f921"
             ]
            ],
            "type": "histogram2dcontour"
           }
          ],
          "mesh3d": [
           {
            "colorbar": {
             "outlinewidth": 0,
             "ticks": ""
            },
            "type": "mesh3d"
           }
          ],
          "parcoords": [
           {
            "line": {
             "colorbar": {
              "outlinewidth": 0,
              "ticks": ""
             }
            },
            "type": "parcoords"
           }
          ],
          "pie": [
           {
            "automargin": true,
            "type": "pie"
           }
          ],
          "scatter": [
           {
            "marker": {
             "colorbar": {
              "outlinewidth": 0,
              "ticks": ""
             }
            },
            "type": "scatter"
           }
          ],
          "scatter3d": [
           {
            "line": {
             "colorbar": {
              "outlinewidth": 0,
              "ticks": ""
             }
            },
            "marker": {
             "colorbar": {
              "outlinewidth": 0,
              "ticks": ""
             }
            },
            "type": "scatter3d"
           }
          ],
          "scattercarpet": [
           {
            "marker": {
             "colorbar": {
              "outlinewidth": 0,
              "ticks": ""
             }
            },
            "type": "scattercarpet"
           }
          ],
          "scattergeo": [
           {
            "marker": {
             "colorbar": {
              "outlinewidth": 0,
              "ticks": ""
             }
            },
            "type": "scattergeo"
           }
          ],
          "scattergl": [
           {
            "marker": {
             "colorbar": {
              "outlinewidth": 0,
              "ticks": ""
             }
            },
            "type": "scattergl"
           }
          ],
          "scattermapbox": [
           {
            "marker": {
             "colorbar": {
              "outlinewidth": 0,
              "ticks": ""
             }
            },
            "type": "scattermapbox"
           }
          ],
          "scatterpolar": [
           {
            "marker": {
             "colorbar": {
              "outlinewidth": 0,
              "ticks": ""
             }
            },
            "type": "scatterpolar"
           }
          ],
          "scatterpolargl": [
           {
            "marker": {
             "colorbar": {
              "outlinewidth": 0,
              "ticks": ""
             }
            },
            "type": "scatterpolargl"
           }
          ],
          "scatterternary": [
           {
            "marker": {
             "colorbar": {
              "outlinewidth": 0,
              "ticks": ""
             }
            },
            "type": "scatterternary"
           }
          ],
          "surface": [
           {
            "colorbar": {
             "outlinewidth": 0,
             "ticks": ""
            },
            "colorscale": [
             [
              0,
              "#0d0887"
             ],
             [
              0.1111111111111111,
              "#46039f"
             ],
             [
              0.2222222222222222,
              "#7201a8"
             ],
             [
              0.3333333333333333,
              "#9c179e"
             ],
             [
              0.4444444444444444,
              "#bd3786"
             ],
             [
              0.5555555555555556,
              "#d8576b"
             ],
             [
              0.6666666666666666,
              "#ed7953"
             ],
             [
              0.7777777777777778,
              "#fb9f3a"
             ],
             [
              0.8888888888888888,
              "#fdca26"
             ],
             [
              1,
              "#f0f921"
             ]
            ],
            "type": "surface"
           }
          ],
          "table": [
           {
            "cells": {
             "fill": {
              "color": "#EBF0F8"
             },
             "line": {
              "color": "white"
             }
            },
            "header": {
             "fill": {
              "color": "#C8D4E3"
             },
             "line": {
              "color": "white"
             }
            },
            "type": "table"
           }
          ]
         },
         "layout": {
          "annotationdefaults": {
           "arrowcolor": "#2a3f5f",
           "arrowhead": 0,
           "arrowwidth": 1
          },
          "autotypenumbers": "strict",
          "coloraxis": {
           "colorbar": {
            "outlinewidth": 0,
            "ticks": ""
           }
          },
          "colorscale": {
           "diverging": [
            [
             0,
             "#8e0152"
            ],
            [
             0.1,
             "#c51b7d"
            ],
            [
             0.2,
             "#de77ae"
            ],
            [
             0.3,
             "#f1b6da"
            ],
            [
             0.4,
             "#fde0ef"
            ],
            [
             0.5,
             "#f7f7f7"
            ],
            [
             0.6,
             "#e6f5d0"
            ],
            [
             0.7,
             "#b8e186"
            ],
            [
             0.8,
             "#7fbc41"
            ],
            [
             0.9,
             "#4d9221"
            ],
            [
             1,
             "#276419"
            ]
           ],
           "sequential": [
            [
             0,
             "#0d0887"
            ],
            [
             0.1111111111111111,
             "#46039f"
            ],
            [
             0.2222222222222222,
             "#7201a8"
            ],
            [
             0.3333333333333333,
             "#9c179e"
            ],
            [
             0.4444444444444444,
             "#bd3786"
            ],
            [
             0.5555555555555556,
             "#d8576b"
            ],
            [
             0.6666666666666666,
             "#ed7953"
            ],
            [
             0.7777777777777778,
             "#fb9f3a"
            ],
            [
             0.8888888888888888,
             "#fdca26"
            ],
            [
             1,
             "#f0f921"
            ]
           ],
           "sequentialminus": [
            [
             0,
             "#0d0887"
            ],
            [
             0.1111111111111111,
             "#46039f"
            ],
            [
             0.2222222222222222,
             "#7201a8"
            ],
            [
             0.3333333333333333,
             "#9c179e"
            ],
            [
             0.4444444444444444,
             "#bd3786"
            ],
            [
             0.5555555555555556,
             "#d8576b"
            ],
            [
             0.6666666666666666,
             "#ed7953"
            ],
            [
             0.7777777777777778,
             "#fb9f3a"
            ],
            [
             0.8888888888888888,
             "#fdca26"
            ],
            [
             1,
             "#f0f921"
            ]
           ]
          },
          "colorway": [
           "#636efa",
           "#EF553B",
           "#00cc96",
           "#ab63fa",
           "#FFA15A",
           "#19d3f3",
           "#FF6692",
           "#B6E880",
           "#FF97FF",
           "#FECB52"
          ],
          "font": {
           "color": "#2a3f5f"
          },
          "geo": {
           "bgcolor": "white",
           "lakecolor": "white",
           "landcolor": "#E5ECF6",
           "showlakes": true,
           "showland": true,
           "subunitcolor": "white"
          },
          "hoverlabel": {
           "align": "left"
          },
          "hovermode": "closest",
          "mapbox": {
           "style": "light"
          },
          "paper_bgcolor": "white",
          "plot_bgcolor": "#E5ECF6",
          "polar": {
           "angularaxis": {
            "gridcolor": "white",
            "linecolor": "white",
            "ticks": ""
           },
           "bgcolor": "#E5ECF6",
           "radialaxis": {
            "gridcolor": "white",
            "linecolor": "white",
            "ticks": ""
           }
          },
          "scene": {
           "xaxis": {
            "backgroundcolor": "#E5ECF6",
            "gridcolor": "white",
            "gridwidth": 2,
            "linecolor": "white",
            "showbackground": true,
            "ticks": "",
            "zerolinecolor": "white"
           },
           "yaxis": {
            "backgroundcolor": "#E5ECF6",
            "gridcolor": "white",
            "gridwidth": 2,
            "linecolor": "white",
            "showbackground": true,
            "ticks": "",
            "zerolinecolor": "white"
           },
           "zaxis": {
            "backgroundcolor": "#E5ECF6",
            "gridcolor": "white",
            "gridwidth": 2,
            "linecolor": "white",
            "showbackground": true,
            "ticks": "",
            "zerolinecolor": "white"
           }
          },
          "shapedefaults": {
           "line": {
            "color": "#2a3f5f"
           }
          },
          "ternary": {
           "aaxis": {
            "gridcolor": "white",
            "linecolor": "white",
            "ticks": ""
           },
           "baxis": {
            "gridcolor": "white",
            "linecolor": "white",
            "ticks": ""
           },
           "bgcolor": "#E5ECF6",
           "caxis": {
            "gridcolor": "white",
            "linecolor": "white",
            "ticks": ""
           }
          },
          "title": {
           "x": 0.05
          },
          "xaxis": {
           "automargin": true,
           "gridcolor": "white",
           "linecolor": "white",
           "ticks": "",
           "title": {
            "standoff": 15
           },
           "zerolinecolor": "white",
           "zerolinewidth": 2
          },
          "yaxis": {
           "automargin": true,
           "gridcolor": "white",
           "linecolor": "white",
           "ticks": "",
           "title": {
            "standoff": 15
           },
           "zerolinecolor": "white",
           "zerolinewidth": 2
          }
         }
        }
       }
      }
     },
     "metadata": {}
    }
   ],
   "source": [
    "fig = px.scatter_mapbox(df, lat=\"Latitude\", lon=\"Longitude\", hover_name=\"Date\", hover_data=[\"Local Time\", \"Magnitude\", \"Deepth(KM)\", \"Coordinates\"], color_discrete_sequence=[\"blue\"])\n",
    "fig.update_layout(mapbox_style=\"open-street-map\")\n",
    "fig.update_layout(margin={\"r\":0,\"t\":0,\"l\":0,\"b\":0})\n",
    "fig.show()"
   ]
  },
  {
   "cell_type": "code",
   "execution_count": 20,
   "metadata": {},
   "outputs": [],
   "source": [
    "fig.write_html(\"C:\\\\Users\\jocerdas\\\\OneDrive - Microsoft\\Documents\\\\Python\\\\Python Projects\\\\earthquakers\\\\cr_earthquakes\\\\cr_earthquakes.html\")"
   ]
  },
  {
   "cell_type": "code",
   "execution_count": 19,
   "metadata": {},
   "outputs": [
    {
     "output_type": "display_data",
     "data": {
      "application/vnd.plotly.v1+json": {
       "config": {
        "plotlyServerURL": "https://plot.ly"
       },
       "data": [
        {
         "coloraxis": "coloraxis",
         "hovertemplate": "Magnitude=%{z}<br>Latitude=%{lat}<br>Longitude=%{lon}<extra></extra>",
         "lat": [
          9.4277,
          10.1848,
          7.9804,
          8.8474,
          10.1762,
          9.5127,
          9.6131,
          9.8978,
          8.524,
          9.5142,
          10.9358,
          8.7846,
          9.4466,
          9.5779,
          8.7659,
          9.6619,
          14.0952,
          7.9336,
          8.5829,
          9.7287,
          9.2084,
          9.1242,
          9.5667,
          10.7969,
          8.7956,
          10.1448,
          13.8949,
          9.1378,
          9.9228,
          9.7987
         ],
         "lon": [
          -83.9117,
          -84.0883,
          -83.1524,
          -82.9829,
          -83.8806,
          -84.9676,
          -84.9445,
          -83.609,
          -82.8923,
          -83.8732,
          -84.0829,
          -82.999,
          -84.0735,
          -83.9976,
          -82.7701,
          -84.8643,
          -84.3646,
          -82.6912,
          -83.2383,
          -84.1483,
          -82.519,
          -85.5378,
          -84.7694,
          -85.7022,
          -83.755,
          -85.4857,
          -85.7602,
          -84.1697,
          -84.4219,
          -84.1552
         ],
         "name": "",
         "radius": 10,
         "subplot": "mapbox",
         "type": "densitymapbox",
         "z": [
          2.1,
          2.1,
          2,
          2.9,
          2.6,
          2.3,
          2,
          1,
          2.2,
          1.5,
          2.6,
          2.1,
          1.8,
          1.5,
          2,
          1.7,
          3.8,
          2.4,
          2.3,
          0.9,
          2.7,
          3.1,
          2,
          2.9,
          2.2,
          2.4,
          4.2,
          3.2,
          2.2,
          3.2
         ]
        }
       ],
       "layout": {
        "coloraxis": {
         "colorbar": {
          "title": {
           "text": "Magnitude"
          }
         },
         "colorscale": [
          [
           0,
           "#0d0887"
          ],
          [
           0.1111111111111111,
           "#46039f"
          ],
          [
           0.2222222222222222,
           "#7201a8"
          ],
          [
           0.3333333333333333,
           "#9c179e"
          ],
          [
           0.4444444444444444,
           "#bd3786"
          ],
          [
           0.5555555555555556,
           "#d8576b"
          ],
          [
           0.6666666666666666,
           "#ed7953"
          ],
          [
           0.7777777777777778,
           "#fb9f3a"
          ],
          [
           0.8888888888888888,
           "#fdca26"
          ],
          [
           1,
           "#f0f921"
          ]
         ]
        },
        "legend": {
         "tracegroupgap": 0
        },
        "mapbox": {
         "center": {
          "lat": 9.719406666666666,
          "lon": -84.06028
         },
         "domain": {
          "x": [
           0,
           1
          ],
          "y": [
           0,
           1
          ]
         },
         "style": "open-street-map",
         "zoom": 8
        },
        "margin": {
         "b": 0,
         "l": 0,
         "r": 0,
         "t": 0
        },
        "template": {
         "data": {
          "bar": [
           {
            "error_x": {
             "color": "#2a3f5f"
            },
            "error_y": {
             "color": "#2a3f5f"
            },
            "marker": {
             "line": {
              "color": "#E5ECF6",
              "width": 0.5
             }
            },
            "type": "bar"
           }
          ],
          "barpolar": [
           {
            "marker": {
             "line": {
              "color": "#E5ECF6",
              "width": 0.5
             }
            },
            "type": "barpolar"
           }
          ],
          "carpet": [
           {
            "aaxis": {
             "endlinecolor": "#2a3f5f",
             "gridcolor": "white",
             "linecolor": "white",
             "minorgridcolor": "white",
             "startlinecolor": "#2a3f5f"
            },
            "baxis": {
             "endlinecolor": "#2a3f5f",
             "gridcolor": "white",
             "linecolor": "white",
             "minorgridcolor": "white",
             "startlinecolor": "#2a3f5f"
            },
            "type": "carpet"
           }
          ],
          "choropleth": [
           {
            "colorbar": {
             "outlinewidth": 0,
             "ticks": ""
            },
            "type": "choropleth"
           }
          ],
          "contour": [
           {
            "colorbar": {
             "outlinewidth": 0,
             "ticks": ""
            },
            "colorscale": [
             [
              0,
              "#0d0887"
             ],
             [
              0.1111111111111111,
              "#46039f"
             ],
             [
              0.2222222222222222,
              "#7201a8"
             ],
             [
              0.3333333333333333,
              "#9c179e"
             ],
             [
              0.4444444444444444,
              "#bd3786"
             ],
             [
              0.5555555555555556,
              "#d8576b"
             ],
             [
              0.6666666666666666,
              "#ed7953"
             ],
             [
              0.7777777777777778,
              "#fb9f3a"
             ],
             [
              0.8888888888888888,
              "#fdca26"
             ],
             [
              1,
              "#f0f921"
             ]
            ],
            "type": "contour"
           }
          ],
          "contourcarpet": [
           {
            "colorbar": {
             "outlinewidth": 0,
             "ticks": ""
            },
            "type": "contourcarpet"
           }
          ],
          "heatmap": [
           {
            "colorbar": {
             "outlinewidth": 0,
             "ticks": ""
            },
            "colorscale": [
             [
              0,
              "#0d0887"
             ],
             [
              0.1111111111111111,
              "#46039f"
             ],
             [
              0.2222222222222222,
              "#7201a8"
             ],
             [
              0.3333333333333333,
              "#9c179e"
             ],
             [
              0.4444444444444444,
              "#bd3786"
             ],
             [
              0.5555555555555556,
              "#d8576b"
             ],
             [
              0.6666666666666666,
              "#ed7953"
             ],
             [
              0.7777777777777778,
              "#fb9f3a"
             ],
             [
              0.8888888888888888,
              "#fdca26"
             ],
             [
              1,
              "#f0f921"
             ]
            ],
            "type": "heatmap"
           }
          ],
          "heatmapgl": [
           {
            "colorbar": {
             "outlinewidth": 0,
             "ticks": ""
            },
            "colorscale": [
             [
              0,
              "#0d0887"
             ],
             [
              0.1111111111111111,
              "#46039f"
             ],
             [
              0.2222222222222222,
              "#7201a8"
             ],
             [
              0.3333333333333333,
              "#9c179e"
             ],
             [
              0.4444444444444444,
              "#bd3786"
             ],
             [
              0.5555555555555556,
              "#d8576b"
             ],
             [
              0.6666666666666666,
              "#ed7953"
             ],
             [
              0.7777777777777778,
              "#fb9f3a"
             ],
             [
              0.8888888888888888,
              "#fdca26"
             ],
             [
              1,
              "#f0f921"
             ]
            ],
            "type": "heatmapgl"
           }
          ],
          "histogram": [
           {
            "marker": {
             "colorbar": {
              "outlinewidth": 0,
              "ticks": ""
             }
            },
            "type": "histogram"
           }
          ],
          "histogram2d": [
           {
            "colorbar": {
             "outlinewidth": 0,
             "ticks": ""
            },
            "colorscale": [
             [
              0,
              "#0d0887"
             ],
             [
              0.1111111111111111,
              "#46039f"
             ],
             [
              0.2222222222222222,
              "#7201a8"
             ],
             [
              0.3333333333333333,
              "#9c179e"
             ],
             [
              0.4444444444444444,
              "#bd3786"
             ],
             [
              0.5555555555555556,
              "#d8576b"
             ],
             [
              0.6666666666666666,
              "#ed7953"
             ],
             [
              0.7777777777777778,
              "#fb9f3a"
             ],
             [
              0.8888888888888888,
              "#fdca26"
             ],
             [
              1,
              "#f0f921"
             ]
            ],
            "type": "histogram2d"
           }
          ],
          "histogram2dcontour": [
           {
            "colorbar": {
             "outlinewidth": 0,
             "ticks": ""
            },
            "colorscale": [
             [
              0,
              "#0d0887"
             ],
             [
              0.1111111111111111,
              "#46039f"
             ],
             [
              0.2222222222222222,
              "#7201a8"
             ],
             [
              0.3333333333333333,
              "#9c179e"
             ],
             [
              0.4444444444444444,
              "#bd3786"
             ],
             [
              0.5555555555555556,
              "#d8576b"
             ],
             [
              0.6666666666666666,
              "#ed7953"
             ],
             [
              0.7777777777777778,
              "#fb9f3a"
             ],
             [
              0.8888888888888888,
              "#fdca26"
             ],
             [
              1,
              "#f0f921"
             ]
            ],
            "type": "histogram2dcontour"
           }
          ],
          "mesh3d": [
           {
            "colorbar": {
             "outlinewidth": 0,
             "ticks": ""
            },
            "type": "mesh3d"
           }
          ],
          "parcoords": [
           {
            "line": {
             "colorbar": {
              "outlinewidth": 0,
              "ticks": ""
             }
            },
            "type": "parcoords"
           }
          ],
          "pie": [
           {
            "automargin": true,
            "type": "pie"
           }
          ],
          "scatter": [
           {
            "marker": {
             "colorbar": {
              "outlinewidth": 0,
              "ticks": ""
             }
            },
            "type": "scatter"
           }
          ],
          "scatter3d": [
           {
            "line": {
             "colorbar": {
              "outlinewidth": 0,
              "ticks": ""
             }
            },
            "marker": {
             "colorbar": {
              "outlinewidth": 0,
              "ticks": ""
             }
            },
            "type": "scatter3d"
           }
          ],
          "scattercarpet": [
           {
            "marker": {
             "colorbar": {
              "outlinewidth": 0,
              "ticks": ""
             }
            },
            "type": "scattercarpet"
           }
          ],
          "scattergeo": [
           {
            "marker": {
             "colorbar": {
              "outlinewidth": 0,
              "ticks": ""
             }
            },
            "type": "scattergeo"
           }
          ],
          "scattergl": [
           {
            "marker": {
             "colorbar": {
              "outlinewidth": 0,
              "ticks": ""
             }
            },
            "type": "scattergl"
           }
          ],
          "scattermapbox": [
           {
            "marker": {
             "colorbar": {
              "outlinewidth": 0,
              "ticks": ""
             }
            },
            "type": "scattermapbox"
           }
          ],
          "scatterpolar": [
           {
            "marker": {
             "colorbar": {
              "outlinewidth": 0,
              "ticks": ""
             }
            },
            "type": "scatterpolar"
           }
          ],
          "scatterpolargl": [
           {
            "marker": {
             "colorbar": {
              "outlinewidth": 0,
              "ticks": ""
             }
            },
            "type": "scatterpolargl"
           }
          ],
          "scatterternary": [
           {
            "marker": {
             "colorbar": {
              "outlinewidth": 0,
              "ticks": ""
             }
            },
            "type": "scatterternary"
           }
          ],
          "surface": [
           {
            "colorbar": {
             "outlinewidth": 0,
             "ticks": ""
            },
            "colorscale": [
             [
              0,
              "#0d0887"
             ],
             [
              0.1111111111111111,
              "#46039f"
             ],
             [
              0.2222222222222222,
              "#7201a8"
             ],
             [
              0.3333333333333333,
              "#9c179e"
             ],
             [
              0.4444444444444444,
              "#bd3786"
             ],
             [
              0.5555555555555556,
              "#d8576b"
             ],
             [
              0.6666666666666666,
              "#ed7953"
             ],
             [
              0.7777777777777778,
              "#fb9f3a"
             ],
             [
              0.8888888888888888,
              "#fdca26"
             ],
             [
              1,
              "#f0f921"
             ]
            ],
            "type": "surface"
           }
          ],
          "table": [
           {
            "cells": {
             "fill": {
              "color": "#EBF0F8"
             },
             "line": {
              "color": "white"
             }
            },
            "header": {
             "fill": {
              "color": "#C8D4E3"
             },
             "line": {
              "color": "white"
             }
            },
            "type": "table"
           }
          ]
         },
         "layout": {
          "annotationdefaults": {
           "arrowcolor": "#2a3f5f",
           "arrowhead": 0,
           "arrowwidth": 1
          },
          "autotypenumbers": "strict",
          "coloraxis": {
           "colorbar": {
            "outlinewidth": 0,
            "ticks": ""
           }
          },
          "colorscale": {
           "diverging": [
            [
             0,
             "#8e0152"
            ],
            [
             0.1,
             "#c51b7d"
            ],
            [
             0.2,
             "#de77ae"
            ],
            [
             0.3,
             "#f1b6da"
            ],
            [
             0.4,
             "#fde0ef"
            ],
            [
             0.5,
             "#f7f7f7"
            ],
            [
             0.6,
             "#e6f5d0"
            ],
            [
             0.7,
             "#b8e186"
            ],
            [
             0.8,
             "#7fbc41"
            ],
            [
             0.9,
             "#4d9221"
            ],
            [
             1,
             "#276419"
            ]
           ],
           "sequential": [
            [
             0,
             "#0d0887"
            ],
            [
             0.1111111111111111,
             "#46039f"
            ],
            [
             0.2222222222222222,
             "#7201a8"
            ],
            [
             0.3333333333333333,
             "#9c179e"
            ],
            [
             0.4444444444444444,
             "#bd3786"
            ],
            [
             0.5555555555555556,
             "#d8576b"
            ],
            [
             0.6666666666666666,
             "#ed7953"
            ],
            [
             0.7777777777777778,
             "#fb9f3a"
            ],
            [
             0.8888888888888888,
             "#fdca26"
            ],
            [
             1,
             "#f0f921"
            ]
           ],
           "sequentialminus": [
            [
             0,
             "#0d0887"
            ],
            [
             0.1111111111111111,
             "#46039f"
            ],
            [
             0.2222222222222222,
             "#7201a8"
            ],
            [
             0.3333333333333333,
             "#9c179e"
            ],
            [
             0.4444444444444444,
             "#bd3786"
            ],
            [
             0.5555555555555556,
             "#d8576b"
            ],
            [
             0.6666666666666666,
             "#ed7953"
            ],
            [
             0.7777777777777778,
             "#fb9f3a"
            ],
            [
             0.8888888888888888,
             "#fdca26"
            ],
            [
             1,
             "#f0f921"
            ]
           ]
          },
          "colorway": [
           "#636efa",
           "#EF553B",
           "#00cc96",
           "#ab63fa",
           "#FFA15A",
           "#19d3f3",
           "#FF6692",
           "#B6E880",
           "#FF97FF",
           "#FECB52"
          ],
          "font": {
           "color": "#2a3f5f"
          },
          "geo": {
           "bgcolor": "white",
           "lakecolor": "white",
           "landcolor": "#E5ECF6",
           "showlakes": true,
           "showland": true,
           "subunitcolor": "white"
          },
          "hoverlabel": {
           "align": "left"
          },
          "hovermode": "closest",
          "mapbox": {
           "style": "light"
          },
          "paper_bgcolor": "white",
          "plot_bgcolor": "#E5ECF6",
          "polar": {
           "angularaxis": {
            "gridcolor": "white",
            "linecolor": "white",
            "ticks": ""
           },
           "bgcolor": "#E5ECF6",
           "radialaxis": {
            "gridcolor": "white",
            "linecolor": "white",
            "ticks": ""
           }
          },
          "scene": {
           "xaxis": {
            "backgroundcolor": "#E5ECF6",
            "gridcolor": "white",
            "gridwidth": 2,
            "linecolor": "white",
            "showbackground": true,
            "ticks": "",
            "zerolinecolor": "white"
           },
           "yaxis": {
            "backgroundcolor": "#E5ECF6",
            "gridcolor": "white",
            "gridwidth": 2,
            "linecolor": "white",
            "showbackground": true,
            "ticks": "",
            "zerolinecolor": "white"
           },
           "zaxis": {
            "backgroundcolor": "#E5ECF6",
            "gridcolor": "white",
            "gridwidth": 2,
            "linecolor": "white",
            "showbackground": true,
            "ticks": "",
            "zerolinecolor": "white"
           }
          },
          "shapedefaults": {
           "line": {
            "color": "#2a3f5f"
           }
          },
          "ternary": {
           "aaxis": {
            "gridcolor": "white",
            "linecolor": "white",
            "ticks": ""
           },
           "baxis": {
            "gridcolor": "white",
            "linecolor": "white",
            "ticks": ""
           },
           "bgcolor": "#E5ECF6",
           "caxis": {
            "gridcolor": "white",
            "linecolor": "white",
            "ticks": ""
           }
          },
          "title": {
           "x": 0.05
          },
          "xaxis": {
           "automargin": true,
           "gridcolor": "white",
           "linecolor": "white",
           "ticks": "",
           "title": {
            "standoff": 15
           },
           "zerolinecolor": "white",
           "zerolinewidth": 2
          },
          "yaxis": {
           "automargin": true,
           "gridcolor": "white",
           "linecolor": "white",
           "ticks": "",
           "title": {
            "standoff": 15
           },
           "zerolinecolor": "white",
           "zerolinewidth": 2
          }
         }
        }
       }
      }
     },
     "metadata": {}
    }
   ],
   "source": [
    "fig2 = px.density_mapbox(df, lat=\"Latitude\", lon=\"Longitude\", z=\"Magnitude\", radius=10, mapbox_style=\"open-street-map\")\n",
    "fig2.update_layout(margin={\"r\":0,\"t\":0,\"l\":0,\"b\":0})\n",
    "fig2.show()"
   ]
  },
  {
   "cell_type": "code",
   "execution_count": null,
   "metadata": {},
   "outputs": [],
   "source": []
  }
 ]
}